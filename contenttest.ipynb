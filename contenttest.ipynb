{
 "cells": [
  {
   "cell_type": "code",
   "execution_count": 1,
   "metadata": {},
   "outputs": [
    {
     "name": "stderr",
     "output_type": "stream",
     "text": [
      "c:\\Users\\maddy\\anaconda3\\envs\\goodreads\\Lib\\site-packages\\sentence_transformers\\cross_encoder\\CrossEncoder.py:13: TqdmExperimentalWarning: Using `tqdm.autonotebook.tqdm` in notebook mode. Use `tqdm.tqdm` instead to force console mode (e.g. in jupyter console)\n",
      "  from tqdm.autonotebook import tqdm, trange\n"
     ]
    }
   ],
   "source": [
    "import pandas as pd\n",
    "import numpy as np\n",
    "from sentence_transformers import SentenceTransformer\n",
    "from sklearn.metrics.pairwise import cosine_similarity\n",
    "from sklearn.decomposition import PCA\n",
    "from sklearn.model_selection import train_test_split\n",
    "from sklearn.metrics import mean_squared_error\n",
    "from tqdm import tqdm\n",
    "import os\n",
    "tqdm.pandas()\n",
    "pd.options.display.max_colwidth = 200"
   ]
  },
  {
   "cell_type": "code",
   "execution_count": 2,
   "metadata": {},
   "outputs": [],
   "source": [
    "# Load data\n",
    "read = pd.read_pickle('Pickle/read.pkl')\n",
    "books = pd.read_pickle('Pickle/books.pkl')"
   ]
  },
  {
   "cell_type": "code",
   "execution_count": 3,
   "metadata": {},
   "outputs": [],
   "source": [
    "# Function to drop empty rows\n",
    "def drop_empty_rows(df, column_name):\n",
    "    df_cleaned = df.dropna(subset=[column_name])\n",
    "    return df_cleaned\n",
    "\n",
    "books = drop_empty_rows(books, 'description')\n",
    "books = books.reset_index(drop=True)"
   ]
  },
  {
   "cell_type": "code",
   "execution_count": 4,
   "metadata": {},
   "outputs": [],
   "source": [
    "# Identify valid book IDs present in both dataframes\n",
    "valid_book_ids = set(read['book_id']).intersection(set(books['book_id']))\n",
    "\n",
    "# Filter the books dataframe\n",
    "books_filtered = books[books['book_id'].isin(valid_book_ids)]\n",
    "\n",
    "# Filter the read dataframe\n",
    "read_filtered = read[read['book_id'].isin(valid_book_ids)]\n"
   ]
  },
  {
   "cell_type": "code",
   "execution_count": 5,
   "metadata": {},
   "outputs": [],
   "source": [
    "books['combined_features'] = books.apply(lambda row: f\"{row['title']} by {row['authors']}, Description: {row['description']}, Shelves: {row['expanded_shelves']}\", axis=1)"
   ]
  },
  {
   "cell_type": "code",
   "execution_count": 6,
   "metadata": {},
   "outputs": [],
   "source": [
    "books = books.reset_index(drop=True)\n",
    "read = read.reset_index(drop=True)"
   ]
  },
  {
   "cell_type": "code",
   "execution_count": 7,
   "metadata": {},
   "outputs": [
    {
     "name": "stderr",
     "output_type": "stream",
     "text": [
      "c:\\Users\\maddy\\anaconda3\\envs\\goodreads\\Lib\\site-packages\\transformers\\tokenization_utils_base.py:1601: FutureWarning: `clean_up_tokenization_spaces` was not set. It will be set to `True` by default. This behavior will be depracted in transformers v4.45, and will be then set to `False` by default. For more details check this issue: https://github.com/huggingface/transformers/issues/31884\n",
      "  warnings.warn(\n"
     ]
    }
   ],
   "source": [
    "model = SentenceTransformer('all-MiniLM-L6-v2')\n"
   ]
  },
  {
   "cell_type": "code",
   "execution_count": 13,
   "metadata": {},
   "outputs": [
    {
     "name": "stderr",
     "output_type": "stream",
     "text": [
      "100%|██████████| 60298/60298 [57:39<00:00, 17.43it/s]  \n"
     ]
    }
   ],
   "source": [
    "\n",
    "# Function to periodically save the embeddings to a separate file\n",
    "def save_embeddings_incrementally(books_df, model, interval=100):\n",
    "    embeddings_file = 'Pickle/embeddings.pkl'\n",
    "    \n",
    "    if os.path.exists(embeddings_file):\n",
    "        embeddings_df = pd.read_pickle(embeddings_file)\n",
    "    else:\n",
    "        embeddings_df = pd.DataFrame(columns=['index', 'embeddings'])\n",
    "    \n",
    "    for i in tqdm(range(len(books_df))):\n",
    "        if i in embeddings_df['index'].values:\n",
    "            continue  # Skip if already processed\n",
    "        \n",
    "        embedding = model.encode(books_df.at[i, 'combined_features'])\n",
    "        new_row = pd.DataFrame({'index': [i], 'embeddings': [embedding]})\n",
    "        embeddings_df = pd.concat([embeddings_df, new_row], ignore_index=True)\n",
    "        \n",
    "        if i % interval == 0:\n",
    "            embeddings_df.to_pickle(embeddings_file)\n",
    "    \n",
    "    # Save the final version\n",
    "    embeddings_df.to_pickle(embeddings_file)\n",
    "\n",
    "# Save embeddings incrementally\n",
    "save_embeddings_incrementally(books, model, interval=100)\n"
   ]
  },
  {
   "cell_type": "code",
   "execution_count": 14,
   "metadata": {},
   "outputs": [
    {
     "name": "stderr",
     "output_type": "stream",
     "text": [
      "100%|██████████| 60298/60298 [03:30<00:00, 286.85it/s]\n"
     ]
    }
   ],
   "source": [
    "# Load the incremental embeddings\n",
    "embeddings_df = pd.read_pickle('Pickle/embeddings.pkl')\n",
    "\n",
    "# Merge embeddings back into the original DataFrame\n",
    "books['embeddings'] = None\n",
    "for i in tqdm(range(len(books))):\n",
    "    if i in embeddings_df['index'].values:\n",
    "        books.at[i, 'embeddings'] = embeddings_df[embeddings_df['index'] == i]['embeddings'].values[0]\n",
    "\n",
    "# Save the final DataFrame with embeddings\n",
    "books.to_pickle('Pickle/books.pkl')\n"
   ]
  },
  {
   "cell_type": "code",
   "execution_count": 15,
   "metadata": {},
   "outputs": [],
   "source": [
    "embedding_matrix = np.vstack(books['embeddings'].values)"
   ]
  },
  {
   "cell_type": "code",
   "execution_count": 16,
   "metadata": {},
   "outputs": [],
   "source": [
    "# Reduce dimensionality\n",
    "pca = PCA(n_components=50)\n",
    "embedding_matrix = pca.fit_transform(embedding_matrix)\n",
    "cosine_sim = cosine_similarity(embedding_matrix, embedding_matrix)"
   ]
  },
  {
   "cell_type": "code",
   "execution_count": 17,
   "metadata": {},
   "outputs": [],
   "source": [
    "train_books, test_books = train_test_split(books, test_size=0.2, random_state=42)"
   ]
  },
  {
   "cell_type": "code",
   "execution_count": 18,
   "metadata": {},
   "outputs": [],
   "source": [
    "train_embedding_matrix = embedding_matrix[train_books.index]"
   ]
  },
  {
   "cell_type": "code",
   "execution_count": 19,
   "metadata": {},
   "outputs": [],
   "source": [
    "cosine_sim_train = cosine_similarity(train_embedding_matrix, train_embedding_matrix)"
   ]
  },
  {
   "cell_type": "code",
   "execution_count": 20,
   "metadata": {},
   "outputs": [],
   "source": [
    "# Function to get recommendations for a given book_id based on the training set\n",
    "def get_recommendations(book_id, train_books_df, train_cosine_sim_matrix, top_n=5):\n",
    "    if book_id not in train_books_df['book_id'].values:\n",
    "        print(f\"Book ID {book_id} not found in the training books dataframe.\")\n",
    "        return pd.DataFrame(columns=['title', 'authors', 'book_id'])\n",
    "\n",
    "    book_idx = train_books_df[train_books_df['book_id'] == book_id].index[0]\n",
    "    sim_scores = list(enumerate(train_cosine_sim_matrix[book_idx]))\n",
    "    sim_scores = sorted(sim_scores, key=lambda x: x[1], reverse=True)\n",
    "    top_book_ids = [train_books_df['book_id'].iloc[i[0]] for i in sim_scores[1:top_n+1]]\n",
    "    top_books = train_books_df[train_books_df['book_id'].isin(top_book_ids)]\n",
    "\n",
    "    return top_books[['title', 'authors', 'book_id']]"
   ]
  },
  {
   "cell_type": "code",
   "execution_count": 21,
   "metadata": {},
   "outputs": [
    {
     "data": {
      "text/plain": [
       "0             231\n",
       "1             421\n",
       "2             422\n",
       "3             423\n",
       "4             426\n",
       "           ...   \n",
       "60293    36470448\n",
       "60294    36471270\n",
       "60295    36478574\n",
       "60296    36484555\n",
       "60297    36488099\n",
       "Name: book_id, Length: 60298, dtype: int64"
      ]
     },
     "execution_count": 21,
     "metadata": {},
     "output_type": "execute_result"
    }
   ],
   "source": [
    "books['book_id']"
   ]
  },
  {
   "cell_type": "code",
   "execution_count": 22,
   "metadata": {},
   "outputs": [
    {
     "data": {
      "text/html": [
       "<div>\n",
       "<style scoped>\n",
       "    .dataframe tbody tr th:only-of-type {\n",
       "        vertical-align: middle;\n",
       "    }\n",
       "\n",
       "    .dataframe tbody tr th {\n",
       "        vertical-align: top;\n",
       "    }\n",
       "\n",
       "    .dataframe thead th {\n",
       "        text-align: right;\n",
       "    }\n",
       "</style>\n",
       "<table border=\"1\" class=\"dataframe\">\n",
       "  <thead>\n",
       "    <tr style=\"text-align: right;\">\n",
       "      <th></th>\n",
       "      <th>title</th>\n",
       "      <th>authors</th>\n",
       "      <th>book_id</th>\n",
       "    </tr>\n",
       "  </thead>\n",
       "  <tbody>\n",
       "    <tr>\n",
       "      <th>10654</th>\n",
       "      <td>Pretty in Plaid</td>\n",
       "      <td>[Jen Lancaster]</td>\n",
       "      <td>5093760</td>\n",
       "    </tr>\n",
       "    <tr>\n",
       "      <th>12567</th>\n",
       "      <td>Bertha Fights Back</td>\n",
       "      <td>[Fran Lewis]</td>\n",
       "      <td>6798045</td>\n",
       "    </tr>\n",
       "    <tr>\n",
       "      <th>33802</th>\n",
       "      <td>American Blonde</td>\n",
       "      <td>[Jennifer Niven]</td>\n",
       "      <td>19731977</td>\n",
       "    </tr>\n",
       "    <tr>\n",
       "      <th>45117</th>\n",
       "      <td>Waveland</td>\n",
       "      <td>[Simone Zelitch]</td>\n",
       "      <td>25518836</td>\n",
       "    </tr>\n",
       "    <tr>\n",
       "      <th>52552</th>\n",
       "      <td>Piecing Me Together</td>\n",
       "      <td>[Renee Watson]</td>\n",
       "      <td>30038963</td>\n",
       "    </tr>\n",
       "  </tbody>\n",
       "</table>\n",
       "</div>"
      ],
      "text/plain": [
       "                     title           authors   book_id\n",
       "10654      Pretty in Plaid   [Jen Lancaster]   5093760\n",
       "12567   Bertha Fights Back      [Fran Lewis]   6798045\n",
       "33802      American Blonde  [Jennifer Niven]  19731977\n",
       "45117             Waveland  [Simone Zelitch]  25518836\n",
       "52552  Piecing Me Together    [Renee Watson]  30038963"
      ]
     },
     "execution_count": 22,
     "metadata": {},
     "output_type": "execute_result"
    }
   ],
   "source": [
    "get_recommendations(231, books, cosine_sim)"
   ]
  },
  {
   "cell_type": "code",
   "execution_count": 23,
   "metadata": {},
   "outputs": [
    {
     "data": {
      "text/html": [
       "<div>\n",
       "<style scoped>\n",
       "    .dataframe tbody tr th:only-of-type {\n",
       "        vertical-align: middle;\n",
       "    }\n",
       "\n",
       "    .dataframe tbody tr th {\n",
       "        vertical-align: top;\n",
       "    }\n",
       "\n",
       "    .dataframe thead th {\n",
       "        text-align: right;\n",
       "    }\n",
       "</style>\n",
       "<table border=\"1\" class=\"dataframe\">\n",
       "  <thead>\n",
       "    <tr style=\"text-align: right;\">\n",
       "      <th></th>\n",
       "      <th>title</th>\n",
       "      <th>authors</th>\n",
       "      <th>book_id</th>\n",
       "    </tr>\n",
       "  </thead>\n",
       "  <tbody>\n",
       "    <tr>\n",
       "      <th>2244</th>\n",
       "      <td>The Death of Rhythm and Blues</td>\n",
       "      <td>[Nelson George]</td>\n",
       "      <td>265062</td>\n",
       "    </tr>\n",
       "    <tr>\n",
       "      <th>6084</th>\n",
       "      <td>The Motown Album: The Sound of Young America</td>\n",
       "      <td>[Ben Fong-Torres, Elvis Mitchell, Berry Gordy, Dave Marsh]</td>\n",
       "      <td>1145265</td>\n",
       "    </tr>\n",
       "    <tr>\n",
       "      <th>7765</th>\n",
       "      <td>One Nation Under A Groove: Motown &amp; American Culture</td>\n",
       "      <td>[Gerald Early]</td>\n",
       "      <td>1891906</td>\n",
       "    </tr>\n",
       "    <tr>\n",
       "      <th>13838</th>\n",
       "      <td>Hard Bop:  Jazz &amp; black music 1955-1965</td>\n",
       "      <td>[David H. Rosenthal]</td>\n",
       "      <td>7802688</td>\n",
       "    </tr>\n",
       "    <tr>\n",
       "      <th>39690</th>\n",
       "      <td>It's a Black-White Thing</td>\n",
       "      <td>[Donna Bryson]</td>\n",
       "      <td>23110590</td>\n",
       "    </tr>\n",
       "  </tbody>\n",
       "</table>\n",
       "</div>"
      ],
      "text/plain": [
       "                                                      title  \\\n",
       "2244                          The Death of Rhythm and Blues   \n",
       "6084           The Motown Album: The Sound of Young America   \n",
       "7765   One Nation Under A Groove: Motown & American Culture   \n",
       "13838               Hard Bop:  Jazz & black music 1955-1965   \n",
       "39690                              It's a Black-White Thing   \n",
       "\n",
       "                                                          authors   book_id  \n",
       "2244                                              [Nelson George]    265062  \n",
       "6084   [Ben Fong-Torres, Elvis Mitchell, Berry Gordy, Dave Marsh]   1145265  \n",
       "7765                                               [Gerald Early]   1891906  \n",
       "13838                                        [David H. Rosenthal]   7802688  \n",
       "39690                                              [Donna Bryson]  23110590  "
      ]
     },
     "execution_count": 23,
     "metadata": {},
     "output_type": "execute_result"
    }
   ],
   "source": [
    "get_recommendations(421, books, cosine_sim)"
   ]
  },
  {
   "cell_type": "code",
   "execution_count": 24,
   "metadata": {},
   "outputs": [
    {
     "data": {
      "text/html": [
       "<div>\n",
       "<style scoped>\n",
       "    .dataframe tbody tr th:only-of-type {\n",
       "        vertical-align: middle;\n",
       "    }\n",
       "\n",
       "    .dataframe tbody tr th {\n",
       "        vertical-align: top;\n",
       "    }\n",
       "\n",
       "    .dataframe thead th {\n",
       "        text-align: right;\n",
       "    }\n",
       "</style>\n",
       "<table border=\"1\" class=\"dataframe\">\n",
       "  <thead>\n",
       "    <tr style=\"text-align: right;\">\n",
       "      <th></th>\n",
       "      <th>title</th>\n",
       "      <th>authors</th>\n",
       "      <th>book_id</th>\n",
       "    </tr>\n",
       "  </thead>\n",
       "  <tbody>\n",
       "    <tr>\n",
       "      <th>3</th>\n",
       "      <td>Where I Was From</td>\n",
       "      <td>[Joan Didion]</td>\n",
       "      <td>423</td>\n",
       "    </tr>\n",
       "    <tr>\n",
       "      <th>938</th>\n",
       "      <td>Alias Grace</td>\n",
       "      <td>[Margaret Atwood]</td>\n",
       "      <td>72579</td>\n",
       "    </tr>\n",
       "    <tr>\n",
       "      <th>5963</th>\n",
       "      <td>Joan of Arc</td>\n",
       "      <td>[Marina Warner]</td>\n",
       "      <td>1117661</td>\n",
       "    </tr>\n",
       "    <tr>\n",
       "      <th>26059</th>\n",
       "      <td>On the Government of God</td>\n",
       "      <td>[Salvian, Eva Sanford]</td>\n",
       "      <td>17181811</td>\n",
       "    </tr>\n",
       "    <tr>\n",
       "      <th>35522</th>\n",
       "      <td>The Book of Unknown Americans</td>\n",
       "      <td>[Cristina Henriquez]</td>\n",
       "      <td>20946053</td>\n",
       "    </tr>\n",
       "  </tbody>\n",
       "</table>\n",
       "</div>"
      ],
      "text/plain": [
       "                               title                 authors   book_id\n",
       "3                   Where I Was From           [Joan Didion]       423\n",
       "938                      Alias Grace       [Margaret Atwood]     72579\n",
       "5963                     Joan of Arc         [Marina Warner]   1117661\n",
       "26059       On the Government of God  [Salvian, Eva Sanford]  17181811\n",
       "35522  The Book of Unknown Americans    [Cristina Henriquez]  20946053"
      ]
     },
     "execution_count": 24,
     "metadata": {},
     "output_type": "execute_result"
    }
   ],
   "source": [
    "get_recommendations(422, books, cosine_sim)"
   ]
  },
  {
   "cell_type": "code",
   "execution_count": 25,
   "metadata": {},
   "outputs": [
    {
     "data": {
      "text/html": [
       "<div>\n",
       "<style scoped>\n",
       "    .dataframe tbody tr th:only-of-type {\n",
       "        vertical-align: middle;\n",
       "    }\n",
       "\n",
       "    .dataframe tbody tr th {\n",
       "        vertical-align: top;\n",
       "    }\n",
       "\n",
       "    .dataframe thead th {\n",
       "        text-align: right;\n",
       "    }\n",
       "</style>\n",
       "<table border=\"1\" class=\"dataframe\">\n",
       "  <thead>\n",
       "    <tr style=\"text-align: right;\">\n",
       "      <th></th>\n",
       "      <th>title</th>\n",
       "      <th>authors</th>\n",
       "      <th>book_id</th>\n",
       "    </tr>\n",
       "  </thead>\n",
       "  <tbody>\n",
       "    <tr>\n",
       "      <th>751</th>\n",
       "      <td>Eudora: A Writer's Life</td>\n",
       "      <td>[Ann Waldron]</td>\n",
       "      <td>52953</td>\n",
       "    </tr>\n",
       "    <tr>\n",
       "      <th>4694</th>\n",
       "      <td>The Limits of Racial Domination: Plebeian Society in Colonial Mexico City, 1660-1720</td>\n",
       "      <td>[R. Douglas Cope]</td>\n",
       "      <td>814566</td>\n",
       "    </tr>\n",
       "    <tr>\n",
       "      <th>10206</th>\n",
       "      <td>Flawed Liberation: Socialism &amp; Feminism (Contributions in Women's Studies 19)</td>\n",
       "      <td>[Sally M. Miller]</td>\n",
       "      <td>4006181</td>\n",
       "    </tr>\n",
       "    <tr>\n",
       "      <th>15445</th>\n",
       "      <td>Letters from America</td>\n",
       "      <td>[Alexis de Tocqueville, Frederick Brown]</td>\n",
       "      <td>9296280</td>\n",
       "    </tr>\n",
       "    <tr>\n",
       "      <th>32842</th>\n",
       "      <td>A Woman's Place</td>\n",
       "      <td>[Lynn Austin]</td>\n",
       "      <td>18954955</td>\n",
       "    </tr>\n",
       "  </tbody>\n",
       "</table>\n",
       "</div>"
      ],
      "text/plain": [
       "                                                                                      title  \\\n",
       "751                                                                 Eudora: A Writer's Life   \n",
       "4694   The Limits of Racial Domination: Plebeian Society in Colonial Mexico City, 1660-1720   \n",
       "10206         Flawed Liberation: Socialism & Feminism (Contributions in Women's Studies 19)   \n",
       "15445                                                                  Letters from America   \n",
       "32842                                                                       A Woman's Place   \n",
       "\n",
       "                                        authors   book_id  \n",
       "751                               [Ann Waldron]     52953  \n",
       "4694                          [R. Douglas Cope]    814566  \n",
       "10206                         [Sally M. Miller]   4006181  \n",
       "15445  [Alexis de Tocqueville, Frederick Brown]   9296280  \n",
       "32842                             [Lynn Austin]  18954955  "
      ]
     },
     "execution_count": 25,
     "metadata": {},
     "output_type": "execute_result"
    }
   ],
   "source": [
    "get_recommendations(423, books, cosine_sim)"
   ]
  },
  {
   "cell_type": "code",
   "execution_count": 32,
   "metadata": {},
   "outputs": [],
   "source": [
    "from tqdm import tqdm\n",
    "\n",
    "def evaluate_recommendations_on_test(test_books_df, train_books_df, train_cosine_sim_matrix, top_n=5):\n",
    "    total_precision = 0\n",
    "    total_recall = 0\n",
    "    hit_count = 0\n",
    "    total_books = 0  # Track the number of evaluated books\n",
    "\n",
    "    # Use tqdm for progress monitoring\n",
    "    for book_id in tqdm(test_books_df['book_id'].unique(), desc=\"Evaluating\", unit=\"book\"):\n",
    "        if book_id not in train_books_df['book_id'].values:\n",
    "            continue  # Skip if book_id not in training set\n",
    "\n",
    "        recs = get_recommendations(book_id, train_books_df, train_cosine_sim_matrix, top_n)\n",
    "        if recs.empty:  # Skip if no recommendations\n",
    "            continue\n",
    "\n",
    "        recommended_items = recs['book_id'].tolist()\n",
    "        relevant_items = test_books_df['book_id'].tolist()\n",
    "\n",
    "        relevant_recommendations = [rec for rec in recommended_items if rec in relevant_items]\n",
    "        precision = len(relevant_recommendations) / len(recommended_items) if recommended_items else 0\n",
    "        recall = len(relevant_recommendations) / len(relevant_items) if relevant_items else 0\n",
    "\n",
    "        total_precision += precision\n",
    "        total_recall += recall\n",
    "        hit_count += 1 if any(rec in relevant_items for rec in recommended_items) else 0\n",
    "        total_books += 1  # Increment the count of evaluated books\n",
    "\n",
    "    precision = total_precision / total_books if total_books > 0 else 0\n",
    "    recall = total_recall / total_books if total_books > 0 else 0\n",
    "    hit_rate = hit_count / total_books if total_books > 0 else 0\n",
    "\n",
    "    return precision, recall, hit_rate\n",
    "\n"
   ]
  },
  {
   "cell_type": "code",
   "execution_count": 33,
   "metadata": {},
   "outputs": [
    {
     "name": "stderr",
     "output_type": "stream",
     "text": [
      "Evaluating: 100%|██████████| 12060/12060 [08:04<00:00, 24.91book/s]\n"
     ]
    },
    {
     "data": {
      "text/plain": [
       "(0.20155887230514904, 8.356503826913759e-05, 0.6748756218905473)"
      ]
     },
     "execution_count": 33,
     "metadata": {},
     "output_type": "execute_result"
    }
   ],
   "source": [
    "evaluate_recommendations_on_test(test_books, books, cosine_sim)"
   ]
  }
 ],
 "metadata": {
  "kernelspec": {
   "display_name": "goodreads",
   "language": "python",
   "name": "python3"
  },
  "language_info": {
   "codemirror_mode": {
    "name": "ipython",
    "version": 3
   },
   "file_extension": ".py",
   "mimetype": "text/x-python",
   "name": "python",
   "nbconvert_exporter": "python",
   "pygments_lexer": "ipython3",
   "version": "3.12.3"
  }
 },
 "nbformat": 4,
 "nbformat_minor": 2
}
