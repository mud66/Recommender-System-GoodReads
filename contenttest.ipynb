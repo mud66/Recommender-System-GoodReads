{
 "cells": [
  {
   "cell_type": "code",
   "execution_count": 1,
   "metadata": {},
   "outputs": [
    {
     "name": "stderr",
     "output_type": "stream",
     "text": [
      "c:\\Users\\maddy\\anaconda3\\envs\\goodreads\\Lib\\site-packages\\sentence_transformers\\cross_encoder\\CrossEncoder.py:13: TqdmExperimentalWarning: Using `tqdm.autonotebook.tqdm` in notebook mode. Use `tqdm.tqdm` instead to force console mode (e.g. in jupyter console)\n",
      "  from tqdm.autonotebook import tqdm, trange\n"
     ]
    }
   ],
   "source": [
    "import pandas as pd\n",
    "import numpy as np\n",
    "from sentence_transformers import SentenceTransformer\n",
    "from sklearn.metrics.pairwise import cosine_similarity\n",
    "from sklearn.decomposition import PCA\n",
    "from sklearn.model_selection import train_test_split\n",
    "from sklearn.metrics import mean_squared_error\n",
    "from tqdm import tqdm\n"
   ]
  },
  {
   "cell_type": "code",
   "execution_count": 2,
   "metadata": {},
   "outputs": [],
   "source": [
    "# Load data\n",
    "read = pd.read_feather('Feather/read.feather')\n",
    "books = pd.read_feather('Feather/books.feather')"
   ]
  },
  {
   "cell_type": "code",
   "execution_count": 3,
   "metadata": {},
   "outputs": [],
   "source": [
    "read = read[read['is_read'] == 1]"
   ]
  },
  {
   "cell_type": "code",
   "execution_count": 4,
   "metadata": {},
   "outputs": [],
   "source": [
    "read = read.sample(n=100000, random_state=42)"
   ]
  },
  {
   "cell_type": "code",
   "execution_count": 5,
   "metadata": {},
   "outputs": [],
   "source": [
    "# Function to drop empty rows\n",
    "def drop_empty_rows(df, column_name):\n",
    "    df_cleaned = df.dropna(subset=[column_name])\n",
    "    return df_cleaned\n",
    "\n",
    "books = drop_empty_rows(books, 'description')\n",
    "books = books[books['language_code'] == 'eng'].sample(n=50000, random_state=42)\n",
    "books = books.reset_index(drop=True)"
   ]
  },
  {
   "cell_type": "code",
   "execution_count": 6,
   "metadata": {},
   "outputs": [
    {
     "name": "stderr",
     "output_type": "stream",
     "text": [
      "c:\\Users\\maddy\\anaconda3\\envs\\goodreads\\Lib\\site-packages\\transformers\\tokenization_utils_base.py:1601: FutureWarning: `clean_up_tokenization_spaces` was not set. It will be set to `True` by default. This behavior will be depracted in transformers v4.45, and will be then set to `False` by default. For more details check this issue: https://github.com/huggingface/transformers/issues/31884\n",
      "  warnings.warn(\n",
      "100%|██████████| 50000/50000 [27:31<00:00, 30.28it/s]\n"
     ]
    },
    {
     "name": "stdout",
     "output_type": "stream",
     "text": [
      "(50000, 384)\n"
     ]
    }
   ],
   "source": [
    "model = SentenceTransformer('all-MiniLM-L6-v2')\n",
    "tqdm.pandas()\n",
    "books['embeddings'] = books['combined_text'].progress_apply(lambda x: model.encode(x))\n",
    "embedding_matrix = np.vstack(books['embeddings'].values)\n",
    "print(embedding_matrix.shape)\n"
   ]
  },
  {
   "cell_type": "code",
   "execution_count": 7,
   "metadata": {},
   "outputs": [],
   "source": [
    "# Reduce dimensionality\n",
    "pca = PCA(n_components=50)\n",
    "embedding_matrix = pca.fit_transform(embedding_matrix)\n",
    "cosine_sim = cosine_similarity(embedding_matrix, embedding_matrix)"
   ]
  },
  {
   "cell_type": "code",
   "execution_count": 8,
   "metadata": {},
   "outputs": [],
   "source": [
    "# Define function to get recommendations\n",
    "def get_recommendations(book_id, books_df, cosine_sim):\n",
    "    if book_id not in books_df['book_id'].values:\n",
    "        print(f\"Book ID {book_id} not found in the books dataframe.\")\n",
    "        return pd.DataFrame(columns=['title', 'authors'])\n",
    "\n",
    "    book_idx = books_df[books_df['book_id'] == book_id].index[0]\n",
    "    sim_scores = list(enumerate(cosine_sim[book_idx]))\n",
    "    sim_scores = sorted(sim_scores, key=lambda x: x[1], reverse=True)\n",
    "    top_book_ids = [books_df['book_id'].iloc[i[0]] for i in sim_scores[1:6]]\n",
    "    top_books = books_df[books_df['book_id'].isin(top_book_ids)]\n",
    "\n",
    "    return top_books[['title', 'authors']]"
   ]
  },
  {
   "cell_type": "code",
   "execution_count": 9,
   "metadata": {},
   "outputs": [],
   "source": [
    "#Function to filter high-rated books\n",
    "def filter_high_rated_books(ratings_df, min_rating=3):\n",
    "    read_ratings = ratings_df[ratings_df['is_read'] == 1]\n",
    "    average_ratings = read_ratings.groupby('book_id')['rating'].mean().reset_index()\n",
    "    high_rated_books = average_ratings[average_ratings['rating'] >= min_rating]['book_id'].values\n",
    "    return high_rated_books\n",
    "\n",
    "# Split the read DataFrame into train and test sets\n",
    "train_read, test_read = train_test_split(read, test_size=0.2, random_state=42)\n",
    "\n",
    "# Filter high-rated books\n",
    "high_rated_books = filter_high_rated_books(train_read, min_rating=3)"
   ]
  },
  {
   "cell_type": "code",
   "execution_count": 10,
   "metadata": {},
   "outputs": [],
   "source": [
    "def predict_ratings(user_id, book_id, train_df, cosine_sim, books_df):\n",
    "    user_books = train_df[train_df['user_id'] == user_id]['book_id'].values\n",
    "    if len(user_books) == 0:\n",
    "        return np.mean(train_df['rating']), []\n",
    "    \n",
    "    sim_scores = []\n",
    "    for user_book in user_books:\n",
    "        if user_book in books_df['book_id'].values:\n",
    "            book_idx = books_df[books_df['book_id'] == user_book].index[0]\n",
    "            sim_scores.append(cosine_sim[book_idx])\n",
    "\n",
    "    if len(sim_scores) == 0:\n",
    "        return np.mean(train_df['rating']), []\n",
    "\n",
    "    avg_sim_scores = np.mean(sim_scores, axis=0)\n",
    "    similar_books = sorted(zip(books_df['book_id'].values, avg_sim_scores), key=lambda x: x[1], reverse=True)\n",
    "    recommended_books = [book for book, score in similar_books if book in high_rated_books]\n",
    "\n",
    "    if len(recommended_books) == 0:\n",
    "        return np.mean(train_df['rating']), []\n",
    "\n",
    "    return np.mean(train_df[train_df['book_id'].isin(recommended_books)]['rating'].values), recommended_books[:5]"
   ]
  },
  {
   "cell_type": "code",
   "execution_count": 11,
   "metadata": {},
   "outputs": [
    {
     "data": {
      "text/plain": [
       "224651417    768517\n",
       "129149545    265659\n",
       "29523005      58105\n",
       "152786040    317211\n",
       "215104984    511587\n",
       "              ...  \n",
       "76803624     154460\n",
       "112029135    229036\n",
       "140360662    289563\n",
       "174734593    365740\n",
       "219047790    613287\n",
       "Name: user_id, Length: 100000, dtype: int64"
      ]
     },
     "execution_count": 11,
     "metadata": {},
     "output_type": "execute_result"
    }
   ],
   "source": [
    "read['user_id']"
   ]
  },
  {
   "cell_type": "code",
   "execution_count": 12,
   "metadata": {},
   "outputs": [
    {
     "name": "stdout",
     "output_type": "stream",
     "text": [
      "(3.673525, [])\n"
     ]
    }
   ],
   "source": [
    "print(predict_ratings(user_id = 0, book_id = 21523717, train_df = train_read, cosine_sim = cosine_sim, books_df = books))"
   ]
  },
  {
   "cell_type": "code",
   "execution_count": 13,
   "metadata": {},
   "outputs": [],
   "source": [
    "# Precision@k function\n",
    "def precision_at_k(recommended_books, relevant_books, k):\n",
    "    recommended_books = recommended_books[:k]\n",
    "    relevant_set = set(relevant_books)\n",
    "    recommended_set = set(recommended_books)\n",
    "    return len(recommended_set & relevant_set) / k\n",
    "\n",
    "# Recall@k function\n",
    "def recall_at_k(recommended_books, relevant_books, k):\n",
    "    relevant_set = set(relevant_books)\n",
    "    if len(relevant_set) == 0:\n",
    "        return 0\n",
    "    recommended_set = set(recommended_books[:k])\n",
    "    return len(recommended_set & relevant_set) / len(relevant_set)\n"
   ]
  },
  {
   "cell_type": "code",
   "execution_count": 14,
   "metadata": {},
   "outputs": [
    {
     "name": "stdout",
     "output_type": "stream",
     "text": [
      "Mean Squared Error: 1.859807564987517\n",
      "Precision@5: 0.00064\n",
      "Recall@5: 0.002058611111111111\n"
     ]
    }
   ],
   "source": [
    "# Evaluation function\n",
    "def evaluate_model(test_df, train_df, cosine_sim, books_df, k=5):\n",
    "    predictions = []\n",
    "    actuals = []\n",
    "    precisions = []\n",
    "    recalls = []\n",
    "\n",
    "    for index, row in test_df.iterrows():\n",
    "        user_id = row['user_id']\n",
    "        book_id = row['book_id']\n",
    "        actual_rating = row['rating']\n",
    "        predicted_rating, recommended_books = predict_ratings(user_id, book_id, train_df, cosine_sim, books_df)\n",
    "        predictions.append(predicted_rating)\n",
    "        actuals.append(actual_rating)\n",
    "        \n",
    "        # Precision@k and Recall@k\n",
    "        user_relevant_books = train_df[(train_df['user_id'] == user_id) & (train_df['rating'] >= 3)]['book_id'].values\n",
    "        precisions.append(precision_at_k(recommended_books, user_relevant_books, k))\n",
    "        recalls.append(recall_at_k(recommended_books, user_relevant_books, k))\n",
    "\n",
    "    mse = mean_squared_error(actuals, predictions)\n",
    "    mean_precision = np.mean(precisions)\n",
    "    mean_recall = np.mean(recalls)\n",
    "\n",
    "    return mse, mean_precision, mean_recall\n",
    "\n",
    "# Example usage:\n",
    "k = 5\n",
    "mse, mean_precision, mean_recall = evaluate_model(test_read, train_read, cosine_sim, books, k)\n",
    "print(f\"Mean Squared Error: {mse}\")\n",
    "print(f\"Precision@{k}: {mean_precision}\")\n",
    "print(f\"Recall@{k}: {mean_recall}\")\n"
   ]
  }
 ],
 "metadata": {
  "kernelspec": {
   "display_name": "goodreads",
   "language": "python",
   "name": "python3"
  },
  "language_info": {
   "codemirror_mode": {
    "name": "ipython",
    "version": 3
   },
   "file_extension": ".py",
   "mimetype": "text/x-python",
   "name": "python",
   "nbconvert_exporter": "python",
   "pygments_lexer": "ipython3",
   "version": "3.12.3"
  }
 },
 "nbformat": 4,
 "nbformat_minor": 2
}
