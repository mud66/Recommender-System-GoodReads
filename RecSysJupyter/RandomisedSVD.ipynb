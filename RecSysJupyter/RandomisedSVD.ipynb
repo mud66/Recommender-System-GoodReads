{
 "cells": [
  {
   "cell_type": "code",
   "execution_count": 299,
   "metadata": {},
   "outputs": [],
   "source": [
    "import numpy as np\n",
    "import pandas as pd\n",
    "import numpy as np\n",
    "from surprise import Reader, Dataset, Trainset, AlgoBase, accuracy\n",
    "from tqdm import tqdm\n",
    "from surprise import AlgoBase, Trainset\n",
    "from surprise.model_selection import GridSearchCV\n",
    "from sklearn.utils import resample\n",
    "from collections import defaultdict\n",
    "from math import log2\n",
    "from sklearn.model_selection import train_test_split\n",
    "import pickle\n",
    "from sklearn.metrics import mean_absolute_error\n",
    "\n",
    "\n",
    "tqdm.pandas()"
   ]
  },
  {
   "cell_type": "code",
   "execution_count": 300,
   "metadata": {},
   "outputs": [],
   "source": [
    "books = pd.read_pickle('../Pickle/books.pkl')"
   ]
  },
  {
   "cell_type": "code",
   "execution_count": 301,
   "metadata": {},
   "outputs": [],
   "source": [
    "interactions = pd.read_pickle('../Pickle/interactions.pkl')"
   ]
  },
  {
   "cell_type": "code",
   "execution_count": 302,
   "metadata": {},
   "outputs": [],
   "source": [
    "interactions = interactions[['user_id', 'book_id', 'rating', 'is_read']]  "
   ]
  },
  {
   "cell_type": "code",
   "execution_count": 303,
   "metadata": {},
   "outputs": [],
   "source": [
    "# Filter user IDs that appear more than 5 times\n",
    "user_counts = interactions['user_id'].value_counts()\n",
    "interactions = interactions[interactions['user_id'].isin(user_counts[user_counts >= 5].index)]\n",
    "\n",
    "# Filter book IDs that appear more than 5 times\n",
    "book_counts = interactions['book_id'].value_counts()\n",
    "interactions = interactions[interactions['book_id'].isin(book_counts[book_counts >= 5].index)]"
   ]
  },
  {
   "cell_type": "code",
   "execution_count": 304,
   "metadata": {},
   "outputs": [],
   "source": [
    "# First, split the users into train and test\n",
    "users = interactions['user_id'].unique()\n",
    "train_users, test_users = train_test_split(users, test_size=0.2, random_state=42)\n",
    "\n",
    "# Create the train and test sets based on the users\n",
    "train_df = interactions[interactions['user_id'].isin(train_users)]\n",
    "test_df = interactions[interactions['user_id'].isin(test_users)]\n",
    "\n",
    "# Make sure there is no overlap in user-item pairs between train and test sets\n",
    "train_items = train_df[['user_id', 'book_id']].drop_duplicates()\n",
    "test_items = test_df[['user_id', 'book_id']].drop_duplicates()\n",
    "\n",
    "# Remove any overlapping user-item pairs between the train and test sets\n",
    "test_df = test_df[~test_df[['user_id', 'book_id']].isin(train_items).all(axis=1)]\n"
   ]
  },
  {
   "cell_type": "code",
   "execution_count": 305,
   "metadata": {},
   "outputs": [],
   "source": [
    "from sklearn.utils import resample\n",
    "\n",
    "# Get rating counts\n",
    "rating_counts = train_df['rating'].value_counts()\n",
    "\n",
    "# Find the majority class size (highest count)\n",
    "majority_count = rating_counts.max()\n",
    "\n",
    "# Dictionary to store oversampled dataframes\n",
    "oversampled_dfs = []\n",
    "\n",
    "# Perform upsampling for each class to match a proportion of the majority count\n",
    "for rating, count in rating_counts.items():\n",
    "    class_df = train_df[train_df['rating'] == rating]\n",
    "    \n",
    "    # Upsample based on a percentage of the majority class size\n",
    "    if count < majority_count:\n",
    "        upsampled_df = resample(class_df, replace=True, n_samples=int(majority_count * 0.6), random_state=42)  # 75% of the majority class\n",
    "    else:\n",
    "        upsampled_df = class_df  # Keep majority class as is\n",
    "    \n",
    "    oversampled_dfs.append(upsampled_df)\n",
    "\n",
    "# Combine all upsampled data\n",
    "balanced_train = pd.concat(oversampled_dfs)\n",
    "\n",
    "# Shuffle dataset\n",
    "train_df = balanced_train.sample(frac=1, random_state=42).reset_index(drop=True)\n"
   ]
  },
  {
   "cell_type": "code",
   "execution_count": 306,
   "metadata": {},
   "outputs": [],
   "source": [
    "from sklearn.preprocessing import MinMaxScaler\n",
    "\n",
    "# Initialize the Min-Max Scaler\n",
    "scaler = MinMaxScaler(feature_range=(0, 1))\n",
    "\n",
    "# Ensure that the DataFrame you're working with is a proper copy (not a slice)\n",
    "train_df = train_df.copy()  # Create a copy if it's a slice\n",
    "test_df = test_df.copy()  # Do the same for the test DataFrame\n",
    "\n",
    "# Now, apply normalization\n",
    "train_df['normalised_rating'] = scaler.fit_transform(train_df[['rating']])\n",
    "test_df['normalised_rating'] = scaler.fit_transform(test_df[['rating']])\n"
   ]
  },
  {
   "cell_type": "code",
   "execution_count": 307,
   "metadata": {},
   "outputs": [],
   "source": [
    "from custom_svd import RandomizedSVD\n",
    "from surprise import Dataset, Reader\n",
    "\n",
    "# Prepare the Reader object to specify the rating scale\n",
    "reader = Reader(rating_scale=(train_df['normalised_rating'].min(), train_df['normalised_rating'].max()))\n",
    "\n",
    "# Convert your train and test DataFrames to Surprise format\n",
    "train_data = Dataset.load_from_df(train_df[['user_id', 'book_id', 'normalised_rating']], reader)\n",
    "test_data = Dataset.load_from_df(test_df[['user_id', 'book_id', 'normalised_rating']], reader)\n",
    "\n",
    "\n",
    "# Initialize the custom RandomizedSVD model\n",
    "model = RandomizedSVD(n_factors=500, n_iter=60, random_state=42)\n",
    "\n",
    "# Fit the model to the training data\n",
    "trainset = train_data.build_full_trainset()  # Build a full training set from the Surprise dataset\n",
    "model.fit(trainset)\n",
    "\n",
    "# Convert the test DataFrame to a list of (user_id, book_id) pairs for prediction\n",
    "testset = test_data.build_full_trainset().build_testset()  # Build a test set from the Surprise dataset\n",
    "\n",
    "# Make predictions on the test set\n",
    "predictions = model.test(testset)\n"
   ]
  },
  {
   "cell_type": "code",
   "execution_count": 308,
   "metadata": {},
   "outputs": [],
   "source": [
    "# Extract the predicted ratings and reverse the normalization\n",
    "predicted_ratings = [pred.est for pred in predictions]\n",
    "\n",
    "# Convert to a numpy array for easier handling\n",
    "predicted_ratings_array = np.array(predicted_ratings).reshape(-1, 1)\n",
    "\n",
    "# Reverse the normalization using inverse_transform\n",
    "original_predicted_ratings = scaler.inverse_transform(predicted_ratings_array)\n",
    "\n",
    "# Convert back to a list or use as needed\n",
    "original_predicted_ratings = original_predicted_ratings.flatten()\n"
   ]
  },
  {
   "cell_type": "code",
   "execution_count": 309,
   "metadata": {},
   "outputs": [
    {
     "data": {
      "text/plain": [
       "array([2.65000143, 2.65000143, 2.65000143, ..., 2.65000143, 2.65000143,\n",
       "       2.65000143])"
      ]
     },
     "execution_count": 309,
     "metadata": {},
     "output_type": "execute_result"
    }
   ],
   "source": [
    "original_predicted_ratings"
   ]
  },
  {
   "cell_type": "code",
   "execution_count": 310,
   "metadata": {},
   "outputs": [
    {
     "name": "stdout",
     "output_type": "stream",
     "text": [
      "MAE:  0.2938\n",
      "RMSE: 0.3330\n"
     ]
    }
   ],
   "source": [
    "from surprise import accuracy\n",
    "\n",
    "# Calculate MAE and RMSE\n",
    "mae = accuracy.mae(predictions)\n",
    "rmse = accuracy.rmse(predictions)"
   ]
  },
  {
   "cell_type": "code",
   "execution_count": 311,
   "metadata": {},
   "outputs": [],
   "source": [
    "def precision_recall_ndcg_at_k(predictions, k, threshold):\n",
    "    \"\"\"Return precision, recall, and nDCG at k metrics for each user.\"\"\"\n",
    "    \n",
    "    # Helper function to calculate DCG and nDCG\n",
    "    def dcg_at_k(scores, k):\n",
    "        return sum([rel / log2(idx + 2) for idx, rel in enumerate(scores[:k])])\n",
    "\n",
    "    user_est_true = defaultdict(list)\n",
    "    for uid, _, true_r, est, _ in predictions:\n",
    "        user_est_true[uid].append((est, true_r))\n",
    "    \n",
    "    precisions = dict()\n",
    "    recalls = dict()\n",
    "    ndcgs = dict()\n",
    "    \n",
    "    for uid, user_ratings in user_est_true.items():\n",
    "        user_ratings.sort(key=lambda x: x[0], reverse=True)\n",
    "        \n",
    "        n_rel = sum((true_r >= threshold) for (_, true_r) in user_ratings)\n",
    "        n_rec_k = sum((est >= threshold) for (est, _) in user_ratings[:k])\n",
    "        n_rel_and_rec_k = sum(((true_r >= threshold) and (est >= threshold)) for (est, true_r) in user_ratings[:k])\n",
    "        \n",
    "        # Precision@K\n",
    "        precisions[uid] = n_rel_and_rec_k / n_rec_k if n_rec_k != 0 else 1\n",
    "        \n",
    "        # Recall@K\n",
    "        recalls[uid] = n_rel_and_rec_k / n_rel if n_rel != 0 else 1\n",
    "        \n",
    "        # nDCG@K\n",
    "        actual = [true_r for (_, true_r) in user_ratings]\n",
    "        ideal = sorted(actual, reverse=True)\n",
    "        \n",
    "        idcg = dcg_at_k(ideal, k)\n",
    "        dcg = dcg_at_k([rel for (est, rel) in user_ratings], k)\n",
    "        \n",
    "        ndcgs[uid] = dcg / idcg if idcg > 0 else 0\n",
    "    \n",
    "    precision = sum(prec for prec in precisions.values()) / len(precisions)\n",
    "    recall = sum(rec for rec in recalls.values()) / len(recalls)\n",
    "    ndcg = sum(ndcg for ndcg in ndcgs.values()) / len(ndcgs)\n",
    "    \n",
    "    return precision, recall, ndcg"
   ]
  },
  {
   "cell_type": "code",
   "execution_count": 312,
   "metadata": {},
   "outputs": [
    {
     "name": "stdout",
     "output_type": "stream",
     "text": [
      "Adjusted Precision: 1.0, Adjusted Recall: 1.0, Adjusted nDCG: 0.6770851768088435\n"
     ]
    }
   ],
   "source": [
    "precision, recall, ndcg = precision_recall_ndcg_at_k(predictions, k=10, threshold=3.5)\n",
    "print(f'Adjusted Precision: {precision}, Adjusted Recall: {recall}, Adjusted nDCG: {ndcg}')"
   ]
  },
  {
   "cell_type": "code",
   "execution_count": 313,
   "metadata": {},
   "outputs": [
    {
     "data": {
      "image/png": "[encoded data removed]",
      "text/plain": [
       "<Figure size 1000x500 with 1 Axes>"
      ]
     },
     "metadata": {},
     "output_type": "display_data"
    }
   ],
   "source": [
    "import matplotlib.pyplot as plt\n",
    "import seaborn as sns\n",
    "\n",
    "\n",
    "# Plot histogram\n",
    "plt.figure(figsize=(10, 5))\n",
    "sns.histplot(original_predicted_ratings, bins=20, kde=True, color='blue')\n",
    "\n",
    "plt.xlabel('Reversed Predicted Ratings')\n",
    "plt.ylabel('Frequency')\n",
    "plt.title('Distribution of Adjusted Predicted Ratings')\n",
    "plt.grid(axis='y', linestyle='--', alpha=0.7)\n",
    "plt.show()\n"
   ]
  },
  {
   "cell_type": "code",
   "execution_count": 314,
   "metadata": {},
   "outputs": [
    {
     "name": "stdout",
     "output_type": "stream",
     "text": [
      "Mean True Rating: 0.7532738302768288\n",
      "Mean Predicted Rating: 0.5300002868736194\n"
     ]
    }
   ],
   "source": [
    "import numpy as np\n",
    "\n",
    "true_ratings = np.array([pred.r_ui for pred in predictions])\n",
    "predicted_ratings = np.array([pred.est for pred in predictions])\n",
    "\n",
    "print(\"Mean True Rating:\", true_ratings.mean())\n",
    "print(\"Mean Predicted Rating:\", predicted_ratings.mean())\n"
   ]
  },
  {
   "cell_type": "code",
   "execution_count": 315,
   "metadata": {},
   "outputs": [
    {
     "name": "stdout",
     "output_type": "stream",
     "text": [
      "Global mean: 0.5300002868736194\n"
     ]
    }
   ],
   "source": [
    "global_mean = model.trainset.global_mean\n",
    "print(f\"Global mean: {global_mean}\")\n"
   ]
  },
  {
   "cell_type": "code",
   "execution_count": 316,
   "metadata": {},
   "outputs": [
    {
     "name": "stdout",
     "output_type": "stream",
     "text": [
      "[0.5300002868736194, 0.5300002868736194, 0.5300002868736194, 0.5300002868736194, 0.5300002868736194, 0.5300002868736194, 0.5300002868736194, 0.5300002868736194, 0.5300002868736194, 0.5300002868736194]\n"
     ]
    }
   ],
   "source": [
    "predicted_ratings = [pred.est for pred in predictions]\n",
    "print(predicted_ratings[:10])  # Check first 10 predictions\n"
   ]
  },
  {
   "cell_type": "code",
   "execution_count": 317,
   "metadata": {},
   "outputs": [
    {
     "name": "stdout",
     "output_type": "stream",
     "text": [
      "User factors shape: (1566, 500)\n",
      "Item factors shape: (16009, 500)\n",
      "Sample of user factors: [[ 2.96867912e+00  2.92334050e+00 -1.71026103e+00 ...  3.05205897e-01\n",
      "   3.13425985e-01  1.19203668e-01]\n",
      " [ 2.74296253e+00 -6.67389897e-01  9.08933422e-01 ...  1.14539190e-01\n",
      "   4.40125352e-02 -5.02846522e-01]\n",
      " [ 2.86427249e+00 -1.23565915e+00  3.79258951e-01 ...  2.89791113e-03\n",
      "   4.66187786e-02 -1.01113990e-01]\n",
      " [ 2.34135448e+00 -7.88548163e-01 -3.17350908e-01 ... -2.73216257e-01\n",
      "   5.48823861e-01  2.67499076e-01]\n",
      " [ 4.41577219e+00 -1.42545512e+00 -2.72968301e-01 ...  1.04961602e-02\n",
      "  -1.18112715e-02  9.19459643e-02]]\n",
      "Sample of item factors: [[ 1.01180693e-03  1.94370429e-03 -3.49541859e-03 ...  2.74256260e-03\n",
      "   5.06007095e-03 -2.22634464e-03]\n",
      " [ 2.48377040e-04  1.46580731e-05 -2.80334741e-04 ... -6.54568481e-04\n",
      "  -9.26600277e-04  1.68998757e-03]\n",
      " [ 1.16134522e-02 -9.24197624e-03  1.30284748e-03 ... -1.51736557e-02\n",
      "  -2.49844072e-02  2.79814700e-02]\n",
      " [ 8.86003826e-03 -6.13724273e-03  5.76158611e-03 ...  2.06263911e-02\n",
      "   1.30584322e-02  1.03461183e-02]\n",
      " [ 1.37223177e-01  4.46969865e-02 -8.26817423e-02 ...  2.05450686e-02\n",
      "  -8.83780237e-03 -2.25412589e-03]]\n"
     ]
    }
   ],
   "source": [
    "print(f\"User factors shape: {model.user_factors.shape}\")\n",
    "print(f\"Item factors shape: {model.item_factors.shape}\")\n",
    "print(f\"Sample of user factors: {model.user_factors[:5, :]}\")\n",
    "print(f\"Sample of item factors: {model.item_factors[:5, :]}\")\n"
   ]
  },
  {
   "cell_type": "code",
   "execution_count": 318,
   "metadata": {},
   "outputs": [
    {
     "name": "stdout",
     "output_type": "stream",
     "text": [
      "Sparsity of the training set: 99.37%\n"
     ]
    }
   ],
   "source": [
    "# Check the sparsity of the user-item interaction matrix\n",
    "interaction_matrix = np.zeros((trainset.n_users, trainset.n_items))\n",
    "for user_id, iid, rating in trainset.all_ratings():\n",
    "    interaction_matrix[int(user_id), int(iid)] = rating\n",
    "\n",
    "sparsity = 1.0 - (np.count_nonzero(interaction_matrix) / float(interaction_matrix.size))\n",
    "print(f\"Sparsity of the training set: {sparsity * 100:.2f}%\")\n"
   ]
  }
 ],
 "metadata": {
  "kernelspec": {
   "display_name": "goodreads",
   "language": "python",
   "name": "python3"
  },
  "language_info": {
   "codemirror_mode": {
    "name": "ipython",
    "version": 3
   },
   "file_extension": ".py",
   "mimetype": "text/x-python",
   "name": "python",
   "nbconvert_exporter": "python",
   "pygments_lexer": "ipython3",
   "version": "3.12.3"
  }
 },
 "nbformat": 4,
 "nbformat_minor": 2
}
