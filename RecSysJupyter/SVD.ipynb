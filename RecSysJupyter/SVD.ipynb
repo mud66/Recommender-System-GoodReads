{
 "cells": [
  {
   "cell_type": "code",
   "execution_count": 25,
   "metadata": {},
   "outputs": [],
   "source": [
    "import pandas as pd\n",
    "import numpy as np\n",
    "import pickle\n",
    "from surprise import Reader, Dataset, SVD\n",
    "from surprise.model_selection import GridSearchCV\n",
    "from sklearn.model_selection import train_test_split\n",
    "import matplotlib.pyplot as plt"
   ]
  },
  {
   "cell_type": "code",
   "execution_count": 26,
   "metadata": {},
   "outputs": [],
   "source": [
    "def load_data():\n",
    "    reviews = pd.read_pickle(\"../Pickle/reviews.pkl\")\n",
    "    interactions = pd.read_pickle(\"../Pickle/interactions.pkl\")\n",
    "    read = pd.read_pickle(\"../Pickle/read.pkl\")\n",
    "    return reviews, interactions, read"
   ]
  },
  {
   "cell_type": "code",
   "execution_count": 27,
   "metadata": {},
   "outputs": [],
   "source": [
    "def preprocess_data(df):\n",
    "    users_with_only_zeros = df.groupby('user_id')['rating'].apply(lambda x: (x == 0).all())\n",
    "    users_with_only_zeros = users_with_only_zeros[users_with_only_zeros].index\n",
    "    df = df[~df['user_id'].isin(users_with_only_zeros)]\n",
    "    \n",
    "    rated_books = df[df['is_read'] != 0].reset_index(drop = True)\n",
    "    rated_books = rated_books[rated_books['rating'] != 0].reset_index(drop=True)\n",
    "    return rated_books"
   ]
  },
  {
   "cell_type": "code",
   "execution_count": 28,
   "metadata": {},
   "outputs": [],
   "source": [
    "def split_data(df):\n",
    "    user_counts = df['user_id'].value_counts()\n",
    "    book_counts = df['book_id'].value_counts()\n",
    "    \n",
    "    single_interactions = df[df['user_id'].isin(user_counts[user_counts == 1].index) |\n",
    "                             df['book_id'].isin(book_counts[book_counts == 1].index)]\n",
    "    remaining_interactions = df[~df.index.isin(single_interactions.index)]\n",
    "    \n",
    "    train_df, test_df = train_test_split(remaining_interactions, test_size=0.2, random_state=42, stratify=remaining_interactions['rating'])\n",
    "    train_df = pd.concat([train_df, single_interactions], ignore_index=True)\n",
    "    \n",
    "    return train_df, test_df"
   ]
  },
  {
   "cell_type": "code",
   "execution_count": 29,
   "metadata": {},
   "outputs": [],
   "source": [
    "def upsample_ratings(train_df):\n",
    "    rating_counts = train_df['rating'].value_counts()\n",
    "    max_count = rating_counts.max()\n",
    "\n",
    "    modified_dfs = []\n",
    "    \n",
    "    for rating, count in rating_counts.items():\n",
    "        class_df = train_df[train_df['rating'] == rating]\n",
    "        num_extra = max_count - count\n",
    "\n",
    "        if num_extra > 0:\n",
    "            extra_samples = class_df.sample(num_extra, replace=True, random_state=42)\n",
    "            extra_samples['rating'] += np.random.uniform(-0.1, 0.1, size=len(extra_samples))\n",
    "            extra_samples['rating'] = extra_samples['rating'].clip(1, 5)\n",
    "\n",
    "            modified_dfs.append(extra_samples)\n",
    "    \n",
    "    return pd.concat([train_df] + modified_dfs, ignore_index=True)"
   ]
  },
  {
   "cell_type": "code",
   "execution_count": 30,
   "metadata": {},
   "outputs": [],
   "source": [
    "def normalize_ratings(train_df, test_df):\n",
    "    min_rating = train_df['rating'].min()\n",
    "    \n",
    "    train_df = train_df.copy()\n",
    "    test_df = test_df.copy()\n",
    "    \n",
    "    train_df['rating'] = np.log1p(train_df['rating'] - min_rating)\n",
    "    test_df['rating'] = np.log1p(test_df['rating'] - min_rating)\n",
    "    \n",
    "    return train_df, test_df, min_rating\n",
    "\n",
    "def denormalize_rating(log_scaled_ratings, min_rating):\n",
    "    original_ratings = np.expm1(np.asarray(log_scaled_ratings, dtype=float))\n",
    "    return np.clip(original_ratings + min_rating, 1, 5) \n"
   ]
  },
  {
   "cell_type": "code",
   "execution_count": 31,
   "metadata": {},
   "outputs": [
    {
     "ename": "KeyboardInterrupt",
     "evalue": "",
     "output_type": "error",
     "traceback": [
      "\u001b[1;31m---------------------------------------------------------------------------\u001b[0m",
      "\u001b[1;31mKeyboardInterrupt\u001b[0m                         Traceback (most recent call last)",
      "Cell \u001b[1;32mIn[31], line 1\u001b[0m\n\u001b[1;32m----> 1\u001b[0m reviews, interactions, read \u001b[38;5;241m=\u001b[39m \u001b[43mload_data\u001b[49m\u001b[43m(\u001b[49m\u001b[43m)\u001b[49m\n",
      "Cell \u001b[1;32mIn[26], line 2\u001b[0m, in \u001b[0;36mload_data\u001b[1;34m()\u001b[0m\n\u001b[0;32m      1\u001b[0m \u001b[38;5;28;01mdef\u001b[39;00m \u001b[38;5;21mload_data\u001b[39m():\n\u001b[1;32m----> 2\u001b[0m     reviews \u001b[38;5;241m=\u001b[39m \u001b[43mpd\u001b[49m\u001b[38;5;241;43m.\u001b[39;49m\u001b[43mread_pickle\u001b[49m\u001b[43m(\u001b[49m\u001b[38;5;124;43m\"\u001b[39;49m\u001b[38;5;124;43m../Pickle/reviews.pkl\u001b[39;49m\u001b[38;5;124;43m\"\u001b[39;49m\u001b[43m)\u001b[49m\n\u001b[0;32m      3\u001b[0m     interactions \u001b[38;5;241m=\u001b[39m pd\u001b[38;5;241m.\u001b[39mread_pickle(\u001b[38;5;124m\"\u001b[39m\u001b[38;5;124m../Pickle/interactions.pkl\u001b[39m\u001b[38;5;124m\"\u001b[39m)\n\u001b[0;32m      4\u001b[0m     read \u001b[38;5;241m=\u001b[39m pd\u001b[38;5;241m.\u001b[39mread_pickle(\u001b[38;5;124m\"\u001b[39m\u001b[38;5;124m../Pickle/read.pkl\u001b[39m\u001b[38;5;124m\"\u001b[39m)\n",
      "File \u001b[1;32mc:\\Users\\maddy\\anaconda3\\envs\\goodreads\\Lib\\site-packages\\pandas\\io\\pickle.py:202\u001b[0m, in \u001b[0;36mread_pickle\u001b[1;34m(filepath_or_buffer, compression, storage_options)\u001b[0m\n\u001b[0;32m    199\u001b[0m     \u001b[38;5;28;01mwith\u001b[39;00m warnings\u001b[38;5;241m.\u001b[39mcatch_warnings(record\u001b[38;5;241m=\u001b[39m\u001b[38;5;28;01mTrue\u001b[39;00m):\n\u001b[0;32m    200\u001b[0m         \u001b[38;5;66;03m# We want to silence any warnings about, e.g. moved modules.\u001b[39;00m\n\u001b[0;32m    201\u001b[0m         warnings\u001b[38;5;241m.\u001b[39msimplefilter(\u001b[38;5;124m\"\u001b[39m\u001b[38;5;124mignore\u001b[39m\u001b[38;5;124m\"\u001b[39m, \u001b[38;5;167;01mWarning\u001b[39;00m)\n\u001b[1;32m--> 202\u001b[0m         \u001b[38;5;28;01mreturn\u001b[39;00m \u001b[43mpickle\u001b[49m\u001b[38;5;241;43m.\u001b[39;49m\u001b[43mload\u001b[49m\u001b[43m(\u001b[49m\u001b[43mhandles\u001b[49m\u001b[38;5;241;43m.\u001b[39;49m\u001b[43mhandle\u001b[49m\u001b[43m)\u001b[49m\n\u001b[0;32m    203\u001b[0m \u001b[38;5;28;01mexcept\u001b[39;00m excs_to_catch:\n\u001b[0;32m    204\u001b[0m     \u001b[38;5;66;03m# e.g.\u001b[39;00m\n\u001b[0;32m    205\u001b[0m     \u001b[38;5;66;03m#  \"No module named 'pandas.core.sparse.series'\"\u001b[39;00m\n\u001b[0;32m    206\u001b[0m     \u001b[38;5;66;03m#  \"Can't get attribute '__nat_unpickle' on <module 'pandas._libs.tslib\"\u001b[39;00m\n\u001b[0;32m    207\u001b[0m     \u001b[38;5;28;01mreturn\u001b[39;00m pc\u001b[38;5;241m.\u001b[39mload(handles\u001b[38;5;241m.\u001b[39mhandle, encoding\u001b[38;5;241m=\u001b[39m\u001b[38;5;28;01mNone\u001b[39;00m)\n",
      "File \u001b[1;32minternals.pyx:629\u001b[0m, in \u001b[0;36mpandas._libs.internals._unpickle_block\u001b[1;34m()\u001b[0m\n",
      "File \u001b[1;32mc:\\Users\\maddy\\anaconda3\\envs\\goodreads\\Lib\\site-packages\\pandas\\core\\internals\\blocks.py:2645\u001b[0m, in \u001b[0;36mmaybe_coerce_values\u001b[1;34m(values)\u001b[0m\n\u001b[0;32m   2638\u001b[0m     \u001b[38;5;18m__slots__\u001b[39m \u001b[38;5;241m=\u001b[39m ()\n\u001b[0;32m   2641\u001b[0m \u001b[38;5;66;03m# -----------------------------------------------------------------\u001b[39;00m\n\u001b[0;32m   2642\u001b[0m \u001b[38;5;66;03m# Constructor Helpers\u001b[39;00m\n\u001b[1;32m-> 2645\u001b[0m \u001b[38;5;28;01mdef\u001b[39;00m \u001b[38;5;21mmaybe_coerce_values\u001b[39m(values: ArrayLike) \u001b[38;5;241m-\u001b[39m\u001b[38;5;241m>\u001b[39m ArrayLike:\n\u001b[0;32m   2646\u001b[0m \u001b[38;5;250m    \u001b[39m\u001b[38;5;124;03m\"\"\"\u001b[39;00m\n\u001b[0;32m   2647\u001b[0m \u001b[38;5;124;03m    Input validation for values passed to __init__. Ensure that\u001b[39;00m\n\u001b[0;32m   2648\u001b[0m \u001b[38;5;124;03m    any datetime64/timedelta64 dtypes are in nanoseconds.  Ensure\u001b[39;00m\n\u001b[1;32m   (...)\u001b[0m\n\u001b[0;32m   2657\u001b[0m \u001b[38;5;124;03m    values : np.ndarray or ExtensionArray\u001b[39;00m\n\u001b[0;32m   2658\u001b[0m \u001b[38;5;124;03m    \"\"\"\u001b[39;00m\n\u001b[0;32m   2659\u001b[0m     \u001b[38;5;66;03m# Caller is responsible for ensuring NumpyExtensionArray is already extracted.\u001b[39;00m\n",
      "\u001b[1;31mKeyboardInterrupt\u001b[0m: "
     ]
    }
   ],
   "source": [
    "reviews, interactions, read = load_data()"
   ]
  },
  {
   "cell_type": "code",
   "execution_count": null,
   "metadata": {},
   "outputs": [],
   "source": [
    "df = read[read['is_read'] == 1].reset_index(drop = True)\n",
    "df_zeros = df[df['rating'] == 0].reset_index(drop = True)"
   ]
  },
  {
   "cell_type": "code",
   "execution_count": null,
   "metadata": {},
   "outputs": [],
   "source": [
    "reviews_0 = reviews[reviews['rating'] == 0]\n",
    "inter_0 = interactions[interactions['rating'] == 0]\n",
    "user_reviews = reviews_0['user_id'].unique()\n",
    "user_inter = inter_0['user_id'].unique()"
   ]
  },
  {
   "cell_type": "code",
   "execution_count": null,
   "metadata": {},
   "outputs": [],
   "source": [
    "inference = pd.concat([reviews_0, inter_0], ignore_index=True)"
   ]
  },
  {
   "cell_type": "code",
   "execution_count": null,
   "metadata": {},
   "outputs": [],
   "source": [
    "seen = set()  \n",
    "res = [x for x in list(user_reviews) + list(user_inter) if x not in seen and not seen.add(x)]\n",
    "df = df[df['user_id'].isin(res)]"
   ]
  },
  {
   "cell_type": "code",
   "execution_count": null,
   "metadata": {},
   "outputs": [
    {
     "data": {
      "text/plain": [
       "2432440"
      ]
     },
     "execution_count": 12,
     "metadata": {},
     "output_type": "execute_result"
    }
   ],
   "source": [
    "len(df)"
   ]
  },
  {
   "cell_type": "code",
   "execution_count": null,
   "metadata": {},
   "outputs": [
    {
     "data": {
      "text/plain": [
       "6781"
      ]
     },
     "execution_count": 13,
     "metadata": {},
     "output_type": "execute_result"
    }
   ],
   "source": [
    "df['user_id'].nunique()"
   ]
  },
  {
   "cell_type": "code",
   "execution_count": null,
   "metadata": {},
   "outputs": [],
   "source": [
    "df = df.astype(np.int32)"
   ]
  },
  {
   "cell_type": "code",
   "execution_count": null,
   "metadata": {},
   "outputs": [],
   "source": [
    "df = preprocess_data(df)"
   ]
  },
  {
   "cell_type": "code",
   "execution_count": null,
   "metadata": {},
   "outputs": [],
   "source": [
    "train_df, test_df = split_data(df)"
   ]
  },
  {
   "cell_type": "code",
   "execution_count": null,
   "metadata": {},
   "outputs": [],
   "source": [
    "train_df = upsample_ratings(train_df)"
   ]
  },
  {
   "cell_type": "code",
   "execution_count": null,
   "metadata": {},
   "outputs": [],
   "source": [
    "train_df, test_df, min_rating = normalize_ratings(train_df, test_df)"
   ]
  },
  {
   "cell_type": "code",
   "execution_count": null,
   "metadata": {},
   "outputs": [
    {
     "data": {
      "image/png": "[encoded data removed]",
      "text/plain": [
       "<Figure size 640x480 with 1 Axes>"
      ]
     },
     "metadata": {},
     "output_type": "display_data"
    }
   ],
   "source": [
    "plt.hist(train_df['rating'], bins=10, edgecolor='black')\n",
    "plt.title('Histogram of Balanced and Log Normalised Train Set Ratings')\n",
    "plt.xlabel('Predicted Ratings')\n",
    "plt.ylabel('Frequency')\n",
    "plt.show()"
   ]
  },
  {
   "cell_type": "code",
   "execution_count": null,
   "metadata": {},
   "outputs": [],
   "source": [
    "reader = Reader(rating_scale=(1, 5))"
   ]
  },
  {
   "cell_type": "code",
   "execution_count": null,
   "metadata": {},
   "outputs": [],
   "source": [
    "train_data = Dataset.load_from_df(train_df[['user_id', 'book_id', 'rating']], reader)"
   ]
  },
  {
   "cell_type": "code",
   "execution_count": null,
   "metadata": {},
   "outputs": [
    {
     "name": "stdout",
     "output_type": "stream",
     "text": [
      "Best RMSE: 0.4962\n",
      "Best Parameters: {'n_factors': 300, 'n_epochs': 300, 'lr_all': 0.001, 'reg_all': 0.001}\n"
     ]
    }
   ],
   "source": [
    "param_grid = {\n",
    "    'n_factors': [100, 200, 300],\n",
    "    'n_epochs': [100, 200, 300],\n",
    "    'lr_all': [0.001, 0.1],\n",
    "    'reg_all': [0.001, 0.1]\n",
    "}\n",
    "\n",
    "gs = GridSearchCV(SVD, param_grid, measures=['rmse', 'mae'], cv=2, n_jobs=-1)\n",
    "\n",
    "gs.fit(train_data)\n",
    "\n",
    "best_params = gs.best_params['rmse']  \n",
    "best_model = gs.best_estimator['rmse']  \n",
    "\n",
    "print(f\"Best RMSE: {gs.best_score['rmse']:.4f}\")\n",
    "print(f\"Best Parameters: {best_params}\")"
   ]
  },
  {
   "cell_type": "code",
   "execution_count": 33,
   "metadata": {},
   "outputs": [],
   "source": [
    "trainset = train_data.build_full_trainset()"
   ]
  },
  {
   "cell_type": "code",
   "execution_count": 34,
   "metadata": {},
   "outputs": [
    {
     "name": "stdout",
     "output_type": "stream",
     "text": [
      "Processing epoch 0\n",
      "Processing epoch 1\n",
      "Processing epoch 2\n",
      "Processing epoch 3\n",
      "Processing epoch 4\n",
      "Processing epoch 5\n",
      "Processing epoch 6\n",
      "Processing epoch 7\n",
      "Processing epoch 8\n",
      "Processing epoch 9\n",
      "Processing epoch 10\n",
      "Processing epoch 11\n",
      "Processing epoch 12\n",
      "Processing epoch 13\n",
      "Processing epoch 14\n",
      "Processing epoch 15\n",
      "Processing epoch 16\n",
      "Processing epoch 17\n",
      "Processing epoch 18\n",
      "Processing epoch 19\n",
      "Processing epoch 20\n",
      "Processing epoch 21\n",
      "Processing epoch 22\n",
      "Processing epoch 23\n",
      "Processing epoch 24\n",
      "Processing epoch 25\n",
      "Processing epoch 26\n",
      "Processing epoch 27\n",
      "Processing epoch 28\n",
      "Processing epoch 29\n",
      "Processing epoch 30\n",
      "Processing epoch 31\n",
      "Processing epoch 32\n",
      "Processing epoch 33\n",
      "Processing epoch 34\n",
      "Processing epoch 35\n",
      "Processing epoch 36\n",
      "Processing epoch 37\n",
      "Processing epoch 38\n",
      "Processing epoch 39\n",
      "Processing epoch 40\n",
      "Processing epoch 41\n",
      "Processing epoch 42\n",
      "Processing epoch 43\n",
      "Processing epoch 44\n",
      "Processing epoch 45\n",
      "Processing epoch 46\n",
      "Processing epoch 47\n",
      "Processing epoch 48\n",
      "Processing epoch 49\n",
      "Processing epoch 50\n",
      "Processing epoch 51\n",
      "Processing epoch 52\n",
      "Processing epoch 53\n",
      "Processing epoch 54\n",
      "Processing epoch 55\n",
      "Processing epoch 56\n",
      "Processing epoch 57\n",
      "Processing epoch 58\n",
      "Processing epoch 59\n",
      "Processing epoch 60\n",
      "Processing epoch 61\n",
      "Processing epoch 62\n",
      "Processing epoch 63\n",
      "Processing epoch 64\n",
      "Processing epoch 65\n",
      "Processing epoch 66\n",
      "Processing epoch 67\n",
      "Processing epoch 68\n",
      "Processing epoch 69\n",
      "Processing epoch 70\n",
      "Processing epoch 71\n",
      "Processing epoch 72\n",
      "Processing epoch 73\n",
      "Processing epoch 74\n",
      "Processing epoch 75\n",
      "Processing epoch 76\n",
      "Processing epoch 77\n",
      "Processing epoch 78\n",
      "Processing epoch 79\n",
      "Processing epoch 80\n",
      "Processing epoch 81\n",
      "Processing epoch 82\n",
      "Processing epoch 83\n",
      "Processing epoch 84\n",
      "Processing epoch 85\n",
      "Processing epoch 86\n",
      "Processing epoch 87\n",
      "Processing epoch 88\n",
      "Processing epoch 89\n",
      "Processing epoch 90\n",
      "Processing epoch 91\n",
      "Processing epoch 92\n",
      "Processing epoch 93\n",
      "Processing epoch 94\n",
      "Processing epoch 95\n",
      "Processing epoch 96\n",
      "Processing epoch 97\n",
      "Processing epoch 98\n",
      "Processing epoch 99\n",
      "Processing epoch 100\n",
      "Processing epoch 101\n",
      "Processing epoch 102\n",
      "Processing epoch 103\n",
      "Processing epoch 104\n",
      "Processing epoch 105\n",
      "Processing epoch 106\n",
      "Processing epoch 107\n",
      "Processing epoch 108\n",
      "Processing epoch 109\n",
      "Processing epoch 110\n",
      "Processing epoch 111\n",
      "Processing epoch 112\n",
      "Processing epoch 113\n",
      "Processing epoch 114\n",
      "Processing epoch 115\n",
      "Processing epoch 116\n",
      "Processing epoch 117\n",
      "Processing epoch 118\n",
      "Processing epoch 119\n",
      "Processing epoch 120\n",
      "Processing epoch 121\n",
      "Processing epoch 122\n",
      "Processing epoch 123\n",
      "Processing epoch 124\n",
      "Processing epoch 125\n",
      "Processing epoch 126\n",
      "Processing epoch 127\n",
      "Processing epoch 128\n",
      "Processing epoch 129\n",
      "Processing epoch 130\n",
      "Processing epoch 131\n",
      "Processing epoch 132\n",
      "Processing epoch 133\n",
      "Processing epoch 134\n",
      "Processing epoch 135\n",
      "Processing epoch 136\n",
      "Processing epoch 137\n",
      "Processing epoch 138\n",
      "Processing epoch 139\n",
      "Processing epoch 140\n",
      "Processing epoch 141\n",
      "Processing epoch 142\n",
      "Processing epoch 143\n",
      "Processing epoch 144\n",
      "Processing epoch 145\n",
      "Processing epoch 146\n",
      "Processing epoch 147\n",
      "Processing epoch 148\n",
      "Processing epoch 149\n",
      "Processing epoch 150\n",
      "Processing epoch 151\n",
      "Processing epoch 152\n",
      "Processing epoch 153\n",
      "Processing epoch 154\n",
      "Processing epoch 155\n",
      "Processing epoch 156\n",
      "Processing epoch 157\n",
      "Processing epoch 158\n",
      "Processing epoch 159\n",
      "Processing epoch 160\n",
      "Processing epoch 161\n",
      "Processing epoch 162\n",
      "Processing epoch 163\n",
      "Processing epoch 164\n",
      "Processing epoch 165\n",
      "Processing epoch 166\n",
      "Processing epoch 167\n",
      "Processing epoch 168\n",
      "Processing epoch 169\n",
      "Processing epoch 170\n",
      "Processing epoch 171\n",
      "Processing epoch 172\n",
      "Processing epoch 173\n",
      "Processing epoch 174\n",
      "Processing epoch 175\n",
      "Processing epoch 176\n",
      "Processing epoch 177\n",
      "Processing epoch 178\n",
      "Processing epoch 179\n",
      "Processing epoch 180\n",
      "Processing epoch 181\n",
      "Processing epoch 182\n",
      "Processing epoch 183\n",
      "Processing epoch 184\n",
      "Processing epoch 185\n",
      "Processing epoch 186\n",
      "Processing epoch 187\n",
      "Processing epoch 188\n",
      "Processing epoch 189\n",
      "Processing epoch 190\n",
      "Processing epoch 191\n",
      "Processing epoch 192\n",
      "Processing epoch 193\n",
      "Processing epoch 194\n",
      "Processing epoch 195\n",
      "Processing epoch 196\n",
      "Processing epoch 197\n",
      "Processing epoch 198\n",
      "Processing epoch 199\n",
      "Processing epoch 200\n",
      "Processing epoch 201\n",
      "Processing epoch 202\n",
      "Processing epoch 203\n",
      "Processing epoch 204\n",
      "Processing epoch 205\n",
      "Processing epoch 206\n",
      "Processing epoch 207\n",
      "Processing epoch 208\n",
      "Processing epoch 209\n",
      "Processing epoch 210\n",
      "Processing epoch 211\n",
      "Processing epoch 212\n",
      "Processing epoch 213\n",
      "Processing epoch 214\n",
      "Processing epoch 215\n",
      "Processing epoch 216\n",
      "Processing epoch 217\n",
      "Processing epoch 218\n",
      "Processing epoch 219\n",
      "Processing epoch 220\n",
      "Processing epoch 221\n",
      "Processing epoch 222\n",
      "Processing epoch 223\n",
      "Processing epoch 224\n",
      "Processing epoch 225\n",
      "Processing epoch 226\n",
      "Processing epoch 227\n",
      "Processing epoch 228\n",
      "Processing epoch 229\n",
      "Processing epoch 230\n",
      "Processing epoch 231\n",
      "Processing epoch 232\n",
      "Processing epoch 233\n",
      "Processing epoch 234\n",
      "Processing epoch 235\n",
      "Processing epoch 236\n",
      "Processing epoch 237\n",
      "Processing epoch 238\n",
      "Processing epoch 239\n",
      "Processing epoch 240\n",
      "Processing epoch 241\n",
      "Processing epoch 242\n",
      "Processing epoch 243\n",
      "Processing epoch 244\n",
      "Processing epoch 245\n",
      "Processing epoch 246\n",
      "Processing epoch 247\n",
      "Processing epoch 248\n",
      "Processing epoch 249\n",
      "Processing epoch 250\n",
      "Processing epoch 251\n",
      "Processing epoch 252\n",
      "Processing epoch 253\n",
      "Processing epoch 254\n",
      "Processing epoch 255\n",
      "Processing epoch 256\n",
      "Processing epoch 257\n",
      "Processing epoch 258\n",
      "Processing epoch 259\n",
      "Processing epoch 260\n",
      "Processing epoch 261\n",
      "Processing epoch 262\n",
      "Processing epoch 263\n",
      "Processing epoch 264\n",
      "Processing epoch 265\n",
      "Processing epoch 266\n",
      "Processing epoch 267\n",
      "Processing epoch 268\n",
      "Processing epoch 269\n",
      "Processing epoch 270\n",
      "Processing epoch 271\n",
      "Processing epoch 272\n",
      "Processing epoch 273\n",
      "Processing epoch 274\n",
      "Processing epoch 275\n",
      "Processing epoch 276\n",
      "Processing epoch 277\n",
      "Processing epoch 278\n",
      "Processing epoch 279\n",
      "Processing epoch 280\n",
      "Processing epoch 281\n",
      "Processing epoch 282\n",
      "Processing epoch 283\n",
      "Processing epoch 284\n",
      "Processing epoch 285\n",
      "Processing epoch 286\n",
      "Processing epoch 287\n",
      "Processing epoch 288\n",
      "Processing epoch 289\n",
      "Processing epoch 290\n",
      "Processing epoch 291\n",
      "Processing epoch 292\n",
      "Processing epoch 293\n",
      "Processing epoch 294\n",
      "Processing epoch 295\n",
      "Processing epoch 296\n",
      "Processing epoch 297\n",
      "Processing epoch 298\n",
      "Processing epoch 299\n",
      "RMSE: 0.3273\n",
      "MAE:  0.2426\n"
     ]
    }
   ],
   "source": [
    "from surprise import accuracy\n",
    "\n",
    "best_model = SVD(**best_params, verbose=True)\n",
    "best_model.fit(trainset)\n",
    "\n",
    "testset = [tuple(x) for x in test_df[['user_id', 'book_id', 'rating']].values]\n",
    "predictions = best_model.test(testset)\n",
    "\n",
    "test_rmse = accuracy.rmse(predictions)\n",
    "test_mae = accuracy.mae(predictions)"
   ]
  },
  {
   "cell_type": "code",
   "execution_count": 35,
   "metadata": {},
   "outputs": [],
   "source": [
    "predictions = best_model.test(testset)"
   ]
  },
  {
   "cell_type": "code",
   "execution_count": 36,
   "metadata": {},
   "outputs": [
    {
     "name": "stdout",
     "output_type": "stream",
     "text": [
      "Precision@5: 0.7589, Recall@5: 0.1773, nDCG@5: 0.6717, MRR@@5: 0.8758 \n"
     ]
    }
   ],
   "source": [
    "from collections import defaultdict\n",
    "import numpy as np\n",
    "from math import log2\n",
    "\n",
    "\n",
    "def precision_recall_ndcg_mrr_at_k(predictions, min_rating, k, threshold):\n",
    "    denormalized_ratings = [denormalize_rating(est, min_rating) for _, _, _, est, _ in predictions]\n",
    "    denormalized_true_ratings = [denormalize_rating(true_r, min_rating) for _, _, true_r, _, _ in predictions]\n",
    "\n",
    "    denormalized_predictions = [(uid, iid, denormalized_true_ratings[idx], denormalized_ratings[idx], _) \n",
    "                                for idx, (uid, iid, true_r, est, _) in enumerate(predictions)]\n",
    "\n",
    "    # Organise predictions by user\n",
    "    user_est_true = defaultdict(list)\n",
    "    for uid, iid, true_r, est, _ in denormalized_predictions:\n",
    "        user_est_true[uid].append((iid, est, true_r))\n",
    "\n",
    "    precisions, recalls, ndcgs, mrrs = [], [], [], []\n",
    "\n",
    "    for user_id, user_ratings in user_est_true.items():\n",
    "        # Sort by estimated rating\n",
    "        user_ratings.sort(key=lambda x: x[1], reverse=True)\n",
    "\n",
    "        # Get relevant items (ratings >= threshold)\n",
    "        relevant_items = [(iid, est, true_r) for iid, est, true_r in user_ratings if true_r >= threshold]\n",
    "        n_rel = len(relevant_items)\n",
    "\n",
    "        if n_rel == 0:\n",
    "            precisions.append(0)\n",
    "            recalls.append(0)\n",
    "            ndcgs.append(0)\n",
    "            mrrs.append(0)\n",
    "            continue\n",
    "\n",
    "        # Get top-k predictions\n",
    "        top_k = user_ratings[:k]\n",
    "        n_rec_k = sum(est >= threshold for _, est, _ in top_k)\n",
    "        n_rel_and_rec_k = sum((true_r >= threshold) and (est >= threshold) for _, est, true_r in top_k)\n",
    "\n",
    "        # Precision at k\n",
    "        precision = n_rel_and_rec_k / n_rec_k if n_rec_k > 0 else 0\n",
    "        recall = n_rel_and_rec_k / n_rel if n_rel > 0 else 0\n",
    "\n",
    "        # NDCG at k\n",
    "        actual_dcg = sum((2 ** rel - 1) / log2(idx + 2) for idx, (_, _, rel) in enumerate(top_k))\n",
    "        ideal_ratings_sorted = sorted(user_ratings, key=lambda x: x[2], reverse=True)[:k]\n",
    "        ideal_dcg = sum((2 ** rel - 1) / log2(idx + 2) for idx, (_, _, rel) in enumerate(ideal_ratings_sorted))\n",
    "        ndcg = actual_dcg / ideal_dcg if ideal_dcg > 0 else 0\n",
    "\n",
    "        # MRR at k\n",
    "        mrr = 0\n",
    "        for rank, (iid, est, true_r) in enumerate(top_k, start=1):\n",
    "            if true_r >= threshold:\n",
    "                mrr = 1 / rank\n",
    "                break\n",
    "\n",
    "        # Append the metrics\n",
    "        precisions.append(precision)\n",
    "        recalls.append(recall)\n",
    "        ndcgs.append(ndcg)\n",
    "        mrrs.append(mrr)\n",
    "\n",
    "    return (\n",
    "        np.mean(precisions),\n",
    "        np.mean(recalls),\n",
    "        np.mean(ndcgs),\n",
    "        np.mean(mrrs)\n",
    "    )\n",
    "\n",
    "\n",
    "k = 5\n",
    "precisions, recalls, ndcgs, mrrs = precision_recall_ndcg_mrr_at_k(predictions, min_rating, k, 4)\n",
    "print(f'Precision@{k}: {precisions:.4f}, Recall@{k}: {recalls:.4f}, nDCG@{k}: {ndcgs:.4f}, MRR@@{k}: {mrrs:.4f} ')"
   ]
  },
  {
   "cell_type": "code",
   "execution_count": 37,
   "metadata": {},
   "outputs": [],
   "source": [
    "import pickle\n",
    "with open(\"../Pickle/best_svd_model.pkl\", \"wb\") as f:\n",
    "    pickle.dump(best_model, f)"
   ]
  },
  {
   "cell_type": "code",
   "execution_count": 38,
   "metadata": {},
   "outputs": [],
   "source": [
    "import pickle\n",
    "with open(\"../Pickle/best_svd_model.pkl\", \"rb\") as f:\n",
    "    loaded_model = pickle.load(f)"
   ]
  },
  {
   "cell_type": "code",
   "execution_count": 39,
   "metadata": {},
   "outputs": [],
   "source": [
    "trainset = loaded_model.trainset\n",
    "\n",
    "def predict_with_fallback(user_id, book_id):\n",
    "    if not trainset.knows_user(user_id):\n",
    "        return np.nan  # User not in training\n",
    "    if not trainset.knows_item(book_id):\n",
    "        return np.nan  # Book not in training\n",
    "    \n",
    "    pred = loaded_model.predict(user_id, book_id)\n",
    "    return pred.est  # Return estimated rating\n",
    "\n",
    "inference[\"predicted_rating\"] = inference.apply(\n",
    "    lambda row: predict_with_fallback(row[\"user_id\"], row[\"book_id\"]), axis=1\n",
    ")"
   ]
  },
  {
   "cell_type": "code",
   "execution_count": 40,
   "metadata": {},
   "outputs": [],
   "source": [
    "inference.loc[inference[\"predicted_rating\"].notna(), \"predicted_rating\"] = inference[\"predicted_rating\"].apply(\n",
    "    lambda x: denormalize_rating(x, min_rating) if pd.notna(x) else x)"
   ]
  },
  {
   "cell_type": "code",
   "execution_count": 41,
   "metadata": {},
   "outputs": [],
   "source": [
    "inference = inference.dropna(subset=['predicted_rating'])"
   ]
  },
  {
   "cell_type": "code",
   "execution_count": 42,
   "metadata": {},
   "outputs": [],
   "source": [
    "inference = inference.reset_index(drop = True)"
   ]
  },
  {
   "cell_type": "code",
   "execution_count": 43,
   "metadata": {},
   "outputs": [],
   "source": [
    "inference = inference[['user_id', 'book_id', 'predicted_rating']]\n",
    "inference = inference.rename(columns={\"predicted_rating\": \"rating\"})"
   ]
  },
  {
   "cell_type": "code",
   "execution_count": 44,
   "metadata": {},
   "outputs": [],
   "source": [
    "inference['rating'] = inference['rating'].apply(lambda x: round(x, 0))"
   ]
  },
  {
   "cell_type": "code",
   "execution_count": 45,
   "metadata": {},
   "outputs": [
    {
     "data": {
      "text/html": [
       "<div>\n",
       "<style scoped>\n",
       "    .dataframe tbody tr th:only-of-type {\n",
       "        vertical-align: middle;\n",
       "    }\n",
       "\n",
       "    .dataframe tbody tr th {\n",
       "        vertical-align: top;\n",
       "    }\n",
       "\n",
       "    .dataframe thead th {\n",
       "        text-align: right;\n",
       "    }\n",
       "</style>\n",
       "<table border=\"1\" class=\"dataframe\">\n",
       "  <thead>\n",
       "    <tr style=\"text-align: right;\">\n",
       "      <th></th>\n",
       "      <th>user_id</th>\n",
       "      <th>book_id</th>\n",
       "      <th>rating</th>\n",
       "    </tr>\n",
       "  </thead>\n",
       "  <tbody>\n",
       "    <tr>\n",
       "      <th>0</th>\n",
       "      <td>0</td>\n",
       "      <td>70</td>\n",
       "      <td>4.0</td>\n",
       "    </tr>\n",
       "    <tr>\n",
       "      <th>1</th>\n",
       "      <td>0</td>\n",
       "      <td>105</td>\n",
       "      <td>4.0</td>\n",
       "    </tr>\n",
       "    <tr>\n",
       "      <th>2</th>\n",
       "      <td>0</td>\n",
       "      <td>108</td>\n",
       "      <td>3.0</td>\n",
       "    </tr>\n",
       "    <tr>\n",
       "      <th>3</th>\n",
       "      <td>0</td>\n",
       "      <td>171</td>\n",
       "      <td>4.0</td>\n",
       "    </tr>\n",
       "    <tr>\n",
       "      <th>4</th>\n",
       "      <td>0</td>\n",
       "      <td>178</td>\n",
       "      <td>3.0</td>\n",
       "    </tr>\n",
       "    <tr>\n",
       "      <th>...</th>\n",
       "      <td>...</td>\n",
       "      <td>...</td>\n",
       "      <td>...</td>\n",
       "    </tr>\n",
       "    <tr>\n",
       "      <th>37463</th>\n",
       "      <td>1972</td>\n",
       "      <td>87775</td>\n",
       "      <td>5.0</td>\n",
       "    </tr>\n",
       "    <tr>\n",
       "      <th>37464</th>\n",
       "      <td>1972</td>\n",
       "      <td>17400</td>\n",
       "      <td>5.0</td>\n",
       "    </tr>\n",
       "    <tr>\n",
       "      <th>37465</th>\n",
       "      <td>1972</td>\n",
       "      <td>58820</td>\n",
       "      <td>5.0</td>\n",
       "    </tr>\n",
       "    <tr>\n",
       "      <th>37466</th>\n",
       "      <td>1972</td>\n",
       "      <td>21104</td>\n",
       "      <td>3.0</td>\n",
       "    </tr>\n",
       "    <tr>\n",
       "      <th>37467</th>\n",
       "      <td>1972</td>\n",
       "      <td>200190</td>\n",
       "      <td>5.0</td>\n",
       "    </tr>\n",
       "  </tbody>\n",
       "</table>\n",
       "<p>37468 rows × 3 columns</p>\n",
       "</div>"
      ],
      "text/plain": [
       "       user_id  book_id  rating\n",
       "0            0       70     4.0\n",
       "1            0      105     4.0\n",
       "2            0      108     3.0\n",
       "3            0      171     4.0\n",
       "4            0      178     3.0\n",
       "...        ...      ...     ...\n",
       "37463     1972    87775     5.0\n",
       "37464     1972    17400     5.0\n",
       "37465     1972    58820     5.0\n",
       "37466     1972    21104     3.0\n",
       "37467     1972   200190     5.0\n",
       "\n",
       "[37468 rows x 3 columns]"
      ]
     },
     "execution_count": 45,
     "metadata": {},
     "output_type": "execute_result"
    }
   ],
   "source": [
    "inference"
   ]
  },
  {
   "cell_type": "code",
   "execution_count": 46,
   "metadata": {},
   "outputs": [],
   "source": [
    "with open('../Pickle/imputed_ratings.pkl', 'wb') as f:\n",
    "    pickle.dump(inference, f)"
   ]
  },
  {
   "cell_type": "code",
   "execution_count": null,
   "metadata": {},
   "outputs": [],
   "source": []
  },
  {
   "cell_type": "code",
   "execution_count": null,
   "metadata": {},
   "outputs": [],
   "source": []
  }
 ],
 "metadata": {
  "kernelspec": {
   "display_name": "goodreads",
   "language": "python",
   "name": "python3"
  },
  "language_info": {
   "codemirror_mode": {
    "name": "ipython",
    "version": 3
   },
   "file_extension": ".py",
   "mimetype": "text/x-python",
   "name": "python",
   "nbconvert_exporter": "python",
   "pygments_lexer": "ipython3",
   "version": "3.12.3"
  }
 },
 "nbformat": 4,
 "nbformat_minor": 2
}
