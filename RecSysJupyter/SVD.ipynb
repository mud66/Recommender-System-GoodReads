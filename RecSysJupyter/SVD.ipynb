{
 "cells": [
  {
   "cell_type": "code",
   "execution_count": null,
   "metadata": {},
   "outputs": [],
   "source": [
    "import pandas as pd\n",
    "import numpy as np\n",
    "import pickle\n",
    "from surprise import Reader, Dataset, SVD\n",
    "from surprise.model_selection import GridSearchCV\n",
    "from sklearn.model_selection import train_test_split\n",
    "import matplotlib.pyplot as plt\n",
    "from sklearn.utils import resample\n",
    "from collections import defaultdict\n",
    "from surprise import accuracy\n"
   ]
  },
  {
   "cell_type": "code",
   "execution_count": null,
   "metadata": {},
   "outputs": [],
   "source": [
    "def load_data():\n",
    "    reviews = pd.read_pickle(\"../Pickle/reviews.pkl\")\n",
    "    interactions = pd.read_pickle(\"../Pickle/interactions.pkl\")\n",
    "    read = pd.read_pickle(\"../Pickle/read.pkl\")\n",
    "    return reviews, interactions, read"
   ]
  },
  {
   "cell_type": "code",
   "execution_count": null,
   "metadata": {},
   "outputs": [],
   "source": [
    "def preprocess_data(df):\n",
    "    users_with_only_zeros = df.groupby('user_id')['rating'].apply(lambda x: (x == 0).all())\n",
    "    users_with_only_zeros = users_with_only_zeros[users_with_only_zeros].index\n",
    "    df = df[~df['user_id'].isin(users_with_only_zeros)]\n",
    "    \n",
    "    rated_books = df[df['is_read'] != 0].reset_index(drop = True)\n",
    "    rated_books = rated_books[rated_books['rating'] != 0].reset_index(drop=True)\n",
    "    return rated_books"
   ]
  },
  {
   "cell_type": "code",
   "execution_count": null,
   "metadata": {},
   "outputs": [],
   "source": [
    "def split_data(df):\n",
    "    user_counts = df['user_id'].value_counts()\n",
    "    book_counts = df['book_id'].value_counts()\n",
    "    \n",
    "    single_interactions = df[df['user_id'].isin(user_counts[user_counts == 1].index) |\n",
    "                             df['book_id'].isin(book_counts[book_counts == 1].index)]\n",
    "    remaining_interactions = df[~df.index.isin(single_interactions.index)]\n",
    "    \n",
    "    train_df, test_df = train_test_split(remaining_interactions, test_size=0.2, random_state=42, stratify=remaining_interactions['rating'])\n",
    "    train_df = pd.concat([train_df, single_interactions], ignore_index=True)\n",
    "    \n",
    "    return train_df, test_df"
   ]
  },
  {
   "cell_type": "code",
   "execution_count": null,
   "metadata": {},
   "outputs": [],
   "source": [
    "def upsample_ratings(train_df):\n",
    "    rating_counts = train_df['rating'].value_counts()\n",
    "    majority_count = rating_counts.max()\n",
    "\n",
    "    MAX_TARGET_SIZE = int(1 * majority_count)\n",
    "\n",
    "    modified_dfs = []\n",
    "    for rating, count in rating_counts.items():\n",
    "        class_df = train_df[train_df['rating'] == rating]\n",
    "        if count >= MAX_TARGET_SIZE:\n",
    "            balanced_df = class_df.copy()\n",
    "        else:\n",
    "            balanced_df = resample(class_df,\n",
    "                               replace=True,\n",
    "                               n_samples=MAX_TARGET_SIZE,\n",
    "                               random_state=42)\n",
    "            balanced_df['rating'] = balanced_df['rating'] + np.random.uniform(-0.1, 0.1, size=balanced_df.shape[0])\n",
    "            balanced_df['rating'] = balanced_df['rating'].clip(1, 5)\n",
    "        modified_dfs.append(balanced_df)\n",
    "    balanced_train = pd.concat(modified_dfs, ignore_index=True)\n",
    "    train_df = balanced_train.sample(frac=1, random_state=42).reset_index(drop=True)\n",
    "    \n",
    "    return pd.concat([train_df] + modified_dfs, ignore_index=True)"
   ]
  },
  {
   "cell_type": "code",
   "execution_count": null,
   "metadata": {},
   "outputs": [],
   "source": [
    "def normalize_ratings(train_df, test_df):\n",
    "    min_rating = train_df['rating'].min()\n",
    "    \n",
    "    train_df = train_df.copy()\n",
    "    test_df = test_df.copy()\n",
    "    \n",
    "    train_df['rating'] = np.log1p(train_df['rating'] - min_rating)\n",
    "    test_df['rating'] = np.log1p(test_df['rating'] - min_rating)\n",
    "    \n",
    "    return train_df, test_df, min_rating\n",
    "\n",
    "def denormalize_rating(log_scaled_ratings, min_rating):\n",
    "    original_ratings = np.expm1(np.asarray(log_scaled_ratings, dtype=float))\n",
    "    return np.clip(original_ratings + min_rating, 1, 5) \n"
   ]
  },
  {
   "cell_type": "code",
   "execution_count": null,
   "metadata": {},
   "outputs": [],
   "source": [
    "reviews, interactions, read = load_data()"
   ]
  },
  {
   "cell_type": "code",
   "execution_count": null,
   "metadata": {},
   "outputs": [],
   "source": [
    "users_with_only_zeros = read.groupby('user_id')['rating'].apply(lambda x: (x == 0).all())\n",
    "users_with_only_zeros = users_with_only_zeros[users_with_only_zeros].index\n",
    "read = read[~read['user_id'].isin(users_with_only_zeros)]"
   ]
  },
  {
   "cell_type": "code",
   "execution_count": null,
   "metadata": {},
   "outputs": [],
   "source": [
    "# Filter the dataframe to include only rows where 'is_read' is 1\n",
    "read_df = read[read['is_read'] == 1].reset_index(drop=True)\n",
    "# Filter the dataframe to include only rows where 'rating' is 0\n",
    "zero_rating_df = read_df[read_df['rating'] == 0].reset_index(drop=True)\n",
    "# Filter the reviews dataframe to include only rows where 'rating' is 0\n",
    "zero_rating_reviews = reviews[reviews['rating'] == 0]\n",
    "# Filter the interactions dataframe to include only rows where 'rating' is 0\n",
    "zero_rating_interactions = interactions[interactions['rating'] == 0]\n",
    "# Get unique user IDs from the zero-rated reviews\n",
    "zero_rating_review_users = zero_rating_reviews['user_id'].unique()\n",
    "# Get unique user IDs from the zero-rated interactions\n",
    "zero_rating_interaction_users = zero_rating_interactions['user_id'].unique()\n",
    "# Combine the zero-rated reviews and interactions into a single dataframe used for inference\n",
    "inference = pd.concat([zero_rating_reviews, zero_rating_interactions], ignore_index=True)\n",
    "# Create a set to store unique user IDs\n",
    "unique_users = set()\n",
    "# Combine the unique user IDs from both reviews and interactions, ensuring no duplicates\n",
    "unique_user_ids = [user_id for user_id in list(zero_rating_review_users) + list(zero_rating_interaction_users) \n",
    "                   if user_id not in unique_users and not unique_users.add(user_id)]\n",
    "# Filter the original dataframe to include only rows with user IDs from the combined list\n",
    "filtered_df = read_df[read_df['user_id'].isin(unique_user_ids)]\n",
    "# Filter the original dataframe to include only rows where 'rating' is not 0\n",
    "non_zero_rating_df = read_df[read_df['rating'] != 0]\n",
    "non_zero_rating_sample = non_zero_rating_df.sample(frac=0.02, random_state=42)\n",
    "# Combine the filtered dataframe with the sampled non-zero rated rows\n",
    "final_df = pd.concat([filtered_df, non_zero_rating_sample], ignore_index=True)\n",
    "# Reset the index of the final dataframe\n",
    "df = final_df.reset_index(drop=True)"
   ]
  },
  {
   "cell_type": "code",
   "execution_count": null,
   "metadata": {},
   "outputs": [],
   "source": [
    "df = df.astype(np.int32)\n",
    "df = preprocess_data(df)\n",
    "train_df, test_df = split_data(df)\n",
    "train_df = upsample_ratings(train_df)\n",
    "train_df, test_df, min_rating = normalize_ratings(train_df, test_df)"
   ]
  },
  {
   "cell_type": "code",
   "execution_count": null,
   "metadata": {},
   "outputs": [],
   "source": [
    "plt.hist(train_df['rating'], bins=10, edgecolor='black')\n",
    "plt.title('Histogram of Balanced and Log Normalised Train Set Ratings')\n",
    "plt.xlabel('Predicted Ratings')\n",
    "plt.ylabel('Frequency')\n",
    "plt.show()"
   ]
  },
  {
   "cell_type": "code",
   "execution_count": null,
   "metadata": {},
   "outputs": [],
   "source": [
    "reader = Reader(rating_scale=(1, 5))\n",
    "train_data = Dataset.load_from_df(train_df[['user_id', 'book_id', 'rating']], reader)"
   ]
  },
  {
   "cell_type": "code",
   "execution_count": null,
   "metadata": {},
   "outputs": [],
   "source": [
    "param_grid = {\n",
    "    'n_factors': [100, 200, 300],\n",
    "    'n_epochs': [20, 40, 60],\n",
    "    'lr_all': [0.001, 0.1],\n",
    "    'reg_all': [0.001, 0.1],\n",
    "\n",
    "}\n",
    "\n",
    "gs = GridSearchCV(SVD, param_grid, measures=['rmse', 'mae'], cv=2, n_jobs=-1)\n",
    "\n",
    "gs.fit(train_data)\n",
    "\n",
    "best_params = gs.best_params['rmse']  \n",
    "best_model = gs.best_estimator['rmse']  \n",
    "\n",
    "print(f\"Best RMSE: {gs.best_score['rmse']:.4f}\")\n",
    "print(f\"Best Parameters: {best_params}\")"
   ]
  },
  {
   "cell_type": "code",
   "execution_count": null,
   "metadata": {},
   "outputs": [],
   "source": [
    "trainset = train_data.build_full_trainset()"
   ]
  },
  {
   "cell_type": "code",
   "execution_count": null,
   "metadata": {},
   "outputs": [],
   "source": [
    "best_model = SVD(**best_params, verbose=True)\n",
    "best_model.fit(trainset)\n",
    "\n",
    "testset = [tuple(x) for x in test_df[['user_id', 'book_id', 'rating']].values]\n",
    "predictions = best_model.test(testset)\n",
    "\n",
    "test_rmse = accuracy.rmse(predictions)\n",
    "test_mae = accuracy.mae(predictions)"
   ]
  },
  {
   "cell_type": "code",
   "execution_count": null,
   "metadata": {},
   "outputs": [],
   "source": [
    "predictions = best_model.test(testset)"
   ]
  },
  {
   "cell_type": "code",
   "execution_count": null,
   "metadata": {},
   "outputs": [],
   "source": [
    "def evaluate_model(predictions, min_rating, k, threshold, item_popularity, num_users):\n",
    "    denormalized_predictions = [\n",
    "        (uid, iid, true_r * (5 - min_rating) + min_rating, est * (5 - min_rating) + min_rating, details)\n",
    "        for (uid, iid, true_r, est, details) in predictions\n",
    "    ]\n",
    "\n",
    "    user_est_true = defaultdict(list)\n",
    "    for uid, iid, true_r, est, _ in denormalized_predictions:\n",
    "        user_est_true[uid].append((iid, est, true_r))\n",
    "\n",
    "    precisions = []\n",
    "    recalls = []\n",
    "    ndcgs = []\n",
    "    map_scores = []\n",
    "    mrr_scores = []  \n",
    "    novelty_scores = []\n",
    "    hit_rate_scores = []\n",
    "    all_recommended_items = set()  \n",
    "    recommended_relevant_items = set() \n",
    "\n",
    "    relevant_items = set(iid for _, iid, true_r, _, _ in denormalized_predictions if true_r >= threshold)\n",
    "\n",
    "    for user_id, user_ratings in user_est_true.items():\n",
    "        user_ratings_sorted = sorted(user_ratings, key=lambda x: x[1], reverse=True)\n",
    "        top_k = user_ratings_sorted[:k]\n",
    "\n",
    "        top_k_items = [iid for iid, _, _ in top_k]\n",
    "        all_recommended_items.update(top_k_items)\n",
    "        n_rel = sum((true_r >= threshold) for (_, _, true_r) in user_ratings)\n",
    "        n_rec_k = sum((true_r >= threshold) for (_, _, true_r) in top_k)\n",
    "        n_rel_and_rec_k = sum((true_r >= threshold) for (_, _, true_r) in top_k)\n",
    "\n",
    "        precision = n_rel_and_rec_k / k if k != 0 else 0\n",
    "        recall = n_rel_and_rec_k / n_rel if n_rel != 0 else 0\n",
    "        precisions.append(precision)\n",
    "        recalls.append(recall)\n",
    "        dcg = sum(\n",
    "            (true_r >= threshold) / np.log2(idx + 2)\n",
    "            for idx, (_, _, true_r) in enumerate(top_k)\n",
    "        )\n",
    "        idcg = sum(\n",
    "            1.0 / np.log2(idx + 2) for idx in range(min(n_rel, k))\n",
    "        )\n",
    "        ndcg = dcg / idcg if idcg != 0 else 0\n",
    "        ndcgs.append(ndcg)\n",
    "        hits = 0\n",
    "        sum_precisions = 0\n",
    "        for idx, (_, _, true_r) in enumerate(top_k):\n",
    "            if true_r >= threshold:\n",
    "                hits += 1\n",
    "                sum_precisions += hits / (idx + 1)\n",
    "        ap = sum_precisions / min(n_rel, k) if n_rel != 0 else 0\n",
    "        map_scores.append(ap)\n",
    "        first_relevant_rank = None\n",
    "        for idx, (_, _, true_r) in enumerate(top_k):\n",
    "            if true_r >= threshold:\n",
    "                first_relevant_rank = idx + 1  \n",
    "                break\n",
    "\n",
    "        if first_relevant_rank is not None:\n",
    "            mrr_scores.append(1 / first_relevant_rank)\n",
    "        else:\n",
    "            mrr_scores.append(0)\n",
    "        novelty = np.mean([1 - (item_popularity.get(iid, 1) / num_users) for iid in top_k_items])\n",
    "        novelty_scores.append(novelty)\n",
    "        hit_rate = 1 if n_rel_and_rec_k > 0 else 0\n",
    "        hit_rate_scores.append(hit_rate)\n",
    "        recommended_relevant_items.update([iid for iid, est, true_r in top_k if true_r >= threshold])\n",
    "\n",
    "    user_coverage = sum(1 for user_ratings in user_est_true.values() if any(true_r >= threshold for _, _, true_r in user_ratings)) / len(user_est_true)\n",
    "    return (\n",
    "        np.mean(precisions),\n",
    "        np.mean(recalls),\n",
    "        np.mean(ndcgs),\n",
    "        np.mean(map_scores),\n",
    "        np.mean(mrr_scores),  \n",
    "        np.mean(novelty_scores),\n",
    "        np.mean(hit_rate_scores),\n",
    "        user_coverage\n",
    "    )\n",
    "\n",
    "\n",
    "k = 5\n",
    "threshold = 4  \n",
    "item_popularity = test_df['book_id'].value_counts().to_dict()\n",
    "num_users = test_df['user_id'].nunique()\n",
    "precision, recall, ndcg, map_score, mrr, novelty, hit_rate, user_coverage = evaluate_model(\n",
    "    predictions, min_rating=1.0, k=k, threshold=threshold, item_popularity=item_popularity, num_users=num_users\n",
    ")\n",
    "print(f'Precision@{k}: {precision:.4f}')\n",
    "print(f'Recall@{k}: {recall:.4f}')\n",
    "print(f'nDCG@{k}: {ndcg:.4f}')\n",
    "print(f'MAP@{k}: {map_score:.4f}')\n",
    "print(f'MRR@{k}: {mrr:.4f}')\n",
    "print(f'Novelty: {novelty:.4f}')\n",
    "print(f'Hit Rate: {hit_rate:.4f}')\n",
    "print(f'User Coverage: {user_coverage:.4f}')\n"
   ]
  },
  {
   "cell_type": "code",
   "execution_count": null,
   "metadata": {},
   "outputs": [],
   "source": [
    "import pickle\n",
    "with open(\"../Pickle/best_svd_model.pkl\", \"wb\") as f:\n",
    "    pickle.dump(best_model, f)\n",
    "\n",
    "with open(\"../Pickle/best_svd_model.pkl\", \"rb\") as f:\n",
    "    loaded_model = pickle.load(f)"
   ]
  },
  {
   "cell_type": "code",
   "execution_count": null,
   "metadata": {},
   "outputs": [],
   "source": [
    "def predict_with_fallback(user_id, book_id):\n",
    "    if not trainset.knows_user(user_id):\n",
    "        return np.nan \n",
    "    if not trainset.knows_item(book_id):\n",
    "        return np.nan  \n",
    "    \n",
    "    pred = loaded_model.predict(user_id, book_id)\n",
    "    return pred.est  \n",
    "\n",
    "inference[\"predicted_rating\"] = inference.apply(\n",
    "    lambda row: predict_with_fallback(row[\"user_id\"], row[\"book_id\"]), axis=1\n",
    ")"
   ]
  },
  {
   "cell_type": "code",
   "execution_count": null,
   "metadata": {},
   "outputs": [],
   "source": [
    "inference.loc[inference[\"predicted_rating\"].notna(), \"predicted_rating\"] = inference[\"predicted_rating\"].apply(\n",
    "    lambda x: denormalize_rating(x, min_rating) if pd.notna(x) else x)"
   ]
  },
  {
   "cell_type": "code",
   "execution_count": null,
   "metadata": {},
   "outputs": [],
   "source": [
    "inference = inference.dropna(subset=['predicted_rating'])\n",
    "inference = inference.reset_index(drop = True)\n",
    "inference = inference[['user_id', 'book_id', 'predicted_rating']]\n",
    "inference = inference.rename(columns={\"predicted_rating\": \"rating\"})\n",
    "inference['rating'] = inference['rating'].apply(lambda x: round(x, 0))"
   ]
  },
  {
   "cell_type": "code",
   "execution_count": null,
   "metadata": {},
   "outputs": [],
   "source": [
    "with open('../Pickle/imputed_ratings.pkl', 'wb') as f:\n",
    "    pickle.dump(inference, f)"
   ]
  }
 ],
 "metadata": {
  "kernelspec": {
   "display_name": "goodreads",
   "language": "python",
   "name": "python3"
  },
  "language_info": {
   "codemirror_mode": {
    "name": "ipython",
    "version": 3
   },
   "file_extension": ".py",
   "mimetype": "text/x-python",
   "name": "python",
   "nbconvert_exporter": "python",
   "pygments_lexer": "ipython3",
   "version": "3.12.3"
  }
 },
 "nbformat": 4,
 "nbformat_minor": 2
}
