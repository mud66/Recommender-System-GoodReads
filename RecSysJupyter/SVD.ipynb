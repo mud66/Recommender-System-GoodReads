{
 "cells": [
  {
   "cell_type": "code",
   "execution_count": 1,
   "metadata": {},
   "outputs": [],
   "source": [
    "import pandas as pd\n",
    "import numpy as np\n",
    "import pickle\n",
    "from surprise import Reader, Dataset, SVD\n",
    "from surprise.model_selection import GridSearchCV\n",
    "from sklearn.model_selection import train_test_split\n",
    "import matplotlib.pyplot as plt\n",
    "from sklearn.utils import resample\n",
    "from collections import defaultdict\n",
    "from math import log2"
   ]
  },
  {
   "cell_type": "code",
   "execution_count": 2,
   "metadata": {},
   "outputs": [],
   "source": [
    "def load_data():\n",
    "    reviews = pd.read_pickle(\"../Pickle/reviews.pkl\")\n",
    "    interactions = pd.read_pickle(\"../Pickle/interactions.pkl\")\n",
    "    read = pd.read_pickle(\"../Pickle/read.pkl\")\n",
    "    return reviews, interactions, read"
   ]
  },
  {
   "cell_type": "code",
   "execution_count": 3,
   "metadata": {},
   "outputs": [],
   "source": [
    "def preprocess_data(df):\n",
    "    users_with_only_zeros = df.groupby('user_id')['rating'].apply(lambda x: (x == 0).all())\n",
    "    users_with_only_zeros = users_with_only_zeros[users_with_only_zeros].index\n",
    "    df = df[~df['user_id'].isin(users_with_only_zeros)]\n",
    "    \n",
    "    rated_books = df[df['is_read'] != 0].reset_index(drop = True)\n",
    "    rated_books = rated_books[rated_books['rating'] != 0].reset_index(drop=True)\n",
    "    return rated_books"
   ]
  },
  {
   "cell_type": "code",
   "execution_count": 4,
   "metadata": {},
   "outputs": [],
   "source": [
    "def split_data(df):\n",
    "    user_counts = df['user_id'].value_counts()\n",
    "    book_counts = df['book_id'].value_counts()\n",
    "    \n",
    "    single_interactions = df[df['user_id'].isin(user_counts[user_counts == 1].index) |\n",
    "                             df['book_id'].isin(book_counts[book_counts == 1].index)]\n",
    "    remaining_interactions = df[~df.index.isin(single_interactions.index)]\n",
    "    \n",
    "    train_df, test_df = train_test_split(remaining_interactions, test_size=0.2, random_state=42, stratify=remaining_interactions['rating'])\n",
    "    train_df = pd.concat([train_df, single_interactions], ignore_index=True)\n",
    "    \n",
    "    return train_df, test_df"
   ]
  },
  {
   "cell_type": "code",
   "execution_count": 5,
   "metadata": {},
   "outputs": [],
   "source": [
    "def upsample_ratings(train_df):\n",
    "    rating_counts = train_df['rating'].value_counts()\n",
    "\n",
    "# Find the majority class size (highest count)\n",
    "    majority_count = rating_counts.max()\n",
    "\n",
    "    MAX_TARGET_SIZE = int(1 * majority_count)\n",
    "\n",
    "    modified_dfs = []\n",
    "\n",
    "# Perform upsampling with slight noise addition for each class\n",
    "    for rating, count in rating_counts.items():\n",
    "        class_df = train_df[train_df['rating'] == rating]\n",
    "\n",
    "        if count >= MAX_TARGET_SIZE:\n",
    "            balanced_df = class_df.copy()\n",
    "        else:\n",
    "            balanced_df = resample(class_df,\n",
    "                               replace=True,\n",
    "                               n_samples=MAX_TARGET_SIZE,\n",
    "                               random_state=42)\n",
    "\n",
    "        # Add random noise to the ratings\n",
    "            balanced_df['rating'] = balanced_df['rating'] + np.random.uniform(-0.1, 0.1, size=balanced_df.shape[0])\n",
    "            # Ensure ratings are within the valid range (e.g., between 1 and 5)\n",
    "            balanced_df['rating'] = balanced_df['rating'].clip(1, 5)\n",
    "\n",
    "        modified_dfs.append(balanced_df)\n",
    "\n",
    "\n",
    "    balanced_train = pd.concat(modified_dfs, ignore_index=True)\n",
    "\n",
    "# Shuffle dataset\n",
    "    train_df = balanced_train.sample(frac=1, random_state=42).reset_index(drop=True)\n",
    "    \n",
    "    return pd.concat([train_df] + modified_dfs, ignore_index=True)"
   ]
  },
  {
   "cell_type": "code",
   "execution_count": 6,
   "metadata": {},
   "outputs": [],
   "source": [
    "def normalize_ratings(train_df, test_df):\n",
    "    min_rating = train_df['rating'].min()\n",
    "    \n",
    "    train_df = train_df.copy()\n",
    "    test_df = test_df.copy()\n",
    "    \n",
    "    train_df['rating'] = np.log1p(train_df['rating'] - min_rating)\n",
    "    test_df['rating'] = np.log1p(test_df['rating'] - min_rating)\n",
    "    \n",
    "    return train_df, test_df, min_rating\n",
    "\n",
    "def denormalize_rating(log_scaled_ratings, min_rating):\n",
    "    original_ratings = np.expm1(np.asarray(log_scaled_ratings, dtype=float))\n",
    "    return np.clip(original_ratings + min_rating, 1, 5) \n"
   ]
  },
  {
   "cell_type": "code",
   "execution_count": 7,
   "metadata": {},
   "outputs": [],
   "source": [
    "reviews, interactions, read = load_data()"
   ]
  },
  {
   "cell_type": "code",
   "execution_count": 8,
   "metadata": {},
   "outputs": [],
   "source": [
    "users_with_only_zeros = read.groupby('user_id')['rating'].apply(lambda x: (x == 0).all())\n",
    "users_with_only_zeros = users_with_only_zeros[users_with_only_zeros].index\n",
    "read = read[~read['user_id'].isin(users_with_only_zeros)]"
   ]
  },
  {
   "cell_type": "code",
   "execution_count": 9,
   "metadata": {},
   "outputs": [],
   "source": [
    "# Filter the dataframe to include only rows where 'is_read' is 1\n",
    "read_df = read[read['is_read'] == 1].reset_index(drop=True)\n",
    "# Filter the dataframe to include only rows where 'rating' is 0\n",
    "zero_rating_df = read_df[read_df['rating'] == 0].reset_index(drop=True)\n",
    "# Filter the reviews dataframe to include only rows where 'rating' is 0\n",
    "zero_rating_reviews = reviews[reviews['rating'] == 0]\n",
    "# Filter the interactions dataframe to include only rows where 'rating' is 0\n",
    "zero_rating_interactions = interactions[interactions['rating'] == 0]\n",
    "# Get unique user IDs from the zero-rated reviews\n",
    "zero_rating_review_users = zero_rating_reviews['user_id'].unique()\n",
    "# Get unique user IDs from the zero-rated interactions\n",
    "zero_rating_interaction_users = zero_rating_interactions['user_id'].unique()\n",
    "# Combine the zero-rated reviews and interactions into a single dataframe used for inference\n",
    "inference = pd.concat([zero_rating_reviews, zero_rating_interactions], ignore_index=True)\n",
    "# Create a set to store unique user IDs\n",
    "unique_users = set()\n",
    "# Combine the unique user IDs from both reviews and interactions, ensuring no duplicates\n",
    "unique_user_ids = [user_id for user_id in list(zero_rating_review_users) + list(zero_rating_interaction_users) \n",
    "                   if user_id not in unique_users and not unique_users.add(user_id)]\n",
    "# Filter the original dataframe to include only rows with user IDs from the combined list\n",
    "filtered_df = read_df[read_df['user_id'].isin(unique_user_ids)]\n",
    "# Filter the original dataframe to include only rows where 'rating' is not 0\n",
    "non_zero_rating_df = read_df[read_df['rating'] != 0]\n",
    "# Sample 1% of the non-zero rated rows for more varety in the dataset\n",
    "non_zero_rating_sample = non_zero_rating_df.sample(frac=0.02, random_state=42)\n",
    "# Combine the filtered dataframe with the sampled non-zero rated rows\n",
    "final_df = pd.concat([filtered_df, non_zero_rating_sample], ignore_index=True)\n",
    "# Reset the index of the final dataframe\n",
    "df = final_df.reset_index(drop=True)"
   ]
  },
  {
   "cell_type": "code",
   "execution_count": 10,
   "metadata": {},
   "outputs": [
    {
     "data": {
      "text/plain": [
       "4226857"
      ]
     },
     "execution_count": 10,
     "metadata": {},
     "output_type": "execute_result"
    }
   ],
   "source": [
    "len(df)"
   ]
  },
  {
   "cell_type": "code",
   "execution_count": 11,
   "metadata": {},
   "outputs": [
    {
     "data": {
      "text/plain": [
       "506501"
      ]
     },
     "execution_count": 11,
     "metadata": {},
     "output_type": "execute_result"
    }
   ],
   "source": [
    "df['user_id'].nunique()"
   ]
  },
  {
   "cell_type": "code",
   "execution_count": 12,
   "metadata": {},
   "outputs": [],
   "source": [
    "df = df.astype(np.int32)\n",
    "df = preprocess_data(df)\n",
    "train_df, test_df = split_data(df)\n",
    "train_df = upsample_ratings(train_df)\n",
    "train_df, test_df, min_rating = normalize_ratings(train_df, test_df)"
   ]
  },
  {
   "cell_type": "code",
   "execution_count": 13,
   "metadata": {},
   "outputs": [
    {
     "data": {
      "image/png": "[encoded data removed]",
      "text/plain": [
       "<Figure size 640x480 with 1 Axes>"
      ]
     },
     "metadata": {},
     "output_type": "display_data"
    }
   ],
   "source": [
    "plt.hist(train_df['rating'], bins=10, edgecolor='black')\n",
    "plt.title('Histogram of Balanced and Log Normalised Train Set Ratings')\n",
    "plt.xlabel('Predicted Ratings')\n",
    "plt.ylabel('Frequency')\n",
    "plt.show()"
   ]
  },
  {
   "cell_type": "code",
   "execution_count": 14,
   "metadata": {},
   "outputs": [],
   "source": [
    "reader = Reader(rating_scale=(1, 5))\n",
    "train_data = Dataset.load_from_df(train_df[['user_id', 'book_id', 'rating']], reader)"
   ]
  },
  {
   "cell_type": "code",
   "execution_count": null,
   "metadata": {},
   "outputs": [
    {
     "name": "stdout",
     "output_type": "stream",
     "text": [
      "Best RMSE: 0.4870\n",
      "Best Parameters: {'n_factors': 300, 'n_epochs': 60, 'lr_all': 0.001, 'reg_all': 0.001}\n"
     ]
    }
   ],
   "source": [
    "param_grid = {\n",
    "    'n_factors': [100, 200, 300],\n",
    "    'n_epochs': [20, 40, 60],\n",
    "    'lr_all': [0.001, 0.1],\n",
    "    'reg_all': [0.001, 0.1],\n",
    "\n",
    "}\n",
    "\n",
    "gs = GridSearchCV(SVD, param_grid, measures=['rmse', 'mae'], cv=2, n_jobs=-1)\n",
    "\n",
    "gs.fit(train_data)\n",
    "\n",
    "best_params = gs.best_params['rmse']  \n",
    "best_model = gs.best_estimator['rmse']  \n",
    "\n",
    "print(f\"Best RMSE: {gs.best_score['rmse']:.4f}\")\n",
    "print(f\"Best Parameters: {best_params}\")"
   ]
  },
  {
   "cell_type": "code",
   "execution_count": 16,
   "metadata": {},
   "outputs": [],
   "source": [
    "trainset = train_data.build_full_trainset()"
   ]
  },
  {
   "cell_type": "code",
   "execution_count": 17,
   "metadata": {},
   "outputs": [
    {
     "name": "stdout",
     "output_type": "stream",
     "text": [
      "Processing epoch 0\n",
      "Processing epoch 1\n",
      "Processing epoch 2\n",
      "Processing epoch 3\n",
      "Processing epoch 4\n",
      "Processing epoch 5\n",
      "Processing epoch 6\n",
      "Processing epoch 7\n",
      "Processing epoch 8\n",
      "Processing epoch 9\n",
      "Processing epoch 10\n",
      "Processing epoch 11\n",
      "Processing epoch 12\n",
      "Processing epoch 13\n",
      "Processing epoch 14\n",
      "Processing epoch 15\n",
      "Processing epoch 16\n",
      "Processing epoch 17\n",
      "Processing epoch 18\n",
      "Processing epoch 19\n",
      "Processing epoch 20\n",
      "Processing epoch 21\n",
      "Processing epoch 22\n",
      "Processing epoch 23\n",
      "Processing epoch 24\n",
      "Processing epoch 25\n",
      "Processing epoch 26\n",
      "Processing epoch 27\n",
      "Processing epoch 28\n",
      "Processing epoch 29\n",
      "Processing epoch 30\n",
      "Processing epoch 31\n",
      "Processing epoch 32\n",
      "Processing epoch 33\n",
      "Processing epoch 34\n",
      "Processing epoch 35\n",
      "Processing epoch 36\n",
      "Processing epoch 37\n",
      "Processing epoch 38\n",
      "Processing epoch 39\n",
      "Processing epoch 40\n",
      "Processing epoch 41\n",
      "Processing epoch 42\n",
      "Processing epoch 43\n",
      "Processing epoch 44\n",
      "Processing epoch 45\n",
      "Processing epoch 46\n",
      "Processing epoch 47\n",
      "Processing epoch 48\n",
      "Processing epoch 49\n",
      "Processing epoch 50\n",
      "Processing epoch 51\n",
      "Processing epoch 52\n",
      "Processing epoch 53\n",
      "Processing epoch 54\n",
      "Processing epoch 55\n",
      "Processing epoch 56\n",
      "Processing epoch 57\n",
      "Processing epoch 58\n",
      "Processing epoch 59\n",
      "RMSE: 0.3458\n",
      "MAE:  0.2668\n"
     ]
    }
   ],
   "source": [
    "from surprise import accuracy\n",
    "\n",
    "best_model = SVD(**best_params, verbose=True)\n",
    "best_model.fit(trainset)\n",
    "\n",
    "testset = [tuple(x) for x in test_df[['user_id', 'book_id', 'rating']].values]\n",
    "predictions = best_model.test(testset)\n",
    "\n",
    "test_rmse = accuracy.rmse(predictions)\n",
    "test_mae = accuracy.mae(predictions)"
   ]
  },
  {
   "cell_type": "code",
   "execution_count": 18,
   "metadata": {},
   "outputs": [],
   "source": [
    "predictions = best_model.test(testset)"
   ]
  },
  {
   "cell_type": "code",
   "execution_count": 25,
   "metadata": {},
   "outputs": [
    {
     "name": "stdout",
     "output_type": "stream",
     "text": [
      "Precision@5: 0.3389\n",
      "Recall@5: 0.9250\n",
      "nDCG@5: 0.9438\n",
      "MAP@5: 0.9383\n",
      "MRR@5: 0.9426\n",
      "Novelty: 0.9995\n",
      "Hit Rate: 0.9560\n",
      "User Coverage: 0.9560\n"
     ]
    }
   ],
   "source": [
    "def evaluate_model(predictions, min_rating, k, threshold, item_popularity, num_users):\n",
    "    # Denormalize predictions\n",
    "    denormalized_predictions = [\n",
    "        (uid, iid, true_r * (5 - min_rating) + min_rating, est * (5 - min_rating) + min_rating, details)\n",
    "        for (uid, iid, true_r, est, details) in predictions\n",
    "    ]\n",
    "\n",
    "    user_est_true = defaultdict(list)\n",
    "    for uid, iid, true_r, est, _ in denormalized_predictions:\n",
    "        user_est_true[uid].append((iid, est, true_r))\n",
    "\n",
    "    precisions = []\n",
    "    recalls = []\n",
    "    ndcgs = []\n",
    "    map_scores = []\n",
    "    mrr_scores = []  # Add MRR scores\n",
    "    novelty_scores = []\n",
    "    hit_rate_scores = []\n",
    "    all_recommended_items = set()  # For catalog coverage\n",
    "    recommended_relevant_items = set()  # For relevant item coverage\n",
    "\n",
    "    relevant_items = set(iid for _, iid, true_r, _, _ in denormalized_predictions if true_r >= threshold)\n",
    "\n",
    "    for user_id, user_ratings in user_est_true.items():\n",
    "        # Sort predictions by estimated value\n",
    "        user_ratings_sorted = sorted(user_ratings, key=lambda x: x[1], reverse=True)\n",
    "        top_k = user_ratings_sorted[:k]\n",
    "\n",
    "        top_k_items = [iid for iid, _, _ in top_k]\n",
    "        all_recommended_items.update(top_k_items)\n",
    "\n",
    "        # Precision and Recall\n",
    "        n_rel = sum((true_r >= threshold) for (_, _, true_r) in user_ratings)\n",
    "        n_rec_k = sum((true_r >= threshold) for (_, _, true_r) in top_k)\n",
    "        n_rel_and_rec_k = sum((true_r >= threshold) for (_, _, true_r) in top_k)\n",
    "\n",
    "        precision = n_rel_and_rec_k / k if k != 0 else 0\n",
    "        recall = n_rel_and_rec_k / n_rel if n_rel != 0 else 0\n",
    "        precisions.append(precision)\n",
    "        recalls.append(recall)\n",
    "\n",
    "        # NDCG@k\n",
    "        dcg = sum(\n",
    "            (true_r >= threshold) / np.log2(idx + 2)\n",
    "            for idx, (_, _, true_r) in enumerate(top_k)\n",
    "        )\n",
    "        idcg = sum(\n",
    "            1.0 / np.log2(idx + 2) for idx in range(min(n_rel, k))\n",
    "        )\n",
    "        ndcg = dcg / idcg if idcg != 0 else 0\n",
    "        ndcgs.append(ndcg)\n",
    "\n",
    "        # MAP@k\n",
    "        hits = 0\n",
    "        sum_precisions = 0\n",
    "        for idx, (_, _, true_r) in enumerate(top_k):\n",
    "            if true_r >= threshold:\n",
    "                hits += 1\n",
    "                sum_precisions += hits / (idx + 1)\n",
    "        ap = sum_precisions / min(n_rel, k) if n_rel != 0 else 0\n",
    "        map_scores.append(ap)\n",
    "\n",
    "        # MRR Calculation: Find the reciprocal of the rank of the first relevant item\n",
    "        first_relevant_rank = None\n",
    "        for idx, (_, _, true_r) in enumerate(top_k):\n",
    "            if true_r >= threshold:\n",
    "                first_relevant_rank = idx + 1  # Rank is 1-based\n",
    "                break\n",
    "\n",
    "        if first_relevant_rank is not None:\n",
    "            mrr_scores.append(1 / first_relevant_rank)\n",
    "        else:\n",
    "            mrr_scores.append(0)\n",
    "\n",
    "        # Novelty (1 - average popularity of the recommended items)\n",
    "        novelty = np.mean([1 - (item_popularity.get(iid, 1) / num_users) for iid in top_k_items])\n",
    "        novelty_scores.append(novelty)\n",
    "\n",
    "        # Hit Rate (proportion of users who have at least one relevant item in top_k)\n",
    "        hit_rate = 1 if n_rel_and_rec_k > 0 else 0\n",
    "        hit_rate_scores.append(hit_rate)\n",
    "\n",
    "        # For Relevant Item Coverage@k\n",
    "        recommended_relevant_items.update([iid for iid, est, true_r in top_k if true_r >= threshold])\n",
    "\n",
    "    # Catalog Coverage@k\n",
    "    catalog_coverage = len(all_recommended_items) / len(item_popularity) if item_popularity else 0\n",
    "\n",
    "    # User Coverage@k (the proportion of users with at least one relevant recommendation)\n",
    "    user_coverage = sum(1 for user_ratings in user_est_true.values() if any(true_r >= threshold for _, _, true_r in user_ratings)) / len(user_est_true)\n",
    "\n",
    "    # Return results\n",
    "    return (\n",
    "        np.mean(precisions),\n",
    "        np.mean(recalls),\n",
    "        np.mean(ndcgs),\n",
    "        np.mean(map_scores),\n",
    "        np.mean(mrr_scores),  # Include MRR here\n",
    "        np.mean(novelty_scores),\n",
    "        np.mean(hit_rate_scores),\n",
    "        user_coverage\n",
    "    )\n",
    "\n",
    "\n",
    "k = 5\n",
    "threshold = 4  # Relevance threshold\n",
    "item_popularity = test_df['book_id'].value_counts().to_dict()\n",
    "num_users = test_df['user_id'].nunique()\n",
    "\n",
    "# Compute metrics\n",
    "precision, recall, ndcg, map_score, mrr, novelty, hit_rate, user_coverage = evaluate_model(\n",
    "    predictions, min_rating=1.0, k=k, threshold=threshold, item_popularity=item_popularity, num_users=num_users\n",
    ")\n",
    "\n",
    "# Print results\n",
    "print(f'Precision@{k}: {precision:.4f}')\n",
    "print(f'Recall@{k}: {recall:.4f}')\n",
    "print(f'nDCG@{k}: {ndcg:.4f}')\n",
    "print(f'MAP@{k}: {map_score:.4f}')\n",
    "print(f'MRR@{k}: {mrr:.4f}')\n",
    "print(f'Novelty: {novelty:.4f}')\n",
    "print(f'Hit Rate: {hit_rate:.4f}')\n",
    "print(f'User Coverage: {user_coverage:.4f}')\n"
   ]
  },
  {
   "cell_type": "code",
   "execution_count": 20,
   "metadata": {},
   "outputs": [],
   "source": [
    "import pickle\n",
    "with open(\"../Pickle/best_svd_model.pkl\", \"wb\") as f:\n",
    "    pickle.dump(best_model, f)\n",
    "\n",
    "with open(\"../Pickle/best_svd_model.pkl\", \"rb\") as f:\n",
    "    loaded_model = pickle.load(f)"
   ]
  },
  {
   "cell_type": "code",
   "execution_count": 21,
   "metadata": {},
   "outputs": [],
   "source": [
    "# trainset = loaded_model.trainset\n",
    "\n",
    "def predict_with_fallback(user_id, book_id):\n",
    "    if not trainset.knows_user(user_id):\n",
    "        return np.nan  # User not in training\n",
    "    if not trainset.knows_item(book_id):\n",
    "        return np.nan  # Book not in training\n",
    "    \n",
    "    pred = loaded_model.predict(user_id, book_id)\n",
    "    return pred.est  # Return estimated rating\n",
    "\n",
    "inference[\"predicted_rating\"] = inference.apply(\n",
    "    lambda row: predict_with_fallback(row[\"user_id\"], row[\"book_id\"]), axis=1\n",
    ")"
   ]
  },
  {
   "cell_type": "code",
   "execution_count": 22,
   "metadata": {},
   "outputs": [],
   "source": [
    "inference.loc[inference[\"predicted_rating\"].notna(), \"predicted_rating\"] = inference[\"predicted_rating\"].apply(\n",
    "    lambda x: denormalize_rating(x, min_rating) if pd.notna(x) else x)"
   ]
  },
  {
   "cell_type": "code",
   "execution_count": 23,
   "metadata": {},
   "outputs": [],
   "source": [
    "inference = inference.dropna(subset=['predicted_rating'])\n",
    "inference = inference.reset_index(drop = True)\n",
    "inference = inference[['user_id', 'book_id', 'predicted_rating']]\n",
    "inference = inference.rename(columns={\"predicted_rating\": \"rating\"})\n",
    "inference['rating'] = inference['rating'].apply(lambda x: round(x, 0))"
   ]
  },
  {
   "cell_type": "code",
   "execution_count": 24,
   "metadata": {},
   "outputs": [],
   "source": [
    "with open('../Pickle/imputed_ratings.pkl', 'wb') as f:\n",
    "    pickle.dump(inference, f)"
   ]
  },
  {
   "cell_type": "code",
   "execution_count": null,
   "metadata": {},
   "outputs": [],
   "source": []
  },
  {
   "cell_type": "code",
   "execution_count": null,
   "metadata": {},
   "outputs": [],
   "source": []
  },
  {
   "cell_type": "code",
   "execution_count": null,
   "metadata": {},
   "outputs": [],
   "source": []
  }
 ],
 "metadata": {
  "kernelspec": {
   "display_name": "goodreads",
   "language": "python",
   "name": "python3"
  },
  "language_info": {
   "codemirror_mode": {
    "name": "ipython",
    "version": 3
   },
   "file_extension": ".py",
   "mimetype": "text/x-python",
   "name": "python",
   "nbconvert_exporter": "python",
   "pygments_lexer": "ipython3",
   "version": "3.12.3"
  }
 },
 "nbformat": 4,
 "nbformat_minor": 2
}
