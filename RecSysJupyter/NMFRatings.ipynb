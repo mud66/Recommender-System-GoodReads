{
 "cells": [
  {
   "cell_type": "code",
   "execution_count": null,
   "metadata": {},
   "outputs": [],
   "source": [
    "import numpy as np\n",
    "import pandas as pd\n",
    "from surprise import Reader, Dataset\n",
    "from tqdm import tqdm\n",
    "from surprise.model_selection import GridSearchCV\n",
    "from sklearn.model_selection import train_test_split\n",
    "from collections import defaultdict\n",
    "from math import log2\n",
    "tqdm.pandas()\n",
    "from surprise import NMF\n",
    "from sklearn.utils import resample"
   ]
  },
  {
   "cell_type": "code",
   "execution_count": null,
   "metadata": {},
   "outputs": [],
   "source": [
    "np.random.seed(42)"
   ]
  },
  {
   "cell_type": "code",
   "execution_count": null,
   "metadata": {},
   "outputs": [],
   "source": [
    "# Load and filter data\n",
    "interactions = pd.read_pickle('../Pickle/interactions.pkl')\n",
    "books = pd.read_pickle('../Pickle/books.pkl')\n",
    "imputed = pd.read_pickle('../Pickle/imputed_ratings.pkl')\n",
    "interactions = interactions[['user_id', 'book_id', 'rating', 'is_read']]  "
   ]
  },
  {
   "cell_type": "code",
   "execution_count": null,
   "metadata": {},
   "outputs": [],
   "source": [
    "interactions = interactions[interactions['rating'] != 0]\n",
    "frames = [interactions, imputed]\n",
    "interactions = pd.concat(frames)"
   ]
  },
  {
   "cell_type": "code",
   "execution_count": null,
   "metadata": {},
   "outputs": [],
   "source": [
    "def split_data_with_single_interactions(df):\n",
    "    # Identify users and books that appear only once in the dataset\n",
    "    user_counts = df['user_id'].value_counts()\n",
    "    book_counts = df['book_id'].value_counts()\n",
    "\n",
    "    # Find interactions where user or book appears only once\n",
    "    single_interactions = df[\n",
    "        df['user_id'].isin(user_counts[user_counts == 1].index) | \n",
    "        df['book_id'].isin(book_counts[book_counts == 1].index)\n",
    "    ]\n",
    "\n",
    "    # Remove those interactions from the main dataset\n",
    "    remaining_interactions = df[~df.index.isin(single_interactions.index)]\n",
    "\n",
    "    # Split the remaining interactions into train and test using sklearn's train_test_split\n",
    "    train_df, test_df = train_test_split(remaining_interactions, test_size=0.2, random_state=42, stratify=remaining_interactions['rating'])\n",
    "\n",
    "    # Add the single interactions to the training set\n",
    "    train_df = pd.concat([train_df, single_interactions], ignore_index=True)\n",
    "\n",
    "\n",
    "    return train_df, test_df\n",
    "\n",
    "train_df, test_df = split_data_with_single_interactions(interactions)"
   ]
  },
  {
   "cell_type": "code",
   "execution_count": null,
   "metadata": {},
   "outputs": [],
   "source": [
    "rating_counts = train_df['rating'].value_counts()\n",
    "\n",
    "# Find the majority class size (highest count)\n",
    "majority_count = rating_counts.max()\n",
    "\n",
    "MAX_TARGET_SIZE = int(0.75 * majority_count)\n",
    "\n",
    "modified_dfs = []\n",
    "\n",
    "# Perform upsampling with slight noise addition for each class\n",
    "for rating, count in rating_counts.items():\n",
    "    class_df = train_df[train_df['rating'] == rating]\n",
    "\n",
    "    if count >= MAX_TARGET_SIZE:\n",
    "        balanced_df = class_df.copy()\n",
    "    else:\n",
    "        balanced_df = resample(class_df,\n",
    "                               replace=True,\n",
    "                               n_samples=MAX_TARGET_SIZE,\n",
    "                               random_state=42)\n",
    "\n",
    "        # Add random noise to the ratings\n",
    "        balanced_df['rating'] = balanced_df['rating'] + np.random.uniform(-0.1, 0.1, size=balanced_df.shape[0])\n",
    "        # Ensure ratings are within the valid range (e.g., between 1 and 5)\n",
    "        balanced_df['rating'] = balanced_df['rating'].clip(1, 5)\n",
    "\n",
    "    modified_dfs.append(balanced_df)\n",
    "\n",
    "\n",
    "balanced_train = pd.concat(modified_dfs, ignore_index=True)\n",
    "\n",
    "# Shuffle dataset\n",
    "train_df = balanced_train.sample(frac=1, random_state=42).reset_index(drop=True)"
   ]
  },
  {
   "cell_type": "code",
   "execution_count": null,
   "metadata": {},
   "outputs": [],
   "source": [
    "# Log scale ratings\n",
    "def normalise_ratings(train_data, test_data):\n",
    "    min_rating = train_data['rating'].min()\n",
    "    \n",
    "    if min_rating < 0:\n",
    "        train_data['rating'] = train_data['rating'] - min_rating\n",
    "        test_data['rating'] = test_data['rating'] - min_rating\n",
    "\n",
    "    train_data['rating'] = np.log1p(train_data['rating'])\n",
    "    test_data['rating'] = np.log1p(test_data['rating'])\n",
    "\n",
    "    return train_data, test_data, min_rating\n",
    "\n",
    "\n",
    "def denormalize_rating(log_scaled_ratings, min_rating):\n",
    "    log_scaled_ratings = np.asarray(log_scaled_ratings, dtype=float)\n",
    "\n",
    "    # Reverse log1p transformation\n",
    "    original_ratings = np.expm1(log_scaled_ratings)\n",
    "\n",
    "    # Adjust for minimum rating\n",
    "    if min_rating:\n",
    "        original_ratings += min_rating\n",
    "\n",
    "    # Clip values between 0 and 5\n",
    "    return np.clip(original_ratings, 0, 5)"
   ]
  },
  {
   "cell_type": "code",
   "execution_count": null,
   "metadata": {},
   "outputs": [],
   "source": [
    "train_df, test_df, min_rating = normalise_ratings(train_df, test_df)"
   ]
  },
  {
   "cell_type": "code",
   "execution_count": null,
   "metadata": {},
   "outputs": [],
   "source": [
    "reader = Reader(rating_scale=(train_df['rating'].min(), train_df['rating'].max()))\n",
    "train_data = Dataset.load_from_df(train_df[['user_id', 'book_id', 'rating']], reader)"
   ]
  },
  {
   "cell_type": "code",
   "execution_count": null,
   "metadata": {},
   "outputs": [],
   "source": [
    "# Define the parameter grid\n",
    "param_grid = { \n",
    "    'n_factors': [50],  \n",
    "    'n_epochs': [200],  \n",
    "    'reg_pu': [0.01],  # Regularization for user factors\n",
    "    'reg_qi': [0.01],  # Regularization for item factors\n",
    "    'lr_bu': [0.01],  # Learning rate for user bias\n",
    "    'lr_bi': [0.01],  # Learning rate for item bias\n",
    "    'random_state': [42]\n",
    "}\n",
    "\n",
    "gs = GridSearchCV(NMF, param_grid, measures=['rmse', 'mae'], cv=2)\n",
    "\n",
    "gs.fit(train_data)\n",
    "\n",
    "best_params = gs.best_params['rmse']\n",
    "best_nmf = NMF(**best_params, verbose = True)\n",
    "\n",
    "print(f\"Best RMSE: {gs.best_score['rmse']:.4f}\")\n",
    "print(f\"Best MAE: {gs.best_score['mae']:.4f}\")\n",
    "\n",
    "\n",
    "print(f\"Best Parameters: {best_params}\")"
   ]
  },
  {
   "cell_type": "code",
   "execution_count": null,
   "metadata": {},
   "outputs": [],
   "source": [
    "trainset = train_data.build_full_trainset()\n",
    "testset = [tuple(x) for x in test_df[['user_id', 'book_id', 'rating']].values]\n",
    "best_nmf.fit(trainset)\n",
    "predictions = best_nmf.test(testset)"
   ]
  },
  {
   "cell_type": "code",
   "execution_count": null,
   "metadata": {},
   "outputs": [],
   "source": [
    "from surprise import accuracy\n",
    "test_rmse = accuracy.rmse(predictions)\n",
    "test_mae = accuracy.mae(predictions)"
   ]
  },
  {
   "cell_type": "code",
   "execution_count": null,
   "metadata": {},
   "outputs": [],
   "source": [
    "import joblib\n",
    "joblib.dump(best_nmf, '../Pickle/best_nmf_model.pkl')"
   ]
  },
  {
   "cell_type": "code",
   "execution_count": null,
   "metadata": {},
   "outputs": [],
   "source": [
    "predictions"
   ]
  },
  {
   "cell_type": "code",
   "execution_count": null,
   "metadata": {},
   "outputs": [],
   "source": [
    "def evaluate_model(predictions, min_rating, k, threshold, item_popularity, num_users):\n",
    "    # Denormalize predictions\n",
    "    denormalized_predictions = [\n",
    "        (uid, iid, true_r * (5 - min_rating) + min_rating, est * (5 - min_rating) + min_rating, details)\n",
    "        for (uid, iid, true_r, est, details) in predictions\n",
    "    ]\n",
    "\n",
    "    user_est_true = defaultdict(list)\n",
    "    for uid, iid, true_r, est, _ in denormalized_predictions:\n",
    "        user_est_true[uid].append((iid, est, true_r))\n",
    "\n",
    "    precisions = []\n",
    "    recalls = []\n",
    "    ndcgs = []\n",
    "    map_scores = []\n",
    "    mrr_scores = []  # Add MRR scores\n",
    "    novelty_scores = []\n",
    "    hit_rate_scores = []\n",
    "    all_recommended_items = set()  # For catalog coverage\n",
    "    recommended_relevant_items = set()  # For relevant item coverage\n",
    "\n",
    "    relevant_items = set(iid for _, iid, true_r, _, _ in denormalized_predictions if true_r >= threshold)\n",
    "\n",
    "    for user_id, user_ratings in user_est_true.items():\n",
    "        # Sort predictions by estimated value\n",
    "        user_ratings_sorted = sorted(user_ratings, key=lambda x: x[1], reverse=True)\n",
    "        top_k = user_ratings_sorted[:k]\n",
    "\n",
    "        top_k_items = [iid for iid, _, _ in top_k]\n",
    "        all_recommended_items.update(top_k_items)\n",
    "\n",
    "        # Precision and Recall\n",
    "        n_rel = sum((true_r >= threshold) for (_, _, true_r) in user_ratings)\n",
    "        n_rec_k = sum((true_r >= threshold) for (_, _, true_r) in top_k)\n",
    "        n_rel_and_rec_k = sum((true_r >= threshold) for (_, _, true_r) in top_k)\n",
    "\n",
    "        precision = n_rel_and_rec_k / k if k != 0 else 0\n",
    "        recall = n_rel_and_rec_k / n_rel if n_rel != 0 else 0\n",
    "        precisions.append(precision)\n",
    "        recalls.append(recall)\n",
    "\n",
    "        # NDCG@k\n",
    "        dcg = sum(\n",
    "            (true_r >= threshold) / np.log2(idx + 2)\n",
    "            for idx, (_, _, true_r) in enumerate(top_k)\n",
    "        )\n",
    "        idcg = sum(\n",
    "            1.0 / np.log2(idx + 2) for idx in range(min(n_rel, k))\n",
    "        )\n",
    "        ndcg = dcg / idcg if idcg != 0 else 0\n",
    "        ndcgs.append(ndcg)\n",
    "\n",
    "        # MAP@k\n",
    "        hits = 0\n",
    "        sum_precisions = 0\n",
    "        for idx, (_, _, true_r) in enumerate(top_k):\n",
    "            if true_r >= threshold:\n",
    "                hits += 1\n",
    "                sum_precisions += hits / (idx + 1)\n",
    "        ap = sum_precisions / min(n_rel, k) if n_rel != 0 else 0\n",
    "        map_scores.append(ap)\n",
    "\n",
    "        # MRR Calculation: Find the reciprocal of the rank of the first relevant item\n",
    "        first_relevant_rank = None\n",
    "        for idx, (_, _, true_r) in enumerate(top_k):\n",
    "            if true_r >= threshold:\n",
    "                first_relevant_rank = idx + 1  # Rank is 1-based\n",
    "                break\n",
    "\n",
    "        if first_relevant_rank is not None:\n",
    "            mrr_scores.append(1 / first_relevant_rank)\n",
    "        else:\n",
    "            mrr_scores.append(0)\n",
    "\n",
    "        # Novelty (1 - average popularity of the recommended items)\n",
    "        novelty = np.mean([1 - (item_popularity.get(iid, 1) / num_users) for iid in top_k_items])\n",
    "        novelty_scores.append(novelty)\n",
    "\n",
    "        # Hit Rate (proportion of users who have at least one relevant item in top_k)\n",
    "        hit_rate = 1 if n_rel_and_rec_k > 0 else 0\n",
    "        hit_rate_scores.append(hit_rate)\n",
    "\n",
    "        # For Relevant Item Coverage@k\n",
    "        recommended_relevant_items.update([iid for iid, est, true_r in top_k if true_r >= threshold])\n",
    "\n",
    "    # Catalog Coverage@k\n",
    "    catalog_coverage = len(all_recommended_items) / len(item_popularity) if item_popularity else 0\n",
    "\n",
    "    # User Coverage@k (the proportion of users with at least one relevant recommendation)\n",
    "    user_coverage = sum(1 for user_ratings in user_est_true.values() if any(true_r >= threshold for _, _, true_r in user_ratings)) / len(user_est_true)\n",
    "\n",
    "    # Return results\n",
    "    return (\n",
    "        np.mean(precisions),\n",
    "        np.mean(recalls),\n",
    "        np.mean(ndcgs),\n",
    "        np.mean(map_scores),\n",
    "        np.mean(mrr_scores), \n",
    "        np.mean(novelty_scores),\n",
    "        np.mean(hit_rate_scores),\n",
    "        user_coverage\n",
    "    )\n",
    "\n",
    "\n",
    "k = 5\n",
    "threshold = 4  # Relevance threshold\n",
    "item_popularity = test_df['book_id'].value_counts().to_dict()\n",
    "num_users = test_df['user_id'].nunique()\n",
    "\n",
    "# Compute metrics\n",
    "precision, recall, ndcg, map_score, mrr, novelty, hit_rate, user_coverage = evaluate_model(\n",
    "    predictions, min_rating=min_rating, k=k, threshold=threshold, item_popularity=item_popularity, num_users=num_users\n",
    ")\n",
    "\n",
    "# Print results\n",
    "print(f'Precision@{k}: {precision:.4f}')\n",
    "print(f'Recall@{k}: {recall:.4f}')\n",
    "print(f'nDCG@{k}: {ndcg:.4f}')\n",
    "print(f'MAP@{k}: {map_score:.4f}')\n",
    "print(f'MRR@{k}: {mrr:.4f}')\n",
    "print(f'Novelty: {novelty:.4f}')\n",
    "print(f'Hit Rate: {hit_rate:.4f}')\n",
    "print(f'User Coverage: {user_coverage:.4f}')\n"
   ]
  },
  {
   "cell_type": "code",
   "execution_count": null,
   "metadata": {},
   "outputs": [],
   "source": [
    "est_ratings = np.array([pred.est for pred in predictions], dtype=float)\n",
    "true_ratings = np.array([pred.r_ui for pred in predictions], dtype=float)\n",
    "true_ratings = denormalize_rating(true_ratings, min_rating)\n",
    "est_ratings = denormalize_rating(est_ratings, min_rating)"
   ]
  },
  {
   "cell_type": "code",
   "execution_count": null,
   "metadata": {},
   "outputs": [],
   "source": [
    "true_ratings.mean()"
   ]
  },
  {
   "cell_type": "code",
   "execution_count": null,
   "metadata": {},
   "outputs": [],
   "source": [
    "est_ratings.mean()"
   ]
  },
  {
   "cell_type": "code",
   "execution_count": null,
   "metadata": {},
   "outputs": [],
   "source": [
    "import matplotlib.pyplot as plt\n",
    "plt.figure(figsize=(10, 6))\n",
    "plt.hist(est_ratings, bins=20, edgecolor='black', alpha=0.7)\n",
    "plt.title('Distribution of Predictions')\n",
    "plt.xlabel('Adjusted Rating')\n",
    "plt.ylabel('Frequency')\n",
    "plt.show()"
   ]
  },
  {
   "cell_type": "code",
   "execution_count": null,
   "metadata": {},
   "outputs": [],
   "source": [
    "import matplotlib.pyplot as plt\n",
    "plt.figure(figsize=(10, 6))\n",
    "plt.hist(interactions['rating'], bins=20, edgecolor='black', alpha=0.7)\n",
    "plt.title('Distribution of True Ratings')\n",
    "plt.xlabel('Adjusted Rating')\n",
    "plt.ylabel('Frequency')\n",
    "plt.show()"
   ]
  },
  {
   "cell_type": "code",
   "execution_count": null,
   "metadata": {},
   "outputs": [],
   "source": [
    "# After fitting your best_nmf model\n",
    "pu = best_nmf.pu  # user latent features (users x factors)\n",
    "qi = best_nmf.qi  # item latent features (items x factors)\n"
   ]
  },
  {
   "cell_type": "code",
   "execution_count": null,
   "metadata": {},
   "outputs": [],
   "source": [
    "\n",
    "user_idx = 1611  # Internal user id (depends on Surprise’s inner mapping)\n",
    "item_idx = 39335 # Internal item id (depends on Surprise’s inner mapping)\n",
    "\n",
    "user_factors = pu[user_idx]\n",
    "item_factors = qi[item_idx]\n",
    "\n",
    "# Compute element-wise contributions\n",
    "contributions = user_factors * item_factors\n",
    "predicted_rating = contributions.sum()\n",
    "\n",
    "# Get indices of the top 5 absolute contributions\n",
    "top_5_indices = np.argsort(np.abs(contributions))[::-1][:5]\n",
    "\n",
    "# Print the top 5 contributions\n",
    "print(f\"Top 5 contributing latent factors for prediction (user {user_idx} and item {item_idx}):\\n\")\n",
    "\n",
    "for rank, i in enumerate(top_5_indices, 1):\n",
    "    print(f\"{rank}. Latent Factor {i+1}: User affinity {user_factors[i]:.3f} * \"\n",
    "          f\"Item relevance {item_factors[i]:.3f} = {contributions[i]:.3f}\")"
   ]
  },
  {
   "cell_type": "code",
   "execution_count": null,
   "metadata": {},
   "outputs": [],
   "source": [
    "import pickle\n",
    "books_list = []\n",
    "with open('../Pickle/books.pkl', 'rb') as file:\n",
    "    while True:\n",
    "        try:\n",
    "            chunk = pickle.load(file)\n",
    "            books_list.append(chunk)\n",
    "        except EOFError:\n",
    "            break  \n",
    "books = pd.concat(books_list, ignore_index=True)\n",
    "books = books.drop_duplicates(subset='title', keep='first')"
   ]
  },
  {
   "cell_type": "code",
   "execution_count": null,
   "metadata": {},
   "outputs": [],
   "source": [
    "top_n = 5\n",
    "\n",
    "top_factors_idx = contributions.argsort()[-top_n:][::-1]\n",
    "\n",
    "book_id_from_idx = books.iloc[item_idx]['book_id'] \n",
    "for i in top_factors_idx:\n",
    "    # Get the corresponding book index (item_idx)\n",
    "    book_id = books.iloc[i]['book_id']  # Internal index in the model maps to the original book_id\n",
    "    book_title = books.loc[books['book_id'] == book_id, 'title'].values[0]\n",
    "    \n",
    "    print(f\"Latent Factor {i+1}: User affinity {user_factors[i]:.3f} * Item relevance {item_factors[i]:.3f} = {contributions[i]:.3f}\")\n",
    "    print(f\"Book: {book_title}\\n\")\n"
   ]
  }
 ],
 "metadata": {
  "kernelspec": {
   "display_name": "goodreads",
   "language": "python",
   "name": "python3"
  },
  "language_info": {
   "codemirror_mode": {
    "name": "ipython",
    "version": 3
   },
   "file_extension": ".py",
   "mimetype": "text/x-python",
   "name": "python",
   "nbconvert_exporter": "python",
   "pygments_lexer": "ipython3",
   "version": "3.12.3"
  }
 },
 "nbformat": 4,
 "nbformat_minor": 2
}
