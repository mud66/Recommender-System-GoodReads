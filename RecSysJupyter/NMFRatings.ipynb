{
 "cells": [
  {
   "cell_type": "code",
   "execution_count": 1,
   "metadata": {},
   "outputs": [],
   "source": [
    "import numpy as np\n",
    "import pandas as pd\n",
    "from surprise import Reader, Dataset\n",
    "from tqdm import tqdm\n",
    "from surprise.model_selection import GridSearchCV\n",
    "from sklearn.model_selection import train_test_split\n",
    "from collections import defaultdict\n",
    "from math import log2\n",
    "from sklearn.utils import resample\n",
    "tqdm.pandas()\n",
    "from surprise import NMF"
   ]
  },
  {
   "cell_type": "code",
   "execution_count": 2,
   "metadata": {},
   "outputs": [],
   "source": [
    "# Load and filter data\n",
    "interactions = pd.read_pickle('../Pickle/interactions.pkl')\n",
    "books = pd.read_pickle('../Pickle/books.pkl')\n",
    "interactions = interactions[['user_id', 'book_id', 'rating', 'is_read']]  "
   ]
  },
  {
   "cell_type": "code",
   "execution_count": 3,
   "metadata": {},
   "outputs": [],
   "source": [
    "# Step 1: Compute the average rating per user (excluding 0s) and round to the nearest whole number\n",
    "user_avg_rating = interactions[interactions['rating'] > 0].groupby('user_id')['rating'].mean().round().astype(int)\n",
    "\n",
    "# Step 2: Round the book's average rating column\n",
    "books['average_rating'] = pd.to_numeric(books['average_rating'], errors='coerce').round().astype('Int64')\n",
    "book_avg = books[['average_rating', 'book_id']]\n",
    "interactions = pd.merge(interactions, book_avg, on = 'book_id')\n",
    "\n",
    "# Step 3: Replace 0 ratings with the user's average rating or the book's average rating if the user has no ratings\n",
    "def impute_rating(row):\n",
    "    if row['rating'] == 0:\n",
    "        return user_avg_rating.get(row['user_id'], row['average_rating'])  # Use user avg or book avg\n",
    "    return row['rating']\n",
    "\n",
    "# Apply the function\n",
    "interactions['rating'] = interactions.apply(impute_rating, axis=1)\n"
   ]
  },
  {
   "cell_type": "code",
   "execution_count": 4,
   "metadata": {},
   "outputs": [],
   "source": [
    "# Filter user IDs that appear more than 5 times\n",
    "# Filter book IDs that appear more than 5 times\n",
    "book_counts = interactions['book_id'].value_counts()\n",
    "interactions = interactions[interactions['book_id'].isin(book_counts[book_counts >= 5].index)]\n",
    "user_counts = interactions['user_id'].value_counts()\n",
    "interactions = interactions[interactions['user_id'].isin(user_counts[user_counts >= 5].index)]\n",
    "\n",
    "# Shuffle user interactions\n",
    "# Initialize empty lists for train and test splits\n",
    "train_list, test_list = [], []\n",
    "\n",
    "for user_id, user_data in interactions.groupby('user_id'):\n",
    "    # Shuffle the ratings for the user\n",
    "    user_data_shuffled = user_data.sample(frac=1, random_state=42).reset_index(drop=True)\n",
    "    \n",
    "    # Split the data into train and test (80% for train, 20% for test)\n",
    "    train, test = train_test_split(user_data_shuffled, test_size=0.2, random_state=42, stratify=user_data_shuffled['user_id'])\n",
    "    \n",
    "    # Add the train and test data for this user to the overall list\n",
    "    train_list.append(train)\n",
    "    test_list.append(test)\n",
    "\n",
    "# Concatenate all train and test data\n",
    "train_df = pd.concat(train_list, ignore_index=True)\n",
    "test_df = pd.concat(test_list, ignore_index=True)\n"
   ]
  },
  {
   "cell_type": "code",
   "execution_count": 5,
   "metadata": {},
   "outputs": [],
   "source": [
    "# Get rating counts\n",
    "rating_counts = train_df['rating'].value_counts()\n",
    "\n",
    "# Find the majority class size (highest count)\n",
    "majority_count = rating_counts.max()\n",
    "\n",
    "# Dictionary to store oversampled dataframes\n",
    "oversampled_dfs = []\n",
    "\n",
    "# Perform upsampling for each class to match a proportion of the majority count\n",
    "for rating, count in rating_counts.items():\n",
    "    class_df = train_df[train_df['rating'] == rating]\n",
    "    \n",
    "    # Upsample based on a percentage of the majority class size\n",
    "    if count < majority_count:\n",
    "        upsampled_df = resample(class_df, replace=True, n_samples=int(majority_count * 0.8), random_state=42)\n",
    "    else:\n",
    "        upsampled_df = class_df  # Keep majority class as is\n",
    "    \n",
    "    oversampled_dfs.append(upsampled_df)\n",
    "\n",
    "# Combine all upsampled data\n",
    "balanced_train = pd.concat(oversampled_dfs)\n",
    "\n",
    "# Shuffle dataset\n",
    "train_df = balanced_train.sample(frac=1, random_state=42).reset_index(drop=True)"
   ]
  },
  {
   "cell_type": "code",
   "execution_count": 6,
   "metadata": {},
   "outputs": [],
   "source": [
    "# Convert standardized train_df to surprise dataset\n",
    "reader = Reader(rating_scale=(train_df['rating'].min(), train_df['rating'].max()))\n",
    "train_data = Dataset.load_from_df(train_df[['user_id', 'book_id', 'rating']], reader)\n",
    "\n",
    "# Convert test_df to surprise dataset without normalization\n",
    "test_data = Dataset.load_from_df(test_df[['user_id', 'book_id', 'rating']], reader)\n",
    "\n",
    "# Build full trainset and testset\n",
    "trainset = train_data.build_full_trainset()\n",
    "testset = test_data.construct_testset([(uid, iid, r, {}) for uid, iid, r in test_df[['user_id', 'book_id', 'rating']].values])"
   ]
  },
  {
   "cell_type": "code",
   "execution_count": 7,
   "metadata": {},
   "outputs": [],
   "source": [
    "# Define the parameter grid\n",
    "param_grid = { \n",
    "    'n_factors': [400,300],  \n",
    "    'n_epochs': [250, 150],  \n",
    "    'reg_pu': [0.1, 0.01],  # Regularization for user factors\n",
    "    'reg_qi': [0.1, 0.01],  # Regularization for item factors\n",
    "    'lr_bu': [0.01, 0.1],  # Learning rate for user bias\n",
    "    'lr_bi': [0.01, 0.1],  # Learning rate for item bias\n",
    "    'random_state': [42]\n",
    "}\n",
    "\n",
    "# Define the grid search with GridSearchCV\n",
    "gs = GridSearchCV(NMF, param_grid, measures=['rmse'], cv=2)\n",
    "\n",
    "# Fit the grid search model\n",
    "gs.fit(train_data)\n",
    "\n",
    "# Get the best parameters and model\n",
    "best_params = gs.best_params['rmse']\n",
    "best_nmf = NMF(**best_params)\n",
    "best_nmf.fit(train_data.build_full_trainset())\n",
    "\n",
    "# Test the model\n",
    "predictions = best_nmf.test(testset)"
   ]
  },
  {
   "cell_type": "code",
   "execution_count": 8,
   "metadata": {},
   "outputs": [
    {
     "data": {
      "text/plain": [
       "['best_nmf_model.pkl']"
      ]
     },
     "execution_count": 8,
     "metadata": {},
     "output_type": "execute_result"
    }
   ],
   "source": [
    "import joblib\n",
    "joblib.dump(best_nmf, 'best_nmf_model.pkl')"
   ]
  },
  {
   "cell_type": "code",
   "execution_count": 9,
   "metadata": {},
   "outputs": [
    {
     "data": {
      "text/plain": [
       "{'n_factors': 300,\n",
       " 'n_epochs': 250,\n",
       " 'reg_pu': 0.01,\n",
       " 'reg_qi': 0.01,\n",
       " 'lr_bu': 0.01,\n",
       " 'lr_bi': 0.01,\n",
       " 'random_state': 42}"
      ]
     },
     "execution_count": 9,
     "metadata": {},
     "output_type": "execute_result"
    }
   ],
   "source": [
    "best_params"
   ]
  },
  {
   "cell_type": "code",
   "execution_count": 10,
   "metadata": {},
   "outputs": [
    {
     "name": "stdout",
     "output_type": "stream",
     "text": [
      "Adjusted Precision: 0.7937471194439827, Adjusted Recall: 0.7924777086364793, Adjusted nDCG: 0.9639702529269795\n"
     ]
    }
   ],
   "source": [
    "# Evaluation metrics: Precision, Recall, and nDCG at k\n",
    "def precision_recall_ndcg_at_k(predictions, k, threshold):\n",
    "    \"\"\"Return precision, recall, and nDCG at k metrics for each user.\"\"\"\n",
    "    \n",
    "    def dcg_at_k(scores, k):\n",
    "        return sum([rel / log2(idx + 2) for idx, rel in enumerate(scores[:k])])\n",
    "\n",
    "    user_est_true = defaultdict(list)\n",
    "    for uid, _, true_r, est, _ in predictions:\n",
    "        user_est_true[uid].append((est, true_r))\n",
    "    \n",
    "    precisions = dict()\n",
    "    recalls = dict()\n",
    "    ndcgs = dict()\n",
    "    \n",
    "    for uid, user_ratings in user_est_true.items():\n",
    "        user_ratings.sort(key=lambda x: x[0], reverse=True)\n",
    "        \n",
    "        n_rel = sum((true_r >= threshold) for (_, true_r) in user_ratings)\n",
    "        n_rec_k = sum((est >= threshold) for (est, _) in user_ratings[:k])\n",
    "        n_rel_and_rec_k = sum(((true_r >= threshold) and (est >= threshold)) for (est, true_r) in user_ratings[:k])\n",
    "        \n",
    "        # Precision@K\n",
    "        precisions[uid] = n_rel_and_rec_k / n_rec_k if n_rec_k != 0 else 1\n",
    "        \n",
    "        # Recall@K\n",
    "        recalls[uid] = n_rel_and_rec_k / n_rel if n_rel != 0 else 1\n",
    "        \n",
    "        # nDCG@K\n",
    "        actual = [true_r for (_, true_r) in user_ratings]\n",
    "        ideal = sorted(actual, reverse=True)\n",
    "        \n",
    "        idcg = dcg_at_k(ideal, k)\n",
    "        dcg = dcg_at_k([rel for (est, rel) in user_ratings], k)\n",
    "        ndcgs[uid] = dcg / idcg if idcg > 0 else 0\n",
    "    \n",
    "    precision = sum(prec for prec in precisions.values()) / len(precisions)\n",
    "    recall = sum(rec for rec in recalls.values()) / len(recalls)\n",
    "    ndcg = sum(ndcg for ndcg in ndcgs.values()) / len(ndcgs)\n",
    "    \n",
    "    return precision, recall, ndcg\n",
    "\n",
    "# Compute the evaluation metrics\n",
    "precision, recall, ndcg = precision_recall_ndcg_at_k(predictions, k=10, threshold=3.5)\n",
    "print(f'Adjusted Precision: {precision}, Adjusted Recall: {recall}, Adjusted nDCG: {ndcg}')\n"
   ]
  },
  {
   "cell_type": "code",
   "execution_count": 11,
   "metadata": {},
   "outputs": [
    {
     "data": {
      "image/png": "[encoded data removed]",
      "text/plain": [
       "<Figure size 1000x600 with 1 Axes>"
      ]
     },
     "metadata": {},
     "output_type": "display_data"
    }
   ],
   "source": [
    "import matplotlib.pyplot as plt\n",
    "\n",
    "# Extract the adjusted predictions\n",
    "rating_values = [pred[3] for pred in predictions] \n",
    "\n",
    "# Plot the distribution of adjusted ratings\n",
    "plt.figure(figsize=(10, 6))\n",
    "plt.hist([pred[3] for pred in predictions], bins=20, edgecolor='black', alpha=0.7)\n",
    "plt.title('Distribution of Predictions')\n",
    "plt.xlabel('Adjusted Rating')\n",
    "plt.ylabel('Frequency')\n",
    "plt.show()"
   ]
  },
  {
   "cell_type": "code",
   "execution_count": 12,
   "metadata": {},
   "outputs": [],
   "source": [
    "# Load the model from the file\n",
    "loaded_nmf = joblib.load('best_nmf_model.pkl')"
   ]
  },
  {
   "cell_type": "code",
   "execution_count": 13,
   "metadata": {},
   "outputs": [],
   "source": [
    "from tqdm import tqdm\n",
    "\n",
    "def recommend_books(model, interactions, user_id=None, n_recommendations=5):\n",
    "    \"\"\"Recommend top-N books for a specific user or all users using the trained NMF model.\"\"\"\n",
    "    \n",
    "    # Get unique books from the interactions dataset\n",
    "    all_books = interactions['book_id'].unique()\n",
    "\n",
    "    # If a specific user is provided, recommend for that user only\n",
    "    if user_id:\n",
    "        user_predictions = [\n",
    "            (book_id, model.predict(uid=user_id, iid=book_id).est) for book_id in all_books\n",
    "        ]\n",
    "        user_predictions.sort(key=lambda x: x[1], reverse=True)\n",
    "        \n",
    "        return {user_id: user_predictions[:n_recommendations]}  # Return (book_id, predicted_rating)\n",
    "    \n",
    "    # If no specific user is provided, generate recommendations for all users\n",
    "    all_users = interactions['user_id'].unique()\n",
    "    recommendations = {}\n",
    "\n",
    "    for uid in tqdm(all_users, desc=\"Generating Recommendations\"):\n",
    "        user_predictions = [\n",
    "            (book_id, model.predict(uid=uid, iid=book_id).est) for book_id in all_books\n",
    "        ]\n",
    "        user_predictions.sort(key=lambda x: x[1], reverse=True)\n",
    "\n",
    "        recommendations[uid] = user_predictions[:n_recommendations]  # Return (book_id, predicted_rating)\n",
    "\n",
    "    return recommendations\n"
   ]
  },
  {
   "cell_type": "code",
   "execution_count": 14,
   "metadata": {},
   "outputs": [
    {
     "data": {
      "text/plain": [
       "user_id\n",
       "1431    168\n",
       "1488    167\n",
       "1500    155\n",
       "1463    151\n",
       "495     147\n",
       "       ... \n",
       "1348      5\n",
       "480       5\n",
       "265       5\n",
       "1752      5\n",
       "850       5\n",
       "Name: count, Length: 1722, dtype: int64"
      ]
     },
     "execution_count": 14,
     "metadata": {},
     "output_type": "execute_result"
    }
   ],
   "source": [
    "interactions['user_id'].value_counts()"
   ]
  },
  {
   "cell_type": "code",
   "execution_count": 15,
   "metadata": {},
   "outputs": [
    {
     "name": "stdout",
     "output_type": "stream",
     "text": [
      "Recommendations for User 1431: [(427, 5), (704, 5), (912, 5), (941, 5), (1063, 5)]\n"
     ]
    }
   ],
   "source": [
    "user_id = 1431\n",
    "recommended_books = recommend_books(loaded_nmf, interactions, user_id=user_id, n_recommendations=5)\n",
    "print(f\"Recommendations for User {user_id}: {recommended_books[user_id]}\")\n"
   ]
  },
  {
   "cell_type": "code",
   "execution_count": 16,
   "metadata": {},
   "outputs": [
    {
     "name": "stdout",
     "output_type": "stream",
     "text": [
      "Recommendations for User 495: [(103, 5), (104, 5), (245, 5), (272, 5), (427, 5)]\n"
     ]
    }
   ],
   "source": [
    "user_id = 495\n",
    "recommended_books = recommend_books(loaded_nmf, interactions, user_id=user_id, n_recommendations=5)\n",
    "print(f\"Recommendations for User {user_id}: {recommended_books[user_id]}\")\n"
   ]
  },
  {
   "cell_type": "code",
   "execution_count": 17,
   "metadata": {},
   "outputs": [
    {
     "name": "stdout",
     "output_type": "stream",
     "text": [
      "Recommendations for User 1643: [(68, 3.0476281670720264), (100, 3.0476281670720264), (103, 3.0476281670720264), (104, 3.0476281670720264), (234, 3.0476281670720264)]\n"
     ]
    }
   ],
   "source": [
    "user_id = 1643       \n",
    "recommended_books = recommend_books(loaded_nmf, interactions, user_id=user_id, n_recommendations=5)\n",
    "print(f\"Recommendations for User {user_id}: {recommended_books[user_id]}\")\n"
   ]
  },
  {
   "cell_type": "code",
   "execution_count": 18,
   "metadata": {},
   "outputs": [
    {
     "name": "stdout",
     "output_type": "stream",
     "text": [
      "Recommendations for User 1228: [(68, 3.0476281670720264), (100, 3.0476281670720264), (103, 3.0476281670720264), (104, 3.0476281670720264), (234, 3.0476281670720264)]\n"
     ]
    }
   ],
   "source": [
    "user_id = 1228\n",
    "recommended_books = recommend_books(loaded_nmf, interactions, user_id=user_id, n_recommendations=5)\n",
    "print(f\"Recommendations for User {user_id}: {recommended_books[user_id]}\")\n"
   ]
  },
  {
   "cell_type": "code",
   "execution_count": 19,
   "metadata": {},
   "outputs": [
    {
     "name": "stdout",
     "output_type": "stream",
     "text": [
      "Recommendations for User 1120: [(68, 3.0476281670720264), (100, 3.0476281670720264), (103, 3.0476281670720264), (104, 3.0476281670720264), (234, 3.0476281670720264)]\n"
     ]
    }
   ],
   "source": [
    "user_id = 1120\n",
    "recommended_books = recommend_books(loaded_nmf, interactions, user_id=user_id, n_recommendations=5)\n",
    "print(f\"Recommendations for User {user_id}: {recommended_books[user_id]}\")\n"
   ]
  }
 ],
 "metadata": {
  "kernelspec": {
   "display_name": "goodreads",
   "language": "python",
   "name": "python3"
  },
  "language_info": {
   "codemirror_mode": {
    "name": "ipython",
    "version": 3
   },
   "file_extension": ".py",
   "mimetype": "text/x-python",
   "name": "python",
   "nbconvert_exporter": "python",
   "pygments_lexer": "ipython3",
   "version": "3.12.3"
  }
 },
 "nbformat": 4,
 "nbformat_minor": 2
}
