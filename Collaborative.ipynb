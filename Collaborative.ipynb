{
 "cells": [
  {
   "cell_type": "code",
   "execution_count": 1,
   "metadata": {},
   "outputs": [
    {
     "name": "stderr",
     "output_type": "stream",
     "text": [
      "c:\\Users\\maddy\\anaconda3\\envs\\goodreads\\Lib\\site-packages\\sentence_transformers\\cross_encoder\\CrossEncoder.py:13: TqdmExperimentalWarning: Using `tqdm.autonotebook.tqdm` in notebook mode. Use `tqdm.tqdm` instead to force console mode (e.g. in jupyter console)\n",
      "  from tqdm.autonotebook import tqdm, trange\n"
     ]
    }
   ],
   "source": [
    "import pandas as pd\n",
    "import os\n",
    "import numpy as np\n",
    "from sentence_transformers import SentenceTransformer\n",
    "from sklearn.metrics.pairwise import cosine_similarity\n",
    "from sklearn.model_selection import train_test_split\n",
    "from sklearn.decomposition import PCA\n",
    "from tqdm import tqdm\n",
    "tqdm.pandas()\n",
    "from surprise import Reader, Dataset, SVD\n",
    "from surprise.model_selection import cross_validate"
   ]
  },
  {
   "cell_type": "code",
   "execution_count": 2,
   "metadata": {},
   "outputs": [],
   "source": [
    "read = pd.read_feather('Feather/read.feather')\n",
    "books = pd.read_feather('Feather/books.feather')    \n",
    "reviews = pd.read_feather('Feather/reviews.feather')\n",
    "interactions = pd.read_feather('Feather/interactions.feather')"
   ]
  },
  {
   "cell_type": "code",
   "execution_count": 3,
   "metadata": {},
   "outputs": [],
   "source": [
    "interactions = interactions[interactions['is_read']== True]"
   ]
  },
  {
   "cell_type": "code",
   "execution_count": 4,
   "metadata": {},
   "outputs": [
    {
     "data": {
      "text/plain": [
       "200000"
      ]
     },
     "execution_count": 4,
     "metadata": {},
     "output_type": "execute_result"
    }
   ],
   "source": [
    "len(reviews['review_text'])"
   ]
  },
  {
   "cell_type": "code",
   "execution_count": 5,
   "metadata": {},
   "outputs": [],
   "source": [
    "reviews = reviews.dropna(subset=['review_text', 'rating'])"
   ]
  },
  {
   "cell_type": "code",
   "execution_count": 6,
   "metadata": {},
   "outputs": [],
   "source": [
    "user_review_counts = reviews.groupby('user_id').size()\n",
    "\n",
    "users_with_more_than_3_reviews = user_review_counts[user_review_counts > 3].index\n",
    "\n",
    "valid_reviews = reviews[reviews['user_id'].isin(users_with_more_than_3_reviews)]"
   ]
  },
  {
   "cell_type": "code",
   "execution_count": 7,
   "metadata": {},
   "outputs": [],
   "source": [
    "valid_reviews = valid_reviews.head(1000)"
   ]
  },
  {
   "cell_type": "code",
   "execution_count": 8,
   "metadata": {},
   "outputs": [
    {
     "data": {
      "text/plain": [
       "9"
      ]
     },
     "execution_count": 8,
     "metadata": {},
     "output_type": "execute_result"
    }
   ],
   "source": [
    "len(valid_reviews['user_id'].unique())"
   ]
  },
  {
   "cell_type": "code",
   "execution_count": 9,
   "metadata": {},
   "outputs": [],
   "source": [
    "train_interactions, test_interactions = train_test_split(interactions, test_size=0.2, random_state=42)"
   ]
  },
  {
   "cell_type": "code",
   "execution_count": 10,
   "metadata": {},
   "outputs": [
    {
     "name": "stderr",
     "output_type": "stream",
     "text": [
      "c:\\Users\\maddy\\anaconda3\\envs\\goodreads\\Lib\\site-packages\\transformers\\tokenization_utils_base.py:1601: FutureWarning: `clean_up_tokenization_spaces` was not set. It will be set to `True` by default. This behavior will be depracted in transformers v4.45, and will be then set to `False` by default. For more details check this issue: https://github.com/huggingface/transformers/issues/31884\n",
      "  warnings.warn(\n",
      "100%|██████████| 1000/1000 [00:38<00:00, 26.21it/s]\n"
     ]
    }
   ],
   "source": [
    "# Initialize Sentence Transformer model\n",
    "model = SentenceTransformer('all-MiniLM-L6-v2')\n",
    "\n",
    "# Calculate text embeddings for reviews\n",
    "valid_reviews['review_embeddings'] = valid_reviews['review_text'].progress_apply(lambda x: model.encode(x))"
   ]
  },
  {
   "cell_type": "code",
   "execution_count": 11,
   "metadata": {},
   "outputs": [],
   "source": [
    "# Combine review embeddings by user\n",
    "user_embeddings = valid_reviews.groupby('user_id')['review_embeddings'].apply(lambda x: np.mean(np.vstack(x), axis=0)).reset_index()"
   ]
  },
  {
   "cell_type": "code",
   "execution_count": 12,
   "metadata": {},
   "outputs": [],
   "source": [
    "train_interactions['rating_normalized'] = (interactions['rating'] - interactions['rating'].min()) / (interactions['rating'].max() - interactions['rating'].min())"
   ]
  },
  {
   "cell_type": "code",
   "execution_count": 13,
   "metadata": {},
   "outputs": [],
   "source": [
    "user_ratings = train_interactions.groupby('user_id')['rating_normalized'].mean().reset_index()\n",
    "combined_features = pd.merge(user_embeddings, user_ratings, on='user_id')"
   ]
  },
  {
   "cell_type": "code",
   "execution_count": 14,
   "metadata": {},
   "outputs": [],
   "source": [
    "# Calculate User-User Similarity\n",
    "user_features = combined_features['review_embeddings'].apply(pd.Series).values\n",
    "user_similarity = cosine_similarity(user_features, user_features)"
   ]
  },
  {
   "cell_type": "code",
   "execution_count": 15,
   "metadata": {},
   "outputs": [],
   "source": [
    "books = books.drop_duplicates(subset='book_id')"
   ]
  },
  {
   "cell_type": "code",
   "execution_count": 18,
   "metadata": {},
   "outputs": [
    {
     "data": {
      "text/plain": [
       "array([ 0,  1,  4,  5,  7,  8,  9, 12, 14], dtype=int64)"
      ]
     },
     "execution_count": 18,
     "metadata": {},
     "output_type": "execute_result"
    }
   ],
   "source": [
    "combined_features['user_id'].unique()"
   ]
  },
  {
   "cell_type": "code",
   "execution_count": 16,
   "metadata": {},
   "outputs": [],
   "source": [
    "# Function to recommend books based on user similarity\n",
    "def recommend_books(user_id, user_similarity, interactions_df, books_df, combined_features, num_recommendations=5):\n",
    "    if user_id not in combined_features['user_id'].values:\n",
    "        return pd.DataFrame(columns=['book_id', 'title', 'authors'])\n",
    "\n",
    "    # Identify similar users\n",
    "    user_index = combined_features[combined_features['user_id'] == user_id].index[0]\n",
    "    similar_user_ids = combined_features['user_id'].iloc[user_similarity[user_index].argsort()[-num_recommendations-1:-1][::-1]].values\n",
    "\n",
    "    # Get books read by similar users\n",
    "    similar_users_books = interactions_df[interactions_df['user_id'].isin(similar_user_ids)]['book_id'].unique()\n",
    "\n",
    "    # Exclude books already read by the current user\n",
    "    user_books = interactions_df[interactions_df['user_id'] == user_id]['book_id'].values\n",
    "    recommended_books = [book for book in similar_users_books if book not in user_books]\n",
    "\n",
    "    return books_df[books_df['book_id'].isin(recommended_books)][['book_id']].head(num_recommendations)\n"
   ]
  },
  {
   "cell_type": "code",
   "execution_count": 19,
   "metadata": {},
   "outputs": [
    {
     "name": "stdout",
     "output_type": "stream",
     "text": [
      "    book_id\n",
      "45     1064\n",
      "59     1366\n",
      "61     1368\n",
      "63     1402\n",
      "72     1500\n"
     ]
    }
   ],
   "source": [
    "print(recommend_books(user_id=0, user_similarity=user_similarity, interactions_df=train_interactions, books_df=books, combined_features=combined_features, num_recommendations=5))"
   ]
  },
  {
   "cell_type": "code",
   "execution_count": 20,
   "metadata": {},
   "outputs": [
    {
     "name": "stdout",
     "output_type": "stream",
     "text": [
      "    book_id\n",
      "4       231\n",
      "5       234\n",
      "7       420\n",
      "8       421\n",
      "13      426\n"
     ]
    }
   ],
   "source": [
    "print(recommend_books(user_id=1, user_similarity=user_similarity, interactions_df=train_interactions, books_df=books, combined_features=combined_features, num_recommendations=5))"
   ]
  },
  {
   "cell_type": "code",
   "execution_count": 21,
   "metadata": {},
   "outputs": [
    {
     "name": "stdout",
     "output_type": "stream",
     "text": [
      "    book_id\n",
      "4       231\n",
      "7       420\n",
      "8       421\n",
      "13      426\n",
      "15      428\n"
     ]
    }
   ],
   "source": [
    "print(recommend_books(user_id=4, user_similarity=user_similarity, interactions_df=train_interactions, books_df=books, combined_features=combined_features, num_recommendations=5))"
   ]
  },
  {
   "cell_type": "code",
   "execution_count": 22,
   "metadata": {},
   "outputs": [
    {
     "name": "stdout",
     "output_type": "stream",
     "text": [
      "    book_id\n",
      "4       231\n",
      "5       234\n",
      "7       420\n",
      "8       421\n",
      "13      426\n"
     ]
    }
   ],
   "source": [
    "print(recommend_books(user_id=5, user_similarity=user_similarity, interactions_df=train_interactions, books_df=books, combined_features=combined_features, num_recommendations=5))"
   ]
  },
  {
   "cell_type": "code",
   "execution_count": 23,
   "metadata": {},
   "outputs": [
    {
     "name": "stdout",
     "output_type": "stream",
     "text": [
      "    book_id\n",
      "4       231\n",
      "5       234\n",
      "7       420\n",
      "8       421\n",
      "13      426\n"
     ]
    }
   ],
   "source": [
    "print(recommend_books(user_id=7, user_similarity=user_similarity, interactions_df=train_interactions, books_df=books, combined_features=combined_features, num_recommendations=5))"
   ]
  },
  {
   "cell_type": "code",
   "execution_count": 24,
   "metadata": {},
   "outputs": [
    {
     "name": "stdout",
     "output_type": "stream",
     "text": [
      "    book_id\n",
      "4       231\n",
      "5       234\n",
      "7       420\n",
      "8       421\n",
      "13      426\n"
     ]
    }
   ],
   "source": [
    "print(recommend_books(user_id=8, user_similarity=user_similarity, interactions_df=train_interactions, books_df=books, combined_features=combined_features, num_recommendations=5))"
   ]
  },
  {
   "cell_type": "code",
   "execution_count": 25,
   "metadata": {},
   "outputs": [
    {
     "name": "stdout",
     "output_type": "stream",
     "text": [
      "    book_id\n",
      "5       234\n",
      "16      461\n",
      "59     1366\n",
      "61     1368\n",
      "63     1402\n"
     ]
    }
   ],
   "source": [
    "print(recommend_books(user_id=9, user_similarity=user_similarity, interactions_df=train_interactions, books_df=books, combined_features=combined_features, num_recommendations=5))"
   ]
  }
 ],
 "metadata": {
  "kernelspec": {
   "display_name": "goodreads",
   "language": "python",
   "name": "python3"
  },
  "language_info": {
   "codemirror_mode": {
    "name": "ipython",
    "version": 3
   },
   "file_extension": ".py",
   "mimetype": "text/x-python",
   "name": "python",
   "nbconvert_exporter": "python",
   "pygments_lexer": "ipython3",
   "version": "3.12.3"
  }
 },
 "nbformat": 4,
 "nbformat_minor": 2
}
