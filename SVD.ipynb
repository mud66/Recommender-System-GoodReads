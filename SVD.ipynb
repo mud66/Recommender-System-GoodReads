{
 "cells": [
  {
   "cell_type": "code",
   "execution_count": 1,
   "metadata": {},
   "outputs": [
    {
     "name": "stderr",
     "output_type": "stream",
     "text": [
      "c:\\Users\\maddy\\anaconda3\\envs\\goodreads\\Lib\\site-packages\\sentence_transformers\\cross_encoder\\CrossEncoder.py:13: TqdmExperimentalWarning: Using `tqdm.autonotebook.tqdm` in notebook mode. Use `tqdm.tqdm` instead to force console mode (e.g. in jupyter console)\n",
      "  from tqdm.autonotebook import tqdm, trange\n"
     ]
    }
   ],
   "source": [
    "import pandas as pd\n",
    "import numpy as np\n",
    "from sentence_transformers import SentenceTransformer\n",
    "from sklearn.metrics.pairwise import cosine_similarity\n",
    "from sklearn.decomposition import PCA\n",
    "from sklearn.decomposition import TruncatedSVD\n",
    "from tqdm import tqdm\n",
    "tqdm.pandas()\n",
    "from surprise import Reader, Dataset, SVD\n",
    "from sklearn.model_selection import GridSearchCV, cross_validate\n",
    "svd = SVD()"
   ]
  },
  {
   "cell_type": "code",
   "execution_count": 2,
   "metadata": {},
   "outputs": [],
   "source": [
    "read = pd.read_feather('Feather/read.feather')\n",
    "books = pd.read_feather('Feather/books.feather')    \n",
    "reviews = pd.read_feather('Feather/reviews.feather')\n",
    "interactions = pd.read_feather('Feather/interactions.feather')"
   ]
  },
  {
   "cell_type": "code",
   "execution_count": 3,
   "metadata": {},
   "outputs": [],
   "source": [
    "interactions = interactions[interactions['is_read']== True]"
   ]
  },
  {
   "cell_type": "code",
   "execution_count": 4,
   "metadata": {},
   "outputs": [],
   "source": [
    "reviews = reviews.dropna(subset=['review_text', 'rating'])\n",
    "user_review_counts = reviews.groupby('user_id').size()\n",
    "\n",
    "users_with_more_than_3_reviews = user_review_counts[user_review_counts > 3].index\n",
    "\n",
    "valid_reviews = reviews[reviews['user_id'].isin(users_with_more_than_3_reviews)]\n",
    "valid_reviews = valid_reviews.head(10000)"
   ]
  },
  {
   "cell_type": "code",
   "execution_count": 5,
   "metadata": {},
   "outputs": [],
   "source": [
    "len(reviews['review_text'])\n",
    "reviews = reviews.dropna(subset=['review_text', 'rating'])\n",
    "user_review_counts = reviews.groupby('user_id').size()\n",
    "\n",
    "users_with_more_than_3_reviews = user_review_counts[user_review_counts > 3].index\n",
    "\n",
    "valid_reviews = reviews[reviews['user_id'].isin(users_with_more_than_3_reviews)]\n",
    "valid_reviews = valid_reviews.head(10000)\n"
   ]
  },
  {
   "cell_type": "code",
   "execution_count": null,
   "metadata": {},
   "outputs": [],
   "source": [
    "import pandas as pd\n",
    "from surprise import Reader, Dataset, SVD\n",
    "from surprise.model_selection import GridSearchCV, cross_validate, train_test_split\n",
    "\n",
    "# Prepare surprise dataset\n",
    "reader = Reader()\n",
    "data = Dataset.load_from_df(interactions[['user_id', 'book_id', 'rating']], reader)\n",
    "\n",
    "# Split the data into training and test sets\n",
    "trainset, testset = train_test_split(data, test_size=0.2)\n",
    "\n",
    "# Define the parameter grid\n",
    "param_grid = {\n",
    "    'n_epochs': [10, 20],\n",
    "    'lr_all': [0.001, 0.002],\n",
    "    'reg_all': [0.01, 0.02],\n",
    "    'n_factors': [20, 50,]  # Number of latent factors\n",
    "}\n",
    "\n",
    "# Initialize GridSearchCV\n",
    "gs = GridSearchCV(SVD, param_grid, measures=['rmse', 'mae'], cv=5)\n",
    "gs.fit(data)\n",
    "\n",
    "# Train SVD with the best hyperparameters\n",
    "best_svd = gs.best_estimator['rmse']\n",
    "cross_validate(best_svd, data, measures=['RMSE', 'MAE'], cv=5, verbose=True)\n",
    "\n",
    "# Train on the full dataset\n",
    "trainset = data.build_full_trainset()\n",
    "best_svd.fit(trainset)\n"
   ]
  },
  {
   "cell_type": "code",
   "execution_count": null,
   "metadata": {},
   "outputs": [],
   "source": [
    "# Merge genres into reviews\n",
    "reviews_with_genres = valid_reviews.merge(books[['book_id', 'genres']], on='book_id', how='left')\n",
    "\n",
    "# Combine review text and genres\n",
    "reviews_with_genres['combined_text'] = reviews_with_genres.apply(lambda row: f\"{row['review_text']} {row['genres']}\", axis=1)\n",
    "\n",
    "# Calculate combined embeddings for reviews\n",
    "model = SentenceTransformer('all-MiniLM-L6-v2')\n",
    "reviews_with_genres['combined_embeddings'] = reviews_with_genres['combined_text'].progress_apply(lambda x: model.encode(x))\n",
    "\n",
    "# Combine combined_embeddings by user\n",
    "user_embeddings = reviews_with_genres.groupby('user_id')['combined_embeddings'].apply(lambda x: np.mean(np.vstack(x), axis=0)).reset_index()\n",
    "\n",
    "# Normalize ratings in training data\n",
    "interactions['rating_normalized'] = (interactions['rating'] - interactions['rating'].min()) / (interactions['rating'].max() - interactions['rating'].min())\n",
    "\n",
    "# Merge user embeddings with normalized ratings\n",
    "user_ratings = interactions.groupby('user_id')['rating_normalized'].mean().reset_index()\n",
    "combined_features = pd.merge(user_embeddings, user_ratings, on='user_id')\n"
   ]
  },
  {
   "cell_type": "code",
   "execution_count": null,
   "metadata": {},
   "outputs": [],
   "source": [
    "combined_features.isnull().sum().sum()"
   ]
  },
  {
   "cell_type": "code",
   "execution_count": null,
   "metadata": {},
   "outputs": [],
   "source": [
    "# Calculate User-User Similarity\n",
    "user_features = np.vstack(combined_features['combined_embeddings'])\n",
    "user_similarity = cosine_similarity(user_features, user_features)"
   ]
  },
  {
   "cell_type": "code",
   "execution_count": null,
   "metadata": {},
   "outputs": [],
   "source": [
    "\n",
    "def recommend_books(user_id, user_similarity, interactions_df, books_df, combined_features, num_recommendations=5):\n",
    "    # Check if user_id is in the combined_features dataframe\n",
    "    if user_id not in combined_features['user_id'].values:\n",
    "        return pd.DataFrame(columns=['book_id', 'title', 'authors', 'genres'])\n",
    "\n",
    "    # Identify similar users\n",
    "    user_index = combined_features[combined_features['user_id'] == user_id].index[0]\n",
    "    similar_user_ids = combined_features['user_id'][user_similarity[user_index].argsort()[-num_recommendations-1:-1][::-1]].values\n",
    "\n",
    "    # Get books read by similar users\n",
    "    similar_users_books = interactions_df[interactions_df['user_id'].isin(similar_user_ids)]['book_id'].unique()\n",
    "\n",
    "    # Filter out books already read by the user\n",
    "    user_books = interactions_df[interactions_df['user_id'] == user_id]['book_id'].unique()\n",
    "    recommended_books = [book_id for book_id in similar_users_books if book_id not in user_books]\n",
    "\n",
    "    # Get details of the recommended books\n",
    "    recommended_books_df = books_df[books_df['book_id'].isin(recommended_books)].head(num_recommendations)\n",
    "\n",
    "    return recommended_books_df[['book_id', 'title']]\n"
   ]
  },
  {
   "cell_type": "code",
   "execution_count": null,
   "metadata": {},
   "outputs": [],
   "source": [
    "recommend_books(4, user_similarity, interactions, books, combined_features)"
   ]
  },
  {
   "cell_type": "code",
   "execution_count": null,
   "metadata": {},
   "outputs": [],
   "source": [
    "interactions[interactions['user_id']==4]"
   ]
  }
 ],
 "metadata": {
  "kernelspec": {
   "display_name": "goodreads",
   "language": "python",
   "name": "python3"
  },
  "language_info": {
   "codemirror_mode": {
    "name": "ipython",
    "version": 3
   },
   "file_extension": ".py",
   "mimetype": "text/x-python",
   "name": "python",
   "nbconvert_exporter": "python",
   "pygments_lexer": "ipython3",
   "version": "3.12.3"
  }
 },
 "nbformat": 4,
 "nbformat_minor": 2
}
