{
 "cells": [
  {
   "cell_type": "code",
   "execution_count": null,
   "metadata": {},
   "outputs": [],
   "source": [
    "import pandas as pd\n",
    "from surprise import Dataset, Reader, SVD\n",
    "from surprise.model_selection import train_test_split\n",
    "import pandas as pd\n",
    "import os\n",
    "import numpy as np\n",
    "from sentence_transformers import SentenceTransformer\n",
    "from sklearn.metrics.pairwise import cosine_similarity\n",
    "DIR = 'Data'"
   ]
  },
  {
   "cell_type": "code",
   "execution_count": 2,
   "metadata": {},
   "outputs": [],
   "source": [
    "interactions_csv = pd.read_csv('Data/goodreads_interactions.csv', header = 0)"
   ]
  },
  {
   "cell_type": "code",
   "execution_count": 3,
   "metadata": {},
   "outputs": [],
   "source": [
    "file_path = os.path.join(DIR, 'goodreads_books.json.gz')\n",
    "\n",
    "chunk_size = 1000\n",
    "num_chunks = 100\n",
    "chunks = pd.read_json(file_path, lines=True, chunksize=chunk_size, compression='gzip')\n",
    "\n",
    "df_list = []\n",
    "\n",
    "for i, chunk in enumerate(chunks):\n",
    "    if i >= num_chunks:\n",
    "        break\n",
    "    df_list.append(chunk)\n",
    "\n",
    "books = pd.concat(df_list, ignore_index=True)"
   ]
  },
  {
   "cell_type": "code",
   "execution_count": 4,
   "metadata": {},
   "outputs": [],
   "source": [
    "file_path = os.path.join(DIR, 'goodreads_book_genres_initial.json.gz')\n",
    "\n",
    "chunk_size = 1000\n",
    "num_chunks = 100\n",
    "chunks = pd.read_json(file_path, lines=True, chunksize=chunk_size, compression='gzip')\n",
    "\n",
    "df_list = []\n",
    "\n",
    "for i, chunk in enumerate(chunks):\n",
    "    if i >= num_chunks:\n",
    "        break\n",
    "    df_list.append(chunk)\n",
    "\n",
    "genres = pd.concat(df_list, ignore_index=True)"
   ]
  },
  {
   "cell_type": "code",
   "execution_count": 5,
   "metadata": {},
   "outputs": [],
   "source": [
    "file_path = os.path.join(DIR, 'goodreads_reviews_dedup.json.gz')\n",
    "\n",
    "chunk_size = 1000\n",
    "num_chunks = 100\n",
    "chunks = pd.read_json(file_path, lines=True, chunksize=chunk_size, compression='gzip')\n",
    "\n",
    "df_list = []\n",
    "\n",
    "for i, chunk in enumerate(chunks):\n",
    "    if i >= num_chunks:\n",
    "        break\n",
    "    df_list.append(chunk)\n",
    "\n",
    "reviews = pd.concat(df_list, ignore_index=True)"
   ]
  },
  {
   "cell_type": "code",
   "execution_count": 6,
   "metadata": {},
   "outputs": [],
   "source": [
    "file_path = os.path.join(DIR, 'goodreads_interactions_dedup.json.gz')\n",
    "\n",
    "chunk_size = 1000\n",
    "num_chunks = 100\n",
    "chunks = pd.read_json(file_path, lines=True, chunksize=chunk_size, compression='gzip')\n",
    "\n",
    "df_list = []\n",
    "\n",
    "for i, chunk in enumerate(chunks):\n",
    "    if i >= num_chunks:\n",
    "        break\n",
    "    df_list.append(chunk)\n",
    "\n",
    "interactions = pd.concat(df_list, ignore_index=True)"
   ]
  },
  {
   "cell_type": "code",
   "execution_count": 7,
   "metadata": {},
   "outputs": [],
   "source": [
    "def remove_blank_rows(df, column_name):\n",
    "    df_cleaned = df[df[column_name].str.strip() != '']\n",
    "    return df_cleaned\n",
    "\n",
    "books = remove_blank_rows(books, 'description')"
   ]
  },
  {
   "cell_type": "code",
   "execution_count": 8,
   "metadata": {},
   "outputs": [],
   "source": [
    "def extract_genres(genre_dict):\n",
    "    return list(genre_dict.keys())\n",
    "\n",
    "genres['genre_names'] = genres['genres'].apply(extract_genres)"
   ]
  },
  {
   "cell_type": "code",
   "execution_count": 9,
   "metadata": {},
   "outputs": [],
   "source": [
    "genres = genres.sort_values(by='book_id')\n",
    "books = books.sort_values(by='book_id')"
   ]
  },
  {
   "cell_type": "code",
   "execution_count": 10,
   "metadata": {},
   "outputs": [],
   "source": [
    "books = books.copy()\n",
    "books = books[['description', 'title', 'authors', 'book_id']]\n",
    "books = pd.merge(books, genres, on='book_id', how='left')"
   ]
  },
  {
   "cell_type": "code",
   "execution_count": 11,
   "metadata": {},
   "outputs": [],
   "source": [
    "def combine_description_and_genres(row):\n",
    "    genres_str = ' '.join(row['genre_names'])\n",
    "    return f\"{row['description']} {genres_str}\"\n",
    "\n",
    "books['combined_text'] = books.apply(combine_description_and_genres, axis=1)"
   ]
  },
  {
   "cell_type": "code",
   "execution_count": 12,
   "metadata": {},
   "outputs": [],
   "source": [
    "books.reset_index(drop=True, inplace=True)\n",
    "interactions_csv.reset_index(drop=True, inplace=True)"
   ]
  },
  {
   "cell_type": "code",
   "execution_count": 13,
   "metadata": {},
   "outputs": [],
   "source": [
    "data = pd.merge(interactions, books, on='book_id')\n",
    "data = pd.merge(data, reviews, on=['user_id', 'book_id'])"
   ]
  },
  {
   "cell_type": "code",
   "execution_count": null,
   "metadata": {},
   "outputs": [],
   "source": [
    "data.columns"
   ]
  },
  {
   "cell_type": "code",
   "execution_count": 15,
   "metadata": {},
   "outputs": [],
   "source": [
    "# Prepare data for Surprise\n",
    "reader = Reader(rating_scale=(1, 5))\n",
    "data_surprise = Dataset.load_from_df(data[['user_id', 'book_id', 'rating_x']], reader)"
   ]
  },
  {
   "cell_type": "code",
   "execution_count": 16,
   "metadata": {},
   "outputs": [],
   "source": [
    "# Split data into train and test sets\n",
    "trainset, testset = train_test_split(data_surprise, test_size=0.2)"
   ]
  },
  {
   "cell_type": "code",
   "execution_count": null,
   "metadata": {},
   "outputs": [],
   "source": [
    "# Build and train the model\n",
    "svd = SVD()\n",
    "svd.fit(trainset)"
   ]
  },
  {
   "cell_type": "code",
   "execution_count": 18,
   "metadata": {},
   "outputs": [],
   "source": [
    "# Function to recommend books\n",
    "def recommend_books_surprise(user_id, num_recommendations=5):\n",
    "    user_books = data[data['user_id'] == user_id]['book_id'].unique()\n",
    "    all_books = data['book_id'].unique()\n",
    "    books_to_predict = [book for book in all_books if book not in user_books]\n",
    "\n",
    "    predictions = [svd.predict(user_id, book_id) for book_id in books_to_predict]\n",
    "    predictions = sorted(predictions, key=lambda x: x.est, reverse=True)\n",
    "\n",
    "    recommended_book_ids = [pred.iid for pred in predictions[:num_recommendations]]\n",
    "    recommended_books = books[books['book_id'].isin(recommended_book_ids)]['title'].tolist()\n",
    "    return recommended_books"
   ]
  },
  {
   "cell_type": "code",
   "execution_count": null,
   "metadata": {},
   "outputs": [],
   "source": [
    "user_id = 1234\n",
    "surprise_recommendations = recommend_books_surprise(user_id)\n",
    "print(surprise_recommendations)\n"
   ]
  }
 ],
 "metadata": {
  "kernelspec": {
   "display_name": "goodreads",
   "language": "python",
   "name": "python3"
  },
  "language_info": {
   "codemirror_mode": {
    "name": "ipython",
    "version": 3
   },
   "file_extension": ".py",
   "mimetype": "text/x-python",
   "name": "python",
   "nbconvert_exporter": "python",
   "pygments_lexer": "ipython3",
   "version": "3.12.4"
  }
 },
 "nbformat": 4,
 "nbformat_minor": 2
}
