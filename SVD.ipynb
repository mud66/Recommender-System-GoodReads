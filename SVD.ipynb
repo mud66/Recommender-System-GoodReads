{
 "cells": [
  {
   "cell_type": "code",
   "execution_count": null,
   "metadata": {},
   "outputs": [
    {
     "name": "stderr",
     "output_type": "stream",
     "text": [
      "c:\\Users\\maddy\\anaconda3\\envs\\goodreads\\Lib\\site-packages\\sentence_transformers\\cross_encoder\\CrossEncoder.py:13: TqdmExperimentalWarning: Using `tqdm.autonotebook.tqdm` in notebook mode. Use `tqdm.tqdm` instead to force console mode (e.g. in jupyter console)\n",
      "  from tqdm.autonotebook import tqdm, trange\n"
     ]
    }
   ],
   "source": [
    "import pandas as pd\n",
    "import numpy as np\n",
    "from sentence_transformers import SentenceTransformer\n",
    "from sklearn.metrics.pairwise import cosine_similarity\n",
    "from tqdm import tqdm\n",
    "tqdm.pandas()\n",
    "from surprise import Reader, Dataset, SVD\n",
    "from sklearn.model_selection import GridSearchCV, cross_validate\n",
    "svd = SVD()"
   ]
  },
  {
   "cell_type": "code",
   "execution_count": 2,
   "metadata": {},
   "outputs": [],
   "source": [
    "read = pd.read_feather('Feather/read.feather')\n",
    "books = pd.read_feather('Feather/books.feather')    \n",
    "reviews = pd.read_feather('Feather/reviews.feather')\n",
    "interactions = pd.read_feather('Feather/interactions.feather')"
   ]
  },
  {
   "cell_type": "code",
   "execution_count": 3,
   "metadata": {},
   "outputs": [],
   "source": [
    "interactions = interactions[interactions['is_read']== True]"
   ]
  },
  {
   "cell_type": "code",
   "execution_count": 4,
   "metadata": {},
   "outputs": [],
   "source": [
    "reviews = reviews.dropna(subset=['review_text', 'rating'])\n",
    "user_review_counts = reviews.groupby('user_id').size()\n",
    "\n",
    "users_with_more_than_3_reviews = user_review_counts[user_review_counts > 3].index\n",
    "\n",
    "valid_reviews = reviews[reviews['user_id'].isin(users_with_more_than_3_reviews)]\n",
    "valid_reviews = valid_reviews.head(10000)"
   ]
  },
  {
   "cell_type": "code",
   "execution_count": 5,
   "metadata": {},
   "outputs": [],
   "source": [
    "len(reviews['review_text'])\n",
    "reviews = reviews.dropna(subset=['review_text', 'rating'])\n",
    "user_review_counts = reviews.groupby('user_id').size()\n",
    "\n",
    "users_with_more_than_3_reviews = user_review_counts[user_review_counts > 3].index\n",
    "\n",
    "valid_reviews = reviews[reviews['user_id'].isin(users_with_more_than_3_reviews)]\n",
    "valid_reviews = valid_reviews.head(10000)\n"
   ]
  },
  {
   "cell_type": "code",
   "execution_count": 6,
   "metadata": {},
   "outputs": [
    {
     "name": "stdout",
     "output_type": "stream",
     "text": [
      "Evaluating RMSE, MAE of algorithm SVD on 5 split(s).\n",
      "\n",
      "                  Fold 1  Fold 2  Fold 3  Fold 4  Fold 5  Mean    Std     \n",
      "RMSE (testset)    1.2037  1.2015  1.2002  1.2003  1.2109  1.2033  0.0040  \n",
      "MAE (testset)     0.8900  0.8925  0.8923  0.8884  0.8954  0.8917  0.0024  \n",
      "Fit time          1.24    1.22    1.27    1.17    1.32    1.24    0.05    \n",
      "Test time         0.22    0.20    0.49    0.19    0.46    0.31    0.13    \n"
     ]
    },
    {
     "data": {
      "text/plain": [
       "<surprise.prediction_algorithms.matrix_factorization.SVD at 0x1cf1f899ca0>"
      ]
     },
     "execution_count": 6,
     "metadata": {},
     "output_type": "execute_result"
    }
   ],
   "source": [
    "import pandas as pd\n",
    "from surprise import Reader, Dataset, SVD\n",
    "from surprise.model_selection import GridSearchCV, cross_validate, train_test_split\n",
    "\n",
    "# Prepare surprise dataset\n",
    "reader = Reader()\n",
    "data = Dataset.load_from_df(interactions[['user_id', 'book_id', 'rating']], reader)\n",
    "\n",
    "# Split the data into training and test sets\n",
    "trainset, testset = train_test_split(data, test_size=0.2)\n",
    "\n",
    "# Define the parameter grid\n",
    "param_grid = {\n",
    "    'n_epochs': [10, 20],\n",
    "    'lr_all': [0.001, 0.002],\n",
    "    'reg_all': [0.01, 0.02],\n",
    "    'n_factors': [20, 50,]  # Number of latent factors\n",
    "}\n",
    "\n",
    "# Initialize GridSearchCV\n",
    "gs = GridSearchCV(SVD, param_grid, measures=['rmse', 'mae'], cv=5)\n",
    "gs.fit(data)\n",
    "\n",
    "# Train SVD with the best hyperparameters\n",
    "best_svd = gs.best_estimator['rmse']\n",
    "cross_validate(best_svd, data, measures=['RMSE', 'MAE'], cv=5, verbose=True)\n",
    "\n",
    "# Train on the full dataset\n",
    "trainset = data.build_full_trainset()\n",
    "best_svd.fit(trainset)\n"
   ]
  },
  {
   "cell_type": "code",
   "execution_count": 7,
   "metadata": {},
   "outputs": [
    {
     "name": "stderr",
     "output_type": "stream",
     "text": [
      "c:\\Users\\maddy\\anaconda3\\envs\\goodreads\\Lib\\site-packages\\transformers\\tokenization_utils_base.py:1601: FutureWarning: `clean_up_tokenization_spaces` was not set. It will be set to `True` by default. This behavior will be depracted in transformers v4.45, and will be then set to `False` by default. For more details check this issue: https://github.com/huggingface/transformers/issues/31884\n",
      "  warnings.warn(\n",
      "100%|██████████| 10000/10000 [07:04<00:00, 23.57it/s]\n"
     ]
    }
   ],
   "source": [
    "# Merge genres into reviews\n",
    "reviews_with_genres = valid_reviews.merge(books[['book_id', 'genres']], on='book_id', how='left')\n",
    "\n",
    "# Combine review text and genres\n",
    "reviews_with_genres['combined_text'] = reviews_with_genres.apply(lambda row: f\"{row['review_text']} {row['genres']}\", axis=1)\n",
    "\n",
    "# Calculate combined embeddings for reviews\n",
    "model = SentenceTransformer('all-MiniLM-L6-v2')\n",
    "reviews_with_genres['combined_embeddings'] = reviews_with_genres['combined_text'].progress_apply(lambda x: model.encode(x))\n",
    "\n",
    "# Combine combined_embeddings by user\n",
    "user_embeddings = reviews_with_genres.groupby('user_id')['combined_embeddings'].apply(lambda x: np.mean(np.vstack(x), axis=0)).reset_index()\n",
    "\n",
    "# Normalize ratings in training data\n",
    "interactions['rating_normalized'] = (interactions['rating'] - interactions['rating'].min()) / (interactions['rating'].max() - interactions['rating'].min())\n",
    "\n",
    "# Merge user embeddings with normalized ratings\n",
    "user_ratings = interactions.groupby('user_id')['rating_normalized'].mean().reset_index()\n",
    "combined_features = pd.merge(user_embeddings, user_ratings, on='user_id')\n"
   ]
  },
  {
   "cell_type": "code",
   "execution_count": 8,
   "metadata": {},
   "outputs": [
    {
     "data": {
      "text/plain": [
       "0"
      ]
     },
     "execution_count": 8,
     "metadata": {},
     "output_type": "execute_result"
    }
   ],
   "source": [
    "combined_features.isnull().sum().sum()"
   ]
  },
  {
   "cell_type": "code",
   "execution_count": 9,
   "metadata": {},
   "outputs": [],
   "source": [
    "# Calculate User-User Similarity\n",
    "user_features = np.vstack(combined_features['combined_embeddings'])\n",
    "user_similarity = cosine_similarity(user_features, user_features)"
   ]
  },
  {
   "cell_type": "code",
   "execution_count": 10,
   "metadata": {},
   "outputs": [],
   "source": [
    "\n",
    "def recommend_books(user_id, user_similarity, interactions_df, books_df, combined_features, num_recommendations=5):\n",
    "    # Check if user_id is in the combined_features dataframe\n",
    "    if user_id not in combined_features['user_id'].values:\n",
    "        return pd.DataFrame(columns=['book_id', 'title', 'authors', 'genres'])\n",
    "\n",
    "    # Identify similar users\n",
    "    user_index = combined_features[combined_features['user_id'] == user_id].index[0]\n",
    "    similar_user_ids = combined_features['user_id'][user_similarity[user_index].argsort()[-num_recommendations-1:-1][::-1]].values\n",
    "\n",
    "    # Get books read by similar users\n",
    "    similar_users_books = interactions_df[interactions_df['user_id'].isin(similar_user_ids)]['book_id'].unique()\n",
    "\n",
    "    # Filter out books already read by the user\n",
    "    user_books = interactions_df[interactions_df['user_id'] == user_id]['book_id'].unique()\n",
    "    recommended_books = [book_id for book_id in similar_users_books if book_id not in user_books]\n",
    "\n",
    "    # Get details of the recommended books\n",
    "    recommended_books_df = books_df[books_df['book_id'].isin(recommended_books)].head(num_recommendations)\n",
    "\n",
    "    return recommended_books_df[['book_id', 'title']]\n"
   ]
  },
  {
   "cell_type": "code",
   "execution_count": 11,
   "metadata": {},
   "outputs": [
    {
     "data": {
      "text/html": [
       "<div>\n",
       "<style scoped>\n",
       "    .dataframe tbody tr th:only-of-type {\n",
       "        vertical-align: middle;\n",
       "    }\n",
       "\n",
       "    .dataframe tbody tr th {\n",
       "        vertical-align: top;\n",
       "    }\n",
       "\n",
       "    .dataframe thead th {\n",
       "        text-align: right;\n",
       "    }\n",
       "</style>\n",
       "<table border=\"1\" class=\"dataframe\">\n",
       "  <thead>\n",
       "    <tr style=\"text-align: right;\">\n",
       "      <th></th>\n",
       "      <th>book_id</th>\n",
       "      <th>title</th>\n",
       "    </tr>\n",
       "  </thead>\n",
       "  <tbody>\n",
       "    <tr>\n",
       "      <th>2</th>\n",
       "      <td>229</td>\n",
       "      <td>Sideswipe</td>\n",
       "    </tr>\n",
       "    <tr>\n",
       "      <th>10</th>\n",
       "      <td>423</td>\n",
       "      <td>Where I Was From</td>\n",
       "    </tr>\n",
       "    <tr>\n",
       "      <th>14</th>\n",
       "      <td>427</td>\n",
       "      <td>Miami</td>\n",
       "    </tr>\n",
       "    <tr>\n",
       "      <th>16</th>\n",
       "      <td>461</td>\n",
       "      <td>The Inner Life of Martin Frost</td>\n",
       "    </tr>\n",
       "    <tr>\n",
       "      <th>33</th>\n",
       "      <td>759</td>\n",
       "      <td>Collected Stories</td>\n",
       "    </tr>\n",
       "  </tbody>\n",
       "</table>\n",
       "</div>"
      ],
      "text/plain": [
       "    book_id                           title\n",
       "2       229                       Sideswipe\n",
       "10      423                Where I Was From\n",
       "14      427                           Miami\n",
       "16      461  The Inner Life of Martin Frost\n",
       "33      759               Collected Stories"
      ]
     },
     "execution_count": 11,
     "metadata": {},
     "output_type": "execute_result"
    }
   ],
   "source": [
    "recommend_books(4, user_similarity, interactions, books, combined_features)"
   ]
  },
  {
   "cell_type": "code",
   "execution_count": 12,
   "metadata": {},
   "outputs": [
    {
     "data": {
      "text/html": [
       "<div>\n",
       "<style scoped>\n",
       "    .dataframe tbody tr th:only-of-type {\n",
       "        vertical-align: middle;\n",
       "    }\n",
       "\n",
       "    .dataframe tbody tr th {\n",
       "        vertical-align: top;\n",
       "    }\n",
       "\n",
       "    .dataframe thead th {\n",
       "        text-align: right;\n",
       "    }\n",
       "</style>\n",
       "<table border=\"1\" class=\"dataframe\">\n",
       "  <thead>\n",
       "    <tr style=\"text-align: right;\">\n",
       "      <th></th>\n",
       "      <th>review_id</th>\n",
       "      <th>is_read</th>\n",
       "      <th>rating</th>\n",
       "      <th>user_id</th>\n",
       "      <th>book_id</th>\n",
       "      <th>rating_normalized</th>\n",
       "    </tr>\n",
       "  </thead>\n",
       "  <tbody>\n",
       "    <tr>\n",
       "      <th>1598</th>\n",
       "      <td>f0b78d1a04244153390d345e0295b9c5</td>\n",
       "      <td>True</td>\n",
       "      <td>0</td>\n",
       "      <td>4</td>\n",
       "      <td>1497</td>\n",
       "      <td>0.0</td>\n",
       "    </tr>\n",
       "    <tr>\n",
       "      <th>1599</th>\n",
       "      <td>eb9c9e0ade892983555b9e5ac4d7350f</td>\n",
       "      <td>True</td>\n",
       "      <td>3</td>\n",
       "      <td>4</td>\n",
       "      <td>1498</td>\n",
       "      <td>0.6</td>\n",
       "    </tr>\n",
       "    <tr>\n",
       "      <th>1600</th>\n",
       "      <td>41208bf93df8da40386ac6aaac7f62a1</td>\n",
       "      <td>True</td>\n",
       "      <td>1</td>\n",
       "      <td>4</td>\n",
       "      <td>1330</td>\n",
       "      <td>0.2</td>\n",
       "    </tr>\n",
       "    <tr>\n",
       "      <th>1601</th>\n",
       "      <td>253d4adc044fb40ac0006e21c9f4bf0a</td>\n",
       "      <td>True</td>\n",
       "      <td>0</td>\n",
       "      <td>4</td>\n",
       "      <td>1499</td>\n",
       "      <td>0.0</td>\n",
       "    </tr>\n",
       "    <tr>\n",
       "      <th>1602</th>\n",
       "      <td>d6bbdec866ca2d36742dd3128b3f275d</td>\n",
       "      <td>True</td>\n",
       "      <td>4</td>\n",
       "      <td>4</td>\n",
       "      <td>1500</td>\n",
       "      <td>0.8</td>\n",
       "    </tr>\n",
       "    <tr>\n",
       "      <th>...</th>\n",
       "      <td>...</td>\n",
       "      <td>...</td>\n",
       "      <td>...</td>\n",
       "      <td>...</td>\n",
       "      <td>...</td>\n",
       "      <td>...</td>\n",
       "    </tr>\n",
       "    <tr>\n",
       "      <th>1781</th>\n",
       "      <td>9b0d977104d1e21b2ed40c62987b0b26</td>\n",
       "      <td>True</td>\n",
       "      <td>4</td>\n",
       "      <td>4</td>\n",
       "      <td>1630</td>\n",
       "      <td>0.8</td>\n",
       "    </tr>\n",
       "    <tr>\n",
       "      <th>1782</th>\n",
       "      <td>2ad239102e4f8272c5bf2a5da8980809</td>\n",
       "      <td>True</td>\n",
       "      <td>4</td>\n",
       "      <td>4</td>\n",
       "      <td>996</td>\n",
       "      <td>0.8</td>\n",
       "    </tr>\n",
       "    <tr>\n",
       "      <th>1783</th>\n",
       "      <td>f8c7780b9b901efdcf8da98abd6f7c7d</td>\n",
       "      <td>True</td>\n",
       "      <td>5</td>\n",
       "      <td>4</td>\n",
       "      <td>1631</td>\n",
       "      <td>1.0</td>\n",
       "    </tr>\n",
       "    <tr>\n",
       "      <th>1784</th>\n",
       "      <td>34e675619eb8a75638fe7ac5e1b26292</td>\n",
       "      <td>True</td>\n",
       "      <td>3</td>\n",
       "      <td>4</td>\n",
       "      <td>1632</td>\n",
       "      <td>0.6</td>\n",
       "    </tr>\n",
       "    <tr>\n",
       "      <th>1785</th>\n",
       "      <td>2ae12025c48f545ad4b27357b6bb3249</td>\n",
       "      <td>True</td>\n",
       "      <td>3</td>\n",
       "      <td>4</td>\n",
       "      <td>1633</td>\n",
       "      <td>0.6</td>\n",
       "    </tr>\n",
       "  </tbody>\n",
       "</table>\n",
       "<p>182 rows × 6 columns</p>\n",
       "</div>"
      ],
      "text/plain": [
       "                             review_id  is_read  rating  user_id  book_id  \\\n",
       "1598  f0b78d1a04244153390d345e0295b9c5     True       0        4     1497   \n",
       "1599  eb9c9e0ade892983555b9e5ac4d7350f     True       3        4     1498   \n",
       "1600  41208bf93df8da40386ac6aaac7f62a1     True       1        4     1330   \n",
       "1601  253d4adc044fb40ac0006e21c9f4bf0a     True       0        4     1499   \n",
       "1602  d6bbdec866ca2d36742dd3128b3f275d     True       4        4     1500   \n",
       "...                                ...      ...     ...      ...      ...   \n",
       "1781  9b0d977104d1e21b2ed40c62987b0b26     True       4        4     1630   \n",
       "1782  2ad239102e4f8272c5bf2a5da8980809     True       4        4      996   \n",
       "1783  f8c7780b9b901efdcf8da98abd6f7c7d     True       5        4     1631   \n",
       "1784  34e675619eb8a75638fe7ac5e1b26292     True       3        4     1632   \n",
       "1785  2ae12025c48f545ad4b27357b6bb3249     True       3        4     1633   \n",
       "\n",
       "      rating_normalized  \n",
       "1598                0.0  \n",
       "1599                0.6  \n",
       "1600                0.2  \n",
       "1601                0.0  \n",
       "1602                0.8  \n",
       "...                 ...  \n",
       "1781                0.8  \n",
       "1782                0.8  \n",
       "1783                1.0  \n",
       "1784                0.6  \n",
       "1785                0.6  \n",
       "\n",
       "[182 rows x 6 columns]"
      ]
     },
     "execution_count": 12,
     "metadata": {},
     "output_type": "execute_result"
    }
   ],
   "source": [
    "interactions[interactions['user_id']==4]"
   ]
  }
 ],
 "metadata": {
  "kernelspec": {
   "display_name": "goodreads",
   "language": "python",
   "name": "python3"
  },
  "language_info": {
   "codemirror_mode": {
    "name": "ipython",
    "version": 3
   },
   "file_extension": ".py",
   "mimetype": "text/x-python",
   "name": "python",
   "nbconvert_exporter": "python",
   "pygments_lexer": "ipython3",
   "version": "3.12.3"
  }
 },
 "nbformat": 4,
 "nbformat_minor": 2
}
