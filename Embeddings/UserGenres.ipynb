{
 "cells": [
  {
   "cell_type": "code",
   "execution_count": 1,
   "metadata": {},
   "outputs": [],
   "source": [
    "import pandas as pd\n",
    "from tqdm import tqdm\n",
    "tqdm.pandas()"
   ]
  },
  {
   "cell_type": "code",
   "execution_count": 2,
   "metadata": {},
   "outputs": [],
   "source": [
    "books = pd.read_pickle('Pickle/books.pkl')\n",
    "read = pd.read_pickle('Pickle/read.pkl')"
   ]
  },
  {
   "cell_type": "code",
   "execution_count": 3,
   "metadata": {},
   "outputs": [
    {
     "name": "stderr",
     "output_type": "stream",
     "text": [
      "Processing Chunks: 100%|██████████| 4573/4573 [11:08<00:00,  6.84it/s]\n"
     ]
    }
   ],
   "source": [
    "books['filtered_genres'] = books['filtered_genres'].apply(lambda x: x.split(', '))\n",
    "book_genre_mapping = dict(zip(books['book_id'], books['filtered_genres']))\n",
    "chunk_size = 50000\n",
    "results = []\n",
    "for start in tqdm(range(0, len(read), chunk_size), desc=\"Processing Chunks\"):\n",
    "    end = min(start + chunk_size, len(read))\n",
    "    chunk = read.iloc[start:end].copy()\n",
    "    chunk['filtered_genres'] = chunk['book_id'].map(book_genre_mapping)\n",
    "    results.append(chunk)\n",
    "\n",
    "read_with_genres = pd.concat(results, ignore_index=True)"
   ]
  },
  {
   "cell_type": "code",
   "execution_count": null,
   "metadata": {},
   "outputs": [],
   "source": [
    "# Define the number of top genres\n",
    "n = 4\n",
    "\n",
    "def most_common_genres(books_read, n):\n",
    "    genres = []\n",
    "    for genres_list in books_read:\n",
    "        if isinstance(genres_list, list):  \n",
    "            genres.extend(genres_list)\n",
    "    genre_counts = pd.Series(genres).value_counts().index.tolist()[:n]\n",
    "    return genre_counts"
   ]
  },
  {
   "cell_type": "code",
   "execution_count": null,
   "metadata": {},
   "outputs": [],
   "source": [
    "# Function to process a batch of user genres\n",
    "def process_batch(df_batch, n):\n",
    "    return df_batch.groupby('user_id')['filtered_genres'].apply(lambda x: most_common_genres(x, n)).reset_index()\n",
    "\n",
    "from collections import defaultdict\n",
    "batch_size = 5000\n",
    "\n",
    "user_genres_dict = defaultdict(list)"
   ]
  },
  {
   "cell_type": "code",
   "execution_count": null,
   "metadata": {},
   "outputs": [
    {
     "name": "stderr",
     "output_type": "stream",
     "text": [
      "Processing in Batches: 100%|██████████| 45730/45730 [07:33<00:00, 100.93it/s]\n"
     ]
    }
   ],
   "source": [
    "# Process data in batches\n",
    "for start in tqdm(range(0, len(read_with_genres), batch_size), desc=\"Processing in Batches\"):\n",
    "    end = min(start + batch_size, len(read_with_genres))\n",
    "    df_batch = read_with_genres.iloc[start:end].copy()  \n",
    "    df_batch.loc[:, 'filtered_genres'] = df_batch['filtered_genres'].apply(lambda x: x if isinstance(x, list) else [])\n",
    "    batch_result = process_batch(df_batch, n)\n",
    "    for _, row in batch_result.iterrows():\n",
    "        user_genres_dict[row['user_id']].extend(row['filtered_genres'])"
   ]
  },
  {
   "cell_type": "code",
   "execution_count": null,
   "metadata": {},
   "outputs": [],
   "source": [
    "for user_id in user_genres_dict:\n",
    "    user_genres_dict[user_id] = pd.Series(user_genres_dict[user_id]).value_counts().index.tolist()[:n]"
   ]
  },
  {
   "cell_type": "code",
   "execution_count": null,
   "metadata": {},
   "outputs": [],
   "source": [
    "user_most_common_genres = pd.DataFrame(list(user_genres_dict.items()), columns=['user_id', 'most_common_genres'])\n",
    "user_most_common_genres.set_index('user_id', inplace=True)"
   ]
  },
  {
   "cell_type": "code",
   "execution_count": 9,
   "metadata": {},
   "outputs": [],
   "source": [
    "user_most_common_genres.to_pickle('Pickle/user_most_common_genres.pkl')"
   ]
  }
 ],
 "metadata": {
  "kernelspec": {
   "display_name": "goodreads",
   "language": "python",
   "name": "python3"
  },
  "language_info": {
   "codemirror_mode": {
    "name": "ipython",
    "version": 3
   },
   "file_extension": ".py",
   "mimetype": "text/x-python",
   "name": "python",
   "nbconvert_exporter": "python",
   "pygments_lexer": "ipython3",
   "version": "3.12.3"
  }
 },
 "nbformat": 4,
 "nbformat_minor": 2
}
