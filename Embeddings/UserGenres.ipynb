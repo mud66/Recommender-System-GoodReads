{
 "cells": [
  {
   "cell_type": "code",
   "execution_count": null,
   "metadata": {},
   "outputs": [],
   "source": [
    "import pandas as pd\n",
    "from tqdm import tqdm\n",
    "tqdm.pandas()\n",
    "from collections import defaultdict"
   ]
  },
  {
   "cell_type": "code",
   "execution_count": 2,
   "metadata": {},
   "outputs": [],
   "source": [
    "books = pd.read_pickle('Pickle/books.pkl')\n",
    "read = pd.read_pickle('Pickle/read.pkl')"
   ]
  },
  {
   "cell_type": "code",
   "execution_count": null,
   "metadata": {},
   "outputs": [
    {
     "name": "stderr",
     "output_type": "stream",
     "text": [
      "Processing Chunks: 100%|██████████| 4573/4573 [11:08<00:00,  6.84it/s]\n"
     ]
    }
   ],
   "source": [
    "books['filtered_genres'] = books['filtered_genres'].apply(lambda x: x.split(', '))\n",
    "\n",
    "# Create a mapping from book_id to filtered genres\n",
    "book_genre_mapping = dict(zip(books['book_id'], books['filtered_genres']))\n",
    "\n",
    "chunk_size = 50000  # Define the chunk size for processing the data in parts\n",
    "results = []\n",
    "\n",
    "# Process the data in chunks to avoid memory issues with large datasets\n",
    "for start in tqdm(range(0, len(read), chunk_size), desc=\"Processing Chunks\"):\n",
    "    end = min(start + chunk_size, len(read))  # Determine the end of the current chunk\n",
    "    chunk = read.iloc[start:end].copy()  # Select the current chunk of data\n",
    "    # Map the book_id to its corresponding filtered genres from the book_genre_mapping\n",
    "    chunk['filtered_genres'] = chunk['book_id'].map(book_genre_mapping)\n",
    "    results.append(chunk)  # Add the chunk with the genres to the results list\n",
    "\n",
    "# Concatenate the results into a single DataFrame\n",
    "read_with_genres = pd.concat(results, ignore_index=True)\n"
   ]
  },
  {
   "cell_type": "code",
   "execution_count": null,
   "metadata": {},
   "outputs": [],
   "source": [
    "n = 4\n",
    "\n",
    "def most_common_genres(books_read, n):\n",
    "    \"\"\"\n",
    "    Returns the most common genres from a list of books read.\n",
    "\n",
    "    Args:\n",
    "        books_read (list of lists): A list of lists where each inner list contains genres of a book that the user has read.\n",
    "        n (int): The number of top genres to return.\n",
    "\n",
    "    Returns:\n",
    "        list: A list of the top 'n' most common genres from the user's books read.\n",
    "    \"\"\"\n",
    "    genres = []\n",
    "    # Iterate through each list of genres from books read\n",
    "    for genres_list in books_read:\n",
    "        if isinstance(genres_list, list):  # Ensure the genres list is a valid list\n",
    "            genres.extend(genres_list)  # Add genres to the genres list\n",
    "    # Get the 'n' most common genres\n",
    "    genre_counts = pd.Series(genres).value_counts().index.tolist()[:n]\n",
    "    return genre_counts\n"
   ]
  },
  {
   "cell_type": "code",
   "execution_count": null,
   "metadata": {},
   "outputs": [],
   "source": [
    "def process_batch(df_batch, n):\n",
    "    \"\"\"\n",
    "    Processes a batch of data to determine the most common genres for each user.\n",
    "\n",
    "    Args:\n",
    "        df_batch (DataFrame): A batch of the main dataset containing at least 'user_id' and 'filtered_genres' columns.\n",
    "        n (int): The number of top genres to return for each user.\n",
    "\n",
    "    Returns:\n",
    "        DataFrame: A new DataFrame with each user_id and their top 'n' most common genres.\n",
    "    \"\"\"\n",
    "    return df_batch.groupby('user_id')['filtered_genres'].apply(lambda x: most_common_genres(x, n)).reset_index()\n",
    "\n",
    "batch_size = 5000\n",
    "\n",
    "user_genres_dict = defaultdict(list)"
   ]
  },
  {
   "cell_type": "code",
   "execution_count": null,
   "metadata": {},
   "outputs": [
    {
     "name": "stderr",
     "output_type": "stream",
     "text": [
      "Processing in Batches: 100%|██████████| 45730/45730 [07:33<00:00, 100.93it/s]\n"
     ]
    }
   ],
   "source": [
    "# Initialize a dictionary to hold the genres for each user\n",
    "user_genres_dict = defaultdict(list)\n",
    "\n",
    "# Process the dataset in batches\n",
    "for start in tqdm(range(0, len(read_with_genres), batch_size), desc=\"Processing in Batches\"):\n",
    "    end = min(start + batch_size, len(read_with_genres))\n",
    "    df_batch = read_with_genres.iloc[start:end].copy()  \n",
    "    \n",
    "    # Ensure 'filtered_genres' is a list (in case it's not)\n",
    "    df_batch.loc[:, 'filtered_genres'] = df_batch['filtered_genres'].apply(lambda x: x if isinstance(x, list) else [])\n",
    "    \n",
    "    # Process the batch to find the most common genres for each user\n",
    "    batch_result = process_batch(df_batch, n)\n",
    "    \n",
    "    # Update the user_genres_dict with the genres from the current batch\n",
    "    for _, row in batch_result.iterrows():\n",
    "        user_genres_dict[row['user_id']].extend(row['filtered_genres'])\n"
   ]
  },
  {
   "cell_type": "code",
   "execution_count": null,
   "metadata": {},
   "outputs": [],
   "source": [
    "for user_id in user_genres_dict:\n",
    "    user_genres_dict[user_id] = pd.Series(user_genres_dict[user_id]).value_counts().index.tolist()[:n]"
   ]
  },
  {
   "cell_type": "code",
   "execution_count": null,
   "metadata": {},
   "outputs": [],
   "source": [
    "user_most_common_genres = pd.DataFrame(list(user_genres_dict.items()), columns=['user_id', 'most_common_genres'])\n",
    "user_most_common_genres.set_index('user_id', inplace=True)"
   ]
  },
  {
   "cell_type": "code",
   "execution_count": 9,
   "metadata": {},
   "outputs": [],
   "source": [
    "user_most_common_genres.to_pickle('Pickle/user_most_common_genres.pkl')"
   ]
  }
 ],
 "metadata": {
  "kernelspec": {
   "display_name": "goodreads",
   "language": "python",
   "name": "python3"
  },
  "language_info": {
   "codemirror_mode": {
    "name": "ipython",
    "version": 3
   },
   "file_extension": ".py",
   "mimetype": "text/x-python",
   "name": "python",
   "nbconvert_exporter": "python",
   "pygments_lexer": "ipython3",
   "version": "3.12.3"
  }
 },
 "nbformat": 4,
 "nbformat_minor": 2
}
