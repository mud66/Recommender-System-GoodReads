{
 "cells": [
  {
   "cell_type": "code",
   "execution_count": 23,
   "metadata": {},
   "outputs": [
    {
     "name": "stderr",
     "output_type": "stream",
     "text": [
      "[nltk_data] Downloading package stopwords to\n",
      "[nltk_data]     C:\\Users\\maddy\\AppData\\Roaming\\nltk_data...\n",
      "[nltk_data]   Package stopwords is already up-to-date!\n"
     ]
    }
   ],
   "source": [
    "import pandas as pd\n",
    "from sklearn.feature_extraction.text import CountVectorizer\n",
    "from nltk.corpus import stopwords\n",
    "import re\n",
    "import nltk\n",
    "from tqdm import tqdm\n",
    "tqdm.pandas()\n",
    "from sklearn.feature_extraction.text import CountVectorizer\n",
    "from sklearn.decomposition import LatentDirichletAllocation\n",
    "nltk.download('stopwords')\n",
    "from gensim.corpora.dictionary import Dictionary\n",
    "from gensim.models import CoherenceModel\n",
    "import numpy as np"
   ]
  },
  {
   "cell_type": "code",
   "execution_count": 24,
   "metadata": {},
   "outputs": [],
   "source": [
    "reviews = pd.read_pickle('Pickle/reviews.pkl')"
   ]
  },
  {
   "cell_type": "code",
   "execution_count": 25,
   "metadata": {},
   "outputs": [],
   "source": [
    "stop_words = set(stopwords.words('english'))\n",
    "\n",
    "# Preprocess reviews\n",
    "def preprocess(text):\n",
    "    text = re.sub(r'\\s+', ' ', text)  # Remove extra spaces\n",
    "    text = re.sub(r'\\d+', '', text)   # Remove digits\n",
    "    text = text.lower()               # Convert to lowercase\n",
    "    words = text.split()\n",
    "    words = [word for word in words if word not in stop_words]  # Remove stopwords\n",
    "    return ' '.join(words)"
   ]
  },
  {
   "cell_type": "code",
   "execution_count": 26,
   "metadata": {},
   "outputs": [
    {
     "name": "stderr",
     "output_type": "stream",
     "text": [
      "100%|██████████| 1000000/1000000 [00:52<00:00, 19079.16it/s]\n"
     ]
    }
   ],
   "source": [
    "reviews['cleaned_reviews'] = reviews['review_text'].progress_apply(preprocess)"
   ]
  },
  {
   "cell_type": "code",
   "execution_count": 27,
   "metadata": {},
   "outputs": [
    {
     "name": "stderr",
     "output_type": "stream",
     "text": [
      "Vectorizing Reviews: 100%|██████████| 1000000/1000000 [00:00<00:00, 1311198.18it/s]\n"
     ]
    }
   ],
   "source": [
    "# Define a custom function to fit_transform with progress bar\n",
    "def fit_transform_with_progress(vectorizer, data):\n",
    "    tqdm.pandas(desc=\"Vectorizing Reviews\")\n",
    "    return vectorizer.fit_transform(data.progress_apply(lambda x: x))\n",
    "\n",
    "# Vectorize the reviews\n",
    "vectorizer = CountVectorizer(max_df=0.9, min_df=2, stop_words='english')\n",
    "review_vectors = fit_transform_with_progress(vectorizer, reviews['cleaned_reviews'])\n"
   ]
  },
  {
   "cell_type": "code",
   "execution_count": null,
   "metadata": {},
   "outputs": [
    {
     "name": "stderr",
     "output_type": "stream",
     "text": [
      "Vectorizing Reviews:  24%|██▍       | 239236/1000000 [00:01<00:04, 177823.56it/s]"
     ]
    }
   ],
   "source": [
    "# Tokenize reviews\n",
    "tokenized_reviews = reviews['cleaned_reviews'].progress_apply(lambda x: x.split())"
   ]
  },
  {
   "cell_type": "code",
   "execution_count": null,
   "metadata": {},
   "outputs": [],
   "source": [
    "dictionary = Dictionary(tqdm(tokenized_reviews, desc=\"Processing Tokens\"))"
   ]
  },
  {
   "cell_type": "code",
   "execution_count": null,
   "metadata": {},
   "outputs": [],
   "source": [
    "corpus = [dictionary.doc2bow(text) for text in tqdm(tokenized_reviews, desc=\"Processing Corpus\")]"
   ]
  },
  {
   "cell_type": "code",
   "execution_count": null,
   "metadata": {},
   "outputs": [],
   "source": [
    "# Function to fit LDA and compute coherence score with 50 topics\n",
    "def compute_coherence_for_50_topics(corpus, dictionary):\n",
    "    k = 50  # Fixed number of topics\n",
    "    lda_model = LatentDirichletAllocation(n_components=k, random_state=42)\n",
    "    \n",
    "    # Fitting the LDA model\n",
    "    lda_model.fit(review_vectors)\n",
    "    \n",
    "    # Computing coherence score\n",
    "    coherence_model_lda = CoherenceModel(model=lda_model, texts=tokenized_reviews, dictionary=dictionary, coherence='c_v')\n",
    "    coherence_score = coherence_model_lda.get_coherence()\n",
    "    return lda_model, coherence_score"
   ]
  },
  {
   "cell_type": "code",
   "execution_count": null,
   "metadata": {},
   "outputs": [],
   "source": [
    "# Compute LDA and coherence score with 50 topics\n",
    "lda_model, coherence_score = compute_coherence_for_50_topics(corpus=corpus, dictionary=dictionary)\n",
    "\n",
    "print(f\"Coherence Score for 50 Topics: {coherence_score}\")"
   ]
  },
  {
   "cell_type": "code",
   "execution_count": null,
   "metadata": {},
   "outputs": [],
   "source": [
    "# Get the topic distribution for each review\n",
    "topic_distributions = lda_model.transform(review_vectors)\n",
    "reviews['topic_distribution'] = list(topic_distributions)\n",
    "print(\"Topic Distributions:\")\n",
    "print(topic_distributions)\n"
   ]
  }
 ],
 "metadata": {
  "kernelspec": {
   "display_name": "goodreads",
   "language": "python",
   "name": "python3"
  },
  "language_info": {
   "codemirror_mode": {
    "name": "ipython",
    "version": 3
   },
   "file_extension": ".py",
   "mimetype": "text/x-python",
   "name": "python",
   "nbconvert_exporter": "python",
   "pygments_lexer": "ipython3",
   "version": "3.12.3"
  }
 },
 "nbformat": 4,
 "nbformat_minor": 2
}
