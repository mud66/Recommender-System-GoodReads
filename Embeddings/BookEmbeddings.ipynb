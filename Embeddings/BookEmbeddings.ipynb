{
 "cells": [
  {
   "cell_type": "code",
   "execution_count": 17,
   "metadata": {},
   "outputs": [],
   "source": [
    "import pandas as pd\n",
    "import os\n",
    "from tqdm import tqdm\n",
    "from sentence_transformers import SentenceTransformer\n",
    "\n",
    "books = pd.read_pickle('Pickle/books.pkl')"
   ]
  },
  {
   "cell_type": "code",
   "execution_count": 7,
   "metadata": {},
   "outputs": [
    {
     "data": {
      "text/plain": [
       "363312"
      ]
     },
     "execution_count": 7,
     "metadata": {},
     "output_type": "execute_result"
    }
   ],
   "source": [
    "len(books)"
   ]
  },
  {
   "cell_type": "code",
   "execution_count": 3,
   "metadata": {},
   "outputs": [],
   "source": [
    "books['combined_features'] = books.apply(\n",
    "    lambda row: f\"{row['title']} by {row['authors']}, \" +\n",
    "                f\"Description: {row['description']}, \" +\n",
    "                f\"Shelves: {row['expanded_shelves']}\" +\n",
    "                f\"Genres: {row['filtered_genres']}\",\n",
    "    axis=1\n",
    ")"
   ]
  },
  {
   "cell_type": "code",
   "execution_count": 4,
   "metadata": {},
   "outputs": [
    {
     "data": {
      "text/html": [
       "<div>\n",
       "<style scoped>\n",
       "    .dataframe tbody tr th:only-of-type {\n",
       "        vertical-align: middle;\n",
       "    }\n",
       "\n",
       "    .dataframe tbody tr th {\n",
       "        vertical-align: top;\n",
       "    }\n",
       "\n",
       "    .dataframe thead th {\n",
       "        text-align: right;\n",
       "    }\n",
       "</style>\n",
       "<table border=\"1\" class=\"dataframe\">\n",
       "  <thead>\n",
       "    <tr style=\"text-align: right;\">\n",
       "      <th></th>\n",
       "      <th>description</th>\n",
       "      <th>authors</th>\n",
       "      <th>book_id</th>\n",
       "      <th>title</th>\n",
       "      <th>url</th>\n",
       "      <th>average_rating</th>\n",
       "      <th>expanded_shelves</th>\n",
       "      <th>filtered_genres</th>\n",
       "      <th>combined_features</th>\n",
       "    </tr>\n",
       "  </thead>\n",
       "  <tbody>\n",
       "    <tr>\n",
       "      <th>0</th>\n",
       "      <td>The war against Voldemort is not going well: e...</td>\n",
       "      <td>[J.K. Rowling, Mary GrandPre]</td>\n",
       "      <td>1</td>\n",
       "      <td>Harry Potter and the Half-Blood Prince (Harry ...</td>\n",
       "      <td>https://www.goodreads.com/book/show/1.Harry_Po...</td>\n",
       "      <td>4.54</td>\n",
       "      <td>fantasy fantasy fantasy fantasy fantasy fantas...</td>\n",
       "      <td>fantasy, paranormal, young-adult, fiction, chi...</td>\n",
       "      <td>Harry Potter and the Half-Blood Prince (Harry ...</td>\n",
       "    </tr>\n",
       "  </tbody>\n",
       "</table>\n",
       "</div>"
      ],
      "text/plain": [
       "                                         description  \\\n",
       "0  The war against Voldemort is not going well: e...   \n",
       "\n",
       "                         authors  book_id  \\\n",
       "0  [J.K. Rowling, Mary GrandPre]        1   \n",
       "\n",
       "                                               title  \\\n",
       "0  Harry Potter and the Half-Blood Prince (Harry ...   \n",
       "\n",
       "                                                 url average_rating  \\\n",
       "0  https://www.goodreads.com/book/show/1.Harry_Po...           4.54   \n",
       "\n",
       "                                    expanded_shelves  \\\n",
       "0  fantasy fantasy fantasy fantasy fantasy fantas...   \n",
       "\n",
       "                                     filtered_genres  \\\n",
       "0  fantasy, paranormal, young-adult, fiction, chi...   \n",
       "\n",
       "                                   combined_features  \n",
       "0  Harry Potter and the Half-Blood Prince (Harry ...  "
      ]
     },
     "execution_count": 4,
     "metadata": {},
     "output_type": "execute_result"
    }
   ],
   "source": [
    "books.head(1)"
   ]
  },
  {
   "cell_type": "code",
   "execution_count": 5,
   "metadata": {},
   "outputs": [],
   "source": [
    "books = books.reset_index(drop=True)"
   ]
  },
  {
   "cell_type": "code",
   "execution_count": 8,
   "metadata": {},
   "outputs": [
    {
     "name": "stderr",
     "output_type": "stream",
     "text": [
      "c:\\Users\\maddy\\anaconda3\\envs\\goodreads\\Lib\\site-packages\\transformers\\tokenization_utils_base.py:1601: FutureWarning: `clean_up_tokenization_spaces` was not set. It will be set to `True` by default. This behavior will be depracted in transformers v4.45, and will be then set to `False` by default. For more details check this issue: https://github.com/huggingface/transformers/issues/31884\n",
      "  warnings.warn(\n"
     ]
    }
   ],
   "source": [
    "# Initialize your model\n",
    "model = SentenceTransformer('all-MiniLM-L6-v2')\n",
    "\n",
    "def save_embeddings_incrementally(books_df, model, interval=100):\n",
    "    embeddings_file = 'Pickle/embeddings.pkl'\n",
    "    \n",
    "    # Load existing embeddings if they exist\n",
    "    if os.path.exists(embeddings_file):\n",
    "        embeddings_df = pd.read_pickle(embeddings_file)\n",
    "    else:\n",
    "        embeddings_df = pd.DataFrame(columns=['index', 'book_id', 'embeddings'])\n",
    "    \n",
    "    # Ensure combined_features are non-null\n",
    "    books_df = books_df.dropna(subset=['combined_features']).reset_index(drop=True)\n",
    "\n",
    "    new_embeddings = []\n",
    "\n",
    "    for i in tqdm(range(len(books_df)), desc=\"Generating embeddings\"):\n",
    "        if i in embeddings_df['index'].values:\n",
    "            continue  # Skip if already processed\n",
    "        \n",
    "        embedding = model.encode(books_df.at[i, 'combined_features'])\n",
    "        new_row = {'index': i, 'book_id': books_df.at[i, 'book_id'], 'embeddings': embedding}\n",
    "        new_embeddings.append(new_row)\n",
    "        \n",
    "        # Save periodically\n",
    "        if len(new_embeddings) % interval == 0:\n",
    "            new_embeddings_df = pd.DataFrame(new_embeddings)\n",
    "            embeddings_df = pd.concat([embeddings_df, new_embeddings_df], ignore_index=True)\n",
    "            embeddings_df.to_pickle(embeddings_file)\n",
    "            new_embeddings = []  # Reset the list\n",
    "    \n",
    "    # Save any remaining new embeddings\n",
    "    if new_embeddings:\n",
    "        new_embeddings_df = pd.DataFrame(new_embeddings)\n",
    "        embeddings_df = pd.concat([embeddings_df, new_embeddings_df], ignore_index=True)\n",
    "        embeddings_df.to_pickle(embeddings_file)\n",
    "\n",
    "    print(f\"Embeddings saved to {embeddings_file} successfully!\")\n"
   ]
  },
  {
   "cell_type": "code",
   "execution_count": 9,
   "metadata": {},
   "outputs": [
    {
     "name": "stderr",
     "output_type": "stream",
     "text": [
      "Generating embeddings: 100%|██████████| 363312/363312 [7:44:08<00:00, 13.05it/s]    \n"
     ]
    },
    {
     "name": "stdout",
     "output_type": "stream",
     "text": [
      "Embeddings saved to Pickle/embeddings.pkl successfully!\n"
     ]
    }
   ],
   "source": [
    "save_embeddings_incrementally(books, model, interval=100)"
   ]
  },
  {
   "cell_type": "code",
   "execution_count": 18,
   "metadata": {},
   "outputs": [],
   "source": [
    "embeddings_df = pd.read_pickle('Pickle/embeddings.pkl')"
   ]
  },
  {
   "cell_type": "code",
   "execution_count": 19,
   "metadata": {},
   "outputs": [
    {
     "data": {
      "text/html": [
       "<div>\n",
       "<style scoped>\n",
       "    .dataframe tbody tr th:only-of-type {\n",
       "        vertical-align: middle;\n",
       "    }\n",
       "\n",
       "    .dataframe tbody tr th {\n",
       "        vertical-align: top;\n",
       "    }\n",
       "\n",
       "    .dataframe thead th {\n",
       "        text-align: right;\n",
       "    }\n",
       "</style>\n",
       "<table border=\"1\" class=\"dataframe\">\n",
       "  <thead>\n",
       "    <tr style=\"text-align: right;\">\n",
       "      <th></th>\n",
       "      <th>index</th>\n",
       "      <th>book_id</th>\n",
       "      <th>embeddings</th>\n",
       "    </tr>\n",
       "  </thead>\n",
       "  <tbody>\n",
       "    <tr>\n",
       "      <th>0</th>\n",
       "      <td>0</td>\n",
       "      <td>1</td>\n",
       "      <td>[-0.07355614, -0.0043452834, 0.07326843, 0.010...</td>\n",
       "    </tr>\n",
       "    <tr>\n",
       "      <th>1</th>\n",
       "      <td>1</td>\n",
       "      <td>27</td>\n",
       "      <td>[0.075617716, 0.049203802, -0.08219313, 0.0366...</td>\n",
       "    </tr>\n",
       "    <tr>\n",
       "      <th>2</th>\n",
       "      <td>2</td>\n",
       "      <td>40</td>\n",
       "      <td>[0.012406698, -0.08666229, -0.041537926, 0.068...</td>\n",
       "    </tr>\n",
       "    <tr>\n",
       "      <th>3</th>\n",
       "      <td>3</td>\n",
       "      <td>45</td>\n",
       "      <td>[0.014417239, -0.079731256, -0.09433866, 0.043...</td>\n",
       "    </tr>\n",
       "    <tr>\n",
       "      <th>4</th>\n",
       "      <td>4</td>\n",
       "      <td>55</td>\n",
       "      <td>[-0.03516266, -0.032557048, -0.055147123, 0.00...</td>\n",
       "    </tr>\n",
       "    <tr>\n",
       "      <th>...</th>\n",
       "      <td>...</td>\n",
       "      <td>...</td>\n",
       "      <td>...</td>\n",
       "    </tr>\n",
       "    <tr>\n",
       "      <th>363307</th>\n",
       "      <td>363307</td>\n",
       "      <td>36491811</td>\n",
       "      <td>[-0.14316943, -0.08205301, 0.11537935, 0.06771...</td>\n",
       "    </tr>\n",
       "    <tr>\n",
       "      <th>363308</th>\n",
       "      <td>363308</td>\n",
       "      <td>36492517</td>\n",
       "      <td>[0.050777636, 0.025664873, -0.10936141, -0.048...</td>\n",
       "    </tr>\n",
       "    <tr>\n",
       "      <th>363309</th>\n",
       "      <td>363309</td>\n",
       "      <td>36494299</td>\n",
       "      <td>[0.048107177, -0.05759811, 0.048301693, -0.030...</td>\n",
       "    </tr>\n",
       "    <tr>\n",
       "      <th>363310</th>\n",
       "      <td>363310</td>\n",
       "      <td>36500225</td>\n",
       "      <td>[-0.025685279, -0.026440945, 0.04243302, -0.00...</td>\n",
       "    </tr>\n",
       "    <tr>\n",
       "      <th>363311</th>\n",
       "      <td>363311</td>\n",
       "      <td>36513779</td>\n",
       "      <td>[-0.021698957, -0.0070932475, 0.016481718, 0.0...</td>\n",
       "    </tr>\n",
       "  </tbody>\n",
       "</table>\n",
       "<p>363312 rows × 3 columns</p>\n",
       "</div>"
      ],
      "text/plain": [
       "         index   book_id                                         embeddings\n",
       "0            0         1  [-0.07355614, -0.0043452834, 0.07326843, 0.010...\n",
       "1            1        27  [0.075617716, 0.049203802, -0.08219313, 0.0366...\n",
       "2            2        40  [0.012406698, -0.08666229, -0.041537926, 0.068...\n",
       "3            3        45  [0.014417239, -0.079731256, -0.09433866, 0.043...\n",
       "4            4        55  [-0.03516266, -0.032557048, -0.055147123, 0.00...\n",
       "...        ...       ...                                                ...\n",
       "363307  363307  36491811  [-0.14316943, -0.08205301, 0.11537935, 0.06771...\n",
       "363308  363308  36492517  [0.050777636, 0.025664873, -0.10936141, -0.048...\n",
       "363309  363309  36494299  [0.048107177, -0.05759811, 0.048301693, -0.030...\n",
       "363310  363310  36500225  [-0.025685279, -0.026440945, 0.04243302, -0.00...\n",
       "363311  363311  36513779  [-0.021698957, -0.0070932475, 0.016481718, 0.0...\n",
       "\n",
       "[363312 rows x 3 columns]"
      ]
     },
     "execution_count": 19,
     "metadata": {},
     "output_type": "execute_result"
    }
   ],
   "source": [
    "embeddings_df"
   ]
  },
  {
   "cell_type": "code",
   "execution_count": 20,
   "metadata": {},
   "outputs": [],
   "source": [
    "embeddings_df=embeddings_df.drop(columns=['index'])"
   ]
  },
  {
   "cell_type": "code",
   "execution_count": 21,
   "metadata": {},
   "outputs": [
    {
     "name": "stderr",
     "output_type": "stream",
     "text": [
      "100%|██████████| 363312/363312 [00:01<00:00, 236186.85it/s]\n"
     ]
    }
   ],
   "source": [
    "tqdm.pandas()\n",
    "embeddings_df.set_index('book_id', inplace=True)\n",
    "\n",
    "def get_embedding(book_id):\n",
    "    try:\n",
    "        return embeddings_df.at[book_id, 'embeddings']\n",
    "    except KeyError:\n",
    "        return None\n",
    "\n",
    "books['embeddings'] = books['book_id'].progress_apply(get_embedding)\n"
   ]
  },
  {
   "cell_type": "code",
   "execution_count": 23,
   "metadata": {},
   "outputs": [],
   "source": [
    "books.to_pickle('Pickle/books.pkl')"
   ]
  }
 ],
 "metadata": {
  "kernelspec": {
   "display_name": "goodreads",
   "language": "python",
   "name": "python3"
  },
  "language_info": {
   "codemirror_mode": {
    "name": "ipython",
    "version": 3
   },
   "file_extension": ".py",
   "mimetype": "text/x-python",
   "name": "python",
   "nbconvert_exporter": "python",
   "pygments_lexer": "ipython3",
   "version": "3.12.3"
  }
 },
 "nbformat": 4,
 "nbformat_minor": 2
}
