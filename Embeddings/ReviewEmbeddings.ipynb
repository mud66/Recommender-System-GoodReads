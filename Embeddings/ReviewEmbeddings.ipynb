{
 "cells": [
  {
   "cell_type": "code",
   "execution_count": null,
   "metadata": {},
   "outputs": [],
   "source": [
    "import pandas as pd\n",
    "import os\n",
    "from tqdm import tqdm\n",
    "from sentence_transformers import SentenceTransformer\n",
    "tqdm.pandas()"
   ]
  },
  {
   "cell_type": "code",
   "execution_count": null,
   "metadata": {},
   "outputs": [],
   "source": [
    "reviews = pd.read_pickle('../Pickle/reviews.pkl')"
   ]
  },
  {
   "cell_type": "code",
   "execution_count": null,
   "metadata": {},
   "outputs": [],
   "source": [
    "model = SentenceTransformer('all-MiniLM-L6-v2')\n",
    "\n",
    "def save_embeddings_incrementally(reviews_df, model, interval=100):\n",
    "    \"\"\"\n",
    "    Computes and saves sentence embeddings for reviews incrementally. Embeddings are calculated for reviews \n",
    "    in the given DataFrame and stored in a pickle file.\n",
    "\n",
    "    If the embeddings file already exists, the function reads the existing embeddings and appends new ones.\n",
    "    The process is done in batches, and the embeddings are saved periodically based on the specified interval.\n",
    "\n",
    "    Parameters:\n",
    "    - reviews_df (pd.DataFrame): DataFrame containing the reviews with columns 'review_id' and 'review_text'.\n",
    "    - model (SentenceTransformer): A pre-trained SentenceTransformer model to encode the review texts.\n",
    "    - interval (int): The number of embeddings processed before saving to the file. Default is 100.\n",
    "\n",
    "    Returns:\n",
    "    - None: The function modifies the pickle file that stores the embeddings.\n",
    "    \"\"\"\n",
    "    embeddings_file = '../Pickle/review_embeddings.pkl'\n",
    "    \n",
    "    if os.path.exists(embeddings_file):\n",
    "        embeddings_df = pd.read_pickle(embeddings_file)\n",
    "    else:\n",
    "        embeddings_df = pd.DataFrame(columns=['index', 'review_id', 'embeddings'])\n",
    "    \n",
    "    reviews_df = reviews_df.dropna(subset=['review_text']).reset_index(drop=True)\n",
    "\n",
    "    new_embeddings = []\n",
    "\n",
    "    for i in tqdm(range(len(reviews_df)), desc=\"processing\"):\n",
    "        if i in embeddings_df['index'].values:\n",
    "            continue  \n",
    "        \n",
    "        embedding = model.encode(reviews_df.at[i, 'review_text'])\n",
    "        new_row = {'index': i, 'review_id': reviews_df.at[i, 'review_id'], 'embeddings': embedding}\n",
    "        new_embeddings.append(new_row)\n",
    "        \n",
    "        if len(new_embeddings) % interval == 0:\n",
    "            new_embeddings_df = pd.DataFrame(new_embeddings)\n",
    "            embeddings_df = pd.concat([embeddings_df, new_embeddings_df], ignore_index=True)\n",
    "            embeddings_df.to_pickle(embeddings_file)\n",
    "            new_embeddings = []\n",
    "    \n",
    "    if new_embeddings:\n",
    "        new_embeddings_df = pd.DataFrame(new_embeddings)\n",
    "        embeddings_df = pd.concat([embeddings_df, new_embeddings_df], ignore_index=True)\n",
    "        embeddings_df.to_pickle(embeddings_file)"
   ]
  },
  {
   "cell_type": "code",
   "execution_count": null,
   "metadata": {},
   "outputs": [],
   "source": [
    "save_embeddings_incrementally(reviews, model, interval=10000)"
   ]
  }
 ],
 "metadata": {
  "kernelspec": {
   "display_name": "goodreads",
   "language": "python",
   "name": "python3"
  },
  "language_info": {
   "codemirror_mode": {
    "name": "ipython",
    "version": 3
   },
   "file_extension": ".py",
   "mimetype": "text/x-python",
   "name": "python",
   "nbconvert_exporter": "python",
   "pygments_lexer": "ipython3",
   "version": "3.12.3"
  }
 },
 "nbformat": 4,
 "nbformat_minor": 2
}
