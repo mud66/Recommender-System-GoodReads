{
 "cells": [
  {
   "cell_type": "code",
   "execution_count": 2,
   "metadata": {},
   "outputs": [],
   "source": [
    "import pandas as pd\n",
    "import os\n",
    "DIR = 'Data'"
   ]
  },
  {
   "cell_type": "code",
   "execution_count": 3,
   "metadata": {},
   "outputs": [],
   "source": [
    "file_path = os.path.join(DIR, 'goodreads_interactions.csv')\n",
    "read = pd.read_csv(file_path)"
   ]
  },
  {
   "cell_type": "code",
   "execution_count": 3,
   "metadata": {},
   "outputs": [],
   "source": [
    "file_path = os.path.join(DIR, 'book_id_map.csv')\n",
    "book_map = pd.read_csv(file_path)"
   ]
  },
  {
   "cell_type": "code",
   "execution_count": 4,
   "metadata": {},
   "outputs": [],
   "source": [
    "file_path = os.path.join(DIR, 'goodreads_book_authors.json.gz')\n",
    "authors = pd.read_json(file_path, compression='gzip', lines=True)"
   ]
  },
  {
   "cell_type": "code",
   "execution_count": 5,
   "metadata": {},
   "outputs": [],
   "source": [
    "file_path = os.path.join(DIR, 'user_id_map.csv')\n",
    "user_map = pd.read_csv(file_path)"
   ]
  },
  {
   "cell_type": "code",
   "execution_count": 3,
   "metadata": {},
   "outputs": [],
   "source": [
    "file_path = os.path.join(DIR, 'goodreads_books.json.gz')\n",
    "\n",
    "chunk_size = 1000\n",
    "num_chunks = 400\n",
    "chunks = pd.read_json(file_path, lines=True, chunksize=chunk_size, compression='gzip')\n",
    "\n",
    "df_list = []\n",
    "\n",
    "for i, chunk in enumerate(chunks):\n",
    "    if i >= num_chunks:\n",
    "        break\n",
    "    df_list.append(chunk)\n",
    "\n",
    "books = pd.concat(df_list, ignore_index=True)"
   ]
  },
  {
   "cell_type": "code",
   "execution_count": 7,
   "metadata": {},
   "outputs": [],
   "source": [
    "file_path = os.path.join(DIR, 'goodreads_book_genres_initial.json.gz')\n",
    "\n",
    "chunk_size = 1000\n",
    "num_chunks = 800\n",
    "chunks = pd.read_json(file_path, lines=True, chunksize=chunk_size, compression='gzip')\n",
    "\n",
    "df_list = []\n",
    "\n",
    "for i, chunk in enumerate(chunks):\n",
    "    if i >= num_chunks:\n",
    "        break\n",
    "    df_list.append(chunk)\n",
    "\n",
    "genres = pd.concat(df_list, ignore_index=True)"
   ]
  },
  {
   "cell_type": "code",
   "execution_count": 5,
   "metadata": {},
   "outputs": [],
   "source": [
    "file_path = os.path.join(DIR, 'goodreads_reviews_dedup.json.gz')\n",
    "\n",
    "chunk_size = 1000\n",
    "num_chunks = 1000\n",
    "chunks = pd.read_json(file_path, lines=True, chunksize=chunk_size, compression='gzip')\n",
    "\n",
    "df_list = []\n",
    "\n",
    "for i, chunk in enumerate(chunks):\n",
    "    if i >= num_chunks:\n",
    "        break\n",
    "    df_list.append(chunk)\n",
    "\n",
    "reviews = pd.concat(df_list, ignore_index=True)"
   ]
  },
  {
   "cell_type": "code",
   "execution_count": 6,
   "metadata": {},
   "outputs": [],
   "source": [
    "file_path = os.path.join(DIR, 'goodreads_interactions_dedup.json.gz')\n",
    "\n",
    "chunk_size = 1000\n",
    "num_chunks = 1000\n",
    "chunks = pd.read_json(file_path, lines=True, chunksize=chunk_size, compression='gzip')\n",
    "\n",
    "df_list = []\n",
    "\n",
    "for i, chunk in enumerate(chunks):\n",
    "    if i >= num_chunks:\n",
    "        break\n",
    "    df_list.append(chunk)\n",
    "\n",
    "interactions = pd.concat(df_list, ignore_index=True)"
   ]
  },
  {
   "cell_type": "code",
   "execution_count": null,
   "metadata": {},
   "outputs": [],
   "source": [
    "read.to_pickle('Pickle/read.pkl')\n",
    "genres.to_pickle('Pickle/genres.pkl')\n",
    "authors.to_pickle('Pickle/authors.pkl')\n",
    "user_map.to_pickle('Pickle/user_map.pkl')\n",
    "book_map.to_pickle('Pickle/book_map.pkl')"
   ]
  },
  {
   "cell_type": "code",
   "execution_count": 8,
   "metadata": {},
   "outputs": [],
   "source": [
    "interactions.to_pickle('Pickle/interactions.pkl')\n",
    "reviews.to_pickle('Pickle/reviews.pkl')"
   ]
  },
  {
   "cell_type": "code",
   "execution_count": 4,
   "metadata": {},
   "outputs": [],
   "source": [
    "books.to_pickle('Pickle/books.pkl')"
   ]
  },
  {
   "cell_type": "code",
   "execution_count": null,
   "metadata": {},
   "outputs": [],
   "source": []
  }
 ],
 "metadata": {
  "kernelspec": {
   "display_name": "goodreads",
   "language": "python",
   "name": "python3"
  },
  "language_info": {
   "codemirror_mode": {
    "name": "ipython",
    "version": 3
   },
   "file_extension": ".py",
   "mimetype": "text/x-python",
   "name": "python",
   "nbconvert_exporter": "python",
   "pygments_lexer": "ipython3",
   "version": "3.12.3"
  }
 },
 "nbformat": 4,
 "nbformat_minor": 2
}
