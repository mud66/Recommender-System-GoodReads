{
 "cells": [
  {
   "cell_type": "code",
   "execution_count": null,
   "metadata": {},
   "outputs": [],
   "source": [
    "import pandas as pd\n",
    "import os\n",
    "import numpy as np\n",
    "from sentence_transformers import SentenceTransformer\n",
    "from sklearn.metrics.pairwise import cosine_similarity\n",
    "from sklearn.decomposition import PCA\n",
    "import nltk\n",
    "nltk.download('all')"
   ]
  },
  {
   "cell_type": "code",
   "execution_count": 2,
   "metadata": {},
   "outputs": [],
   "source": [
    "interactions_csv = pd.read_csv('Data/goodreads_interactions.csv', header = 0)"
   ]
  },
  {
   "cell_type": "code",
   "execution_count": null,
   "metadata": {},
   "outputs": [],
   "source": [
    "DIR = 'Data'\n",
    "\n",
    "def load_data(file_path, chunk_size, num_chunks):\n",
    "    chunks = pd.read_json(file_path, lines=True, chunksize=chunk_size, compression='gzip')\n",
    "    return pd.concat([chunk for i, chunk in enumerate(chunks) if i < num_chunks], ignore_index=True)\n",
    "\n",
    "# Load interactions data\n",
    "interactions_csv = pd.read_csv(os.path.join(DIR, 'goodreads_interactions.csv'), header=0)\n",
    "\n",
    "# Load books data\n",
    "books_file_path = os.path.join(DIR, 'goodreads_books.json.gz')\n",
    "books = load_data(books_file_path, chunk_size=1000, num_chunks=100)\n",
    "\n",
    "# Load genres data\n",
    "genres_file_path = os.path.join(DIR, 'goodreads_book_genres_initial.json.gz')\n",
    "genres = load_data(genres_file_path, chunk_size=1000, num_chunks=1)"
   ]
  },
  {
   "cell_type": "code",
   "execution_count": 4,
   "metadata": {},
   "outputs": [],
   "source": [
    "def remove_blank_rows(df, column_name):\n",
    "    df_cleaned = df[df[column_name].str.strip() != '']\n",
    "    return df_cleaned\n",
    "\n",
    "books = remove_blank_rows(books, 'description')"
   ]
  },
  {
   "cell_type": "code",
   "execution_count": 6,
   "metadata": {},
   "outputs": [],
   "source": [
    "interactions_csv = interactions_csv[interactions_csv['is_read'] == 1]"
   ]
  },
  {
   "cell_type": "code",
   "execution_count": 7,
   "metadata": {},
   "outputs": [],
   "source": [
    "eligible_users = interactions_csv.groupby('user_id').filter(lambda x: len(x) >= 3)['user_id'].drop_duplicates()\n",
    "\n",
    "# Sample 60 random users from eligible users\n",
    "sampled_users = eligible_users.sample(n=10, random_state=42)\n",
    "\n",
    "# Get all books read by these sampled users\n",
    "sampled_books = interactions_csv[interactions_csv['user_id'].isin(sampled_users)]['book_id'].unique()\n",
    "\n",
    "# Ensure books_df contains these books\n",
    "filtered_books_df = books[books['book_id'].isin(sampled_books)]\n",
    "\n",
    "# If there are fewer than required books, add more randomly from books_df\n",
    "if len(filtered_books_df) < 10000:\n",
    "    additional_books_needed = 10000 - len(filtered_books_df)\n",
    "    remaining_books = books[~books['book_id'].isin(filtered_books_df['book_id'])]\n",
    "    additional_books = remaining_books.sample(n=additional_books_needed, random_state=42)\n",
    "    books = pd.concat([filtered_books_df, additional_books], ignore_index=True)"
   ]
  },
  {
   "cell_type": "code",
   "execution_count": 8,
   "metadata": {},
   "outputs": [],
   "source": [
    "def extract_genres(genre_dict):\n",
    "    return list(genre_dict.keys())\n",
    "\n",
    "genres['genre_names'] = genres['genres'].apply(extract_genres)"
   ]
  },
  {
   "cell_type": "code",
   "execution_count": 9,
   "metadata": {},
   "outputs": [],
   "source": [
    "genres = genres.sort_values(by='book_id')\n",
    "books = books.sort_values(by='book_id')"
   ]
  },
  {
   "cell_type": "code",
   "execution_count": 10,
   "metadata": {},
   "outputs": [],
   "source": [
    "books = books.copy()\n",
    "books = books[['description', 'title', 'authors', 'book_id']]\n",
    "books = pd.merge(books, genres, on='book_id', how='left')"
   ]
  },
  {
   "cell_type": "code",
   "execution_count": 11,
   "metadata": {},
   "outputs": [],
   "source": [
    "books.reset_index(drop=True, inplace=True)\n",
    "interactions_csv.reset_index(drop=True, inplace=True)"
   ]
  },
  {
   "cell_type": "code",
   "execution_count": 12,
   "metadata": {},
   "outputs": [],
   "source": [
    "def combine_description_and_genres(row):\n",
    "    genres_str = ' '.join(row['genre_names'])\n",
    "    return f\"{row['description']} {genres_str}\"\n",
    "\n",
    "books['combined_text'] = books.apply(combine_description_and_genres, axis=1)"
   ]
  },
  {
   "cell_type": "code",
   "execution_count": null,
   "metadata": {},
   "outputs": [],
   "source": [
    "model = SentenceTransformer('all-MiniLM-L6-v2')"
   ]
  },
  {
   "cell_type": "code",
   "execution_count": null,
   "metadata": {},
   "outputs": [],
   "source": [
    "from tqdm import tqdm\n",
    "tqdm.pandas()\n",
    "books['embeddings'] = books['combined_text'].progress_apply(lambda x: model.encode(x))"
   ]
  },
  {
   "cell_type": "code",
   "execution_count": 20,
   "metadata": {},
   "outputs": [],
   "source": [
    "embedding_matrix = np.vstack(books['embeddings'].values)"
   ]
  },
  {
   "cell_type": "code",
   "execution_count": null,
   "metadata": {},
   "outputs": [],
   "source": [
    "pca = PCA(n_components=50)\n",
    "embedding_matrix = pca.fit_transform(embedding_matrix)"
   ]
  },
  {
   "cell_type": "code",
   "execution_count": 21,
   "metadata": {},
   "outputs": [],
   "source": [
    "cosine_sim = cosine_similarity(embedding_matrix, embedding_matrix)"
   ]
  },
  {
   "cell_type": "markdown",
   "metadata": {},
   "source": [
    "given book get top 5 most similar"
   ]
  },
  {
   "cell_type": "code",
   "execution_count": 22,
   "metadata": {},
   "outputs": [],
   "source": [
    "def get_recommendations(book_id, books_df, cosine_sim):\n",
    "    # Check if book_id is in books_df\n",
    "    if book_id not in books_df['book_id'].values:\n",
    "        print(f\"Book ID {book_id} not found in the books dataframe.\")\n",
    "        return pd.DataFrame(columns=['title', 'authors'])\n",
    "\n",
    "    # Get the index of the given book_id\n",
    "    book_idx = books_df[books_df['book_id'] == book_id].index[0]\n",
    "\n",
    "    # Calculate similarity scores\n",
    "    sim_scores = list(enumerate(cosine_sim[book_idx]))\n",
    "\n",
    "    # Sort books based on the similarity scores\n",
    "    sim_scores = sorted(sim_scores, key=lambda x: x[1], reverse=True)\n",
    "\n",
    "    # Get the indices of the top 5 most similar books\n",
    "    top_book_indices = [i[0] for i in sim_scores[1:6]]\n",
    "\n",
    "    # Get the top 5 most similar books\n",
    "    top_books = books_df.iloc[top_book_indices]\n",
    "\n",
    "    return top_books[['title', 'authors']]\n",
    "\n"
   ]
  },
  {
   "cell_type": "code",
   "execution_count": null,
   "metadata": {},
   "outputs": [],
   "source": [
    "book_id = 1402\t\n",
    "recommendations = get_recommendations(book_id, books, cosine_sim)\n",
    "print(recommendations)\n"
   ]
  },
  {
   "cell_type": "code",
   "execution_count": 24,
   "metadata": {},
   "outputs": [],
   "source": [
    "def get_top_rated_books(books_df, interactions_df):\n",
    "    top_rated_books = interactions_df.groupby('book_id')['rating'].mean().sort_values(ascending=False).head(5)\n",
    "    top_rated_books_df = pd.merge(books_df, top_rated_books.reset_index(), on='book_id')\n",
    "    return top_rated_books_df[['title', 'authors']]"
   ]
  },
  {
   "cell_type": "markdown",
   "metadata": {},
   "source": [
    "given user get to 5 most similar books based on all books read"
   ]
  },
  {
   "cell_type": "code",
   "execution_count": 27,
   "metadata": {},
   "outputs": [],
   "source": [
    "def get_user_recommendations(user_id, books_df, interactions_df, cosine_sim):\n",
    "    # Check if user_id is in interactions_df\n",
    "    if user_id not in interactions_df['user_id'].values:\n",
    "        print(f\"User {user_id} not found in the interactions dataframe.\")\n",
    "        return pd.DataFrame(columns=['title', 'authors'])\n",
    "    \n",
    "    # Books read by user\n",
    "    user_books = interactions_df[(interactions_df['user_id'] == user_id) & (interactions_df['is_read'] == 1)]['book_id']\n",
    "    \n",
    "    if user_books.empty:\n",
    "        return get_top_rated_books(books_df, interactions_df)\n",
    "    \n",
    "    # Find indices of books read by user in books_df\n",
    "    read_books_indices = books_df[books_df['book_id'].isin(user_books)].index.tolist()\n",
    "    \n",
    "    if not read_books_indices:\n",
    "        print(f\"No valid book indices found for user {user_id}.\")\n",
    "        return pd.DataFrame(columns=['title', 'authors'])\n",
    "    \n",
    "    # Similarity scores for unread books compared to read books\n",
    "    sim_scores = cosine_sim[read_books_indices].mean(axis=0)\n",
    "    \n",
    "    # All book_ids in books_df minus user_books\n",
    "    unread_books = books_df[~books_df['book_id'].isin(user_books)]\n",
    "    unread_books_indices = unread_books.index.tolist()\n",
    "    \n",
    "    if not unread_books_indices:\n",
    "        return get_top_rated_books(books_df, interactions_df)\n",
    "    \n",
    "    # Sort unread books on similarity scores\n",
    "    sim_scores_unread = [(i, sim_scores[i]) for i in unread_books_indices]\n",
    "    sim_scores_unread = sorted(sim_scores_unread, key=lambda x: x[1], reverse=True)\n",
    "    \n",
    "    # Indices of top 5 most similar unread books\n",
    "    top_book_indices = [i[0] for i in sim_scores_unread[:5]]\n",
    "    \n",
    "    # Top 5 most similar unread books\n",
    "    top_books = books_df.iloc[top_book_indices]\n",
    "    \n",
    "    return top_books[['book_id','title', 'authors']]\n"
   ]
  },
  {
   "cell_type": "code",
   "execution_count": null,
   "metadata": {},
   "outputs": [],
   "source": [
    "user_id = 382087            \n",
    "\n",
    "recommendations = get_user_recommendations(user_id, books, interactions_csv, cosine_sim)\n",
    "print(recommendations)"
   ]
  },
  {
   "cell_type": "code",
   "execution_count": null,
   "metadata": {},
   "outputs": [],
   "source": [
    "user_id = 190085                      \n",
    "\n",
    "recommendations = get_user_recommendations(user_id, books, interactions_csv, cosine_sim)\n",
    "print(recommendations)"
   ]
  },
  {
   "cell_type": "code",
   "execution_count": null,
   "metadata": {},
   "outputs": [],
   "source": [
    "user_id = 722257                                            \n",
    "\n",
    "recommendations = get_user_recommendations(user_id, books, interactions_csv, cosine_sim)\n",
    "print(recommendations)"
   ]
  },
  {
   "cell_type": "code",
   "execution_count": null,
   "metadata": {},
   "outputs": [],
   "source": [
    "user_id = 69996                              \n",
    "\n",
    "recommendations = get_user_recommendations(user_id, books, interactions_csv, cosine_sim)\n",
    "print(recommendations)"
   ]
  },
  {
   "cell_type": "code",
   "execution_count": 48,
   "metadata": {},
   "outputs": [],
   "source": [
    "from sklearn.metrics import root_mean_squared_error, mean_absolute_error\n",
    "import numpy as np\n",
    "\n",
    "def evaluate_recommendations(user_id, books_df, interactions_df, cosine_sim, k=5):\n",
    "    # Get recommendations\n",
    "    recommendations = get_user_recommendations(user_id, books_df, interactions_df, cosine_sim)\n",
    "    \n",
    "    # Get actual books read by the user\n",
    "    actual_books = interactions_df[(interactions_df['user_id'] == user_id) & (interactions_df['is_read'] == 1)]['book_id'].tolist()\n",
    "    \n",
    "    if not actual_books:\n",
    "        return {'ndcg_at_k': float('nan'), 'mae': float('nan'), 'rmse': float('nan')}\n",
    "    \n",
    "    # NDCG @ k\n",
    "    def dcg_at_k(rank_ordered):\n",
    "        dcg = 0\n",
    "        for i, rating in enumerate(rank_ordered):\n",
    "            dcg += rating / np.log2(i + 2)\n",
    "        return dcg\n",
    "\n",
    "    def ndcg_at_k(ratings):\n",
    "        idcg = dcg_at_k(sorted(ratings, reverse=True))\n",
    "        dcg = dcg_at_k(ratings)\n",
    "        return dcg / idcg if idcg > 0 else 0\n",
    "\n",
    "    recommended_books = recommendations['book_id'].tolist()\n",
    "    actual_ratings_df = interactions_df[interactions_df['book_id'].isin(recommended_books) & (interactions_df['user_id'] == user_id)]\n",
    "    \n",
    "    actual_ratings = actual_ratings_df['rating'].fillna(0).tolist()\n",
    "    if not actual_ratings:\n",
    "        # Use average rating from overall interactions as fallback\n",
    "        actual_ratings = [interactions_df[interactions_df['book_id'] == book]['rating'].mean() for book in recommended_books]\n",
    "        actual_ratings = [rating if not np.isnan(rating) else 0 for rating in actual_ratings]\n",
    "    \n",
    "    ndcg_at_k_score = ndcg_at_k(actual_ratings[:k])\n",
    "    \n",
    "    # MAE and RMSE\n",
    "    mae = mean_absolute_error(actual_ratings, actual_ratings) if actual_ratings else float('nan')\n",
    "    rmse = root_mean_squared_error(actual_ratings, actual_ratings) if actual_ratings else float('nan')\n",
    "    \n",
    "    return {\n",
    "        'ndcg_at_k': ndcg_at_k_score,\n",
    "        'mae': mae,\n",
    "        'rmse': rmse\n",
    "    }\n"
   ]
  },
  {
   "cell_type": "code",
   "execution_count": null,
   "metadata": {},
   "outputs": [],
   "source": [
    "user_id = 382087\n",
    "evaluation_metrics = evaluate_recommendations(user_id, books, interactions_csv, cosine_sim)\n",
    "print(evaluation_metrics)"
   ]
  },
  {
   "cell_type": "code",
   "execution_count": null,
   "metadata": {},
   "outputs": [],
   "source": [
    "def evaluate_recommendations_all_users(books_df, interactions_df, cosine_sim, k=5):\n",
    "    all_users = interactions_df['user_id'].unique()\n",
    "    results = {\n",
    "        'ndcg_at_k': [],\n",
    "        'mae': [],\n",
    "        'rmse': []\n",
    "    }\n",
    "\n",
    "    for user_id in all_users:\n",
    "        metrics = evaluate_recommendations(user_id, books_df, interactions_df, cosine_sim, k)\n",
    "        results['ndcg_at_k'].append(metrics['ndcg_at_k'])\n",
    "        results['mae'].append(metrics['mae'])\n",
    "        results['rmse'].append(metrics['rmse'])\n",
    "    \n",
    "    # Aggregate results\n",
    "    aggregated_results = {metric: np.nanmean(results[metric]) for metric in results}\n",
    "    \n",
    "    return aggregated_results\n",
    "\n",
    "# Example usage\n",
    "aggregated_evaluation_metrics = evaluate_recommendations_all_users(books, interactions_csv, cosine_sim)\n",
    "print(aggregated_evaluation_metrics)\n"
   ]
  },
  {
   "cell_type": "code",
   "execution_count": null,
   "metadata": {},
   "outputs": [],
   "source": []
  }
 ],
 "metadata": {
  "kernelspec": {
   "display_name": "goodreads",
   "language": "python",
   "name": "python3"
  },
  "language_info": {
   "codemirror_mode": {
    "name": "ipython",
    "version": 3
   },
   "file_extension": ".py",
   "mimetype": "text/x-python",
   "name": "python",
   "nbconvert_exporter": "python",
   "pygments_lexer": "ipython3",
   "version": "3.12.4"
  }
 },
 "nbformat": 4,
 "nbformat_minor": 2
}
